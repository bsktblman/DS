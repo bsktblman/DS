{
 "cells": [
  {
   "cell_type": "markdown",
   "metadata": {},
   "source": [
    "# Анализ продаж компьютерных игр интернет-магазина \"Стримчик\""
   ]
  },
  {
   "cell_type": "markdown",
   "metadata": {},
   "source": [
    "Из открытых источников доступны исторические данные о продажах игр до 2016 года, оценки пользователей и экспертов, жанры и платформы. Нам нужно выявить определяющие успешность игры закономерности. Это позволит сделать ставку на потенциально популярный продукт и спланировать рекламные кампании.\n",
    "\n",
    "ТЗ:\n",
    "\n",
    "1) Изучение общей информации\n",
    "\n",
    "2) Предобработка данных\n",
    "\n",
    "3) Исследовательский анализ\n",
    "\n",
    "    - Посмотрите, сколько игр выпускалось в разные годы. Важны ли данные за все периоды?\n",
    "    \n",
    "    - Посмотрите, как менялись продажи по платформам. Выберите платформы с наибольшими суммарными продажами и постройте распределение по годам. За какой характерный срок появляются новые и исчезают старые платформы?\n",
    "    \n",
    "    - Возьмите данные за соответствующий актуальный период. Актуальный период определите самостоятельно в результате исследования предыдущих вопросов. Основной фактор — эти данные помогут построить прогноз на 2017 год.\n",
    "\n",
    "    - Не учитывайте в работе данные за предыдущие годы.\n",
    "    \n",
    "    - Какие платформы лидируют по продажам, растут или падают? Выберите несколько потенциально прибыльных платформ.\n",
    "    \n",
    "    - Постройте график «ящик с усами» по глобальным продажам игр в разбивке по платформам. Опишите результат.\n",
    "    \n",
    "    - Посмотрите, как влияют на продажи внутри одной популярной платформы отзывы пользователей и критиков. Постройте диаграмму рассеяния и посчитайте корреляцию между отзывами и продажами. Сформулируйте выводы.\n",
    "    \n",
    "    - Соотнесите выводы с продажами игр на других платформах.\n",
    "    \n",
    "    - Посмотрите на общее распределение игр по жанрам. Что можно сказать о самых прибыльных жанрах? Выделяются ли жанры с высокими и низкими продажами?\n",
    "    \n",
    "4) Составление портрета пользователя каждого региона\n",
    "\n",
    "Определите для пользователя каждого региона (NA, EU, JP):\n",
    "\n",
    "    - Самые популярные платформы (топ-5). Опишите различия в долях продаж.\n",
    "    - Самые популярные жанры (топ-5). Поясните разницу.\n",
    "    - Влияет ли рейтинг ESRB на продажи в отдельном регионе?\n",
    "    \n",
    "5) Проверка гипотез\n",
    "\n",
    "    ? - Средние пользовательские рейтинги платформ Xbox One и PC одинаковые;\n",
    "    ? - Средние пользовательские рейтинги жанров Action и Sports разные."
   ]
  },
  {
   "cell_type": "markdown",
   "metadata": {},
   "source": [
    "# 1) Изучение общей информации"
   ]
  },
  {
   "cell_type": "code",
   "execution_count": 1,
   "metadata": {},
   "outputs": [],
   "source": [
    "import pandas as pd\n",
    "import numpy as np\n",
    "import scipy.stats as st\n",
    "import matplotlib.pyplot as plt"
   ]
  },
  {
   "cell_type": "markdown",
   "metadata": {},
   "source": [
    "Считаем данные из csv-файла:"
   ]
  },
  {
   "cell_type": "code",
   "execution_count": 2,
   "metadata": {},
   "outputs": [],
   "source": [
    "df = pd.read_csv('/datasets/games.csv')"
   ]
  },
  {
   "cell_type": "markdown",
   "metadata": {},
   "source": [
    "Изучим считанные данные:"
   ]
  },
  {
   "cell_type": "code",
   "execution_count": 3,
   "metadata": {},
   "outputs": [
    {
     "data": {
      "text/html": [
       "<div>\n",
       "<style scoped>\n",
       "    .dataframe tbody tr th:only-of-type {\n",
       "        vertical-align: middle;\n",
       "    }\n",
       "\n",
       "    .dataframe tbody tr th {\n",
       "        vertical-align: top;\n",
       "    }\n",
       "\n",
       "    .dataframe thead th {\n",
       "        text-align: right;\n",
       "    }\n",
       "</style>\n",
       "<table border=\"1\" class=\"dataframe\">\n",
       "  <thead>\n",
       "    <tr style=\"text-align: right;\">\n",
       "      <th></th>\n",
       "      <th>Name</th>\n",
       "      <th>Platform</th>\n",
       "      <th>Year_of_Release</th>\n",
       "      <th>Genre</th>\n",
       "      <th>NA_sales</th>\n",
       "      <th>EU_sales</th>\n",
       "      <th>JP_sales</th>\n",
       "      <th>Other_sales</th>\n",
       "      <th>Critic_Score</th>\n",
       "      <th>User_Score</th>\n",
       "      <th>Rating</th>\n",
       "    </tr>\n",
       "  </thead>\n",
       "  <tbody>\n",
       "    <tr>\n",
       "      <th>0</th>\n",
       "      <td>Wii Sports</td>\n",
       "      <td>Wii</td>\n",
       "      <td>2006.0</td>\n",
       "      <td>Sports</td>\n",
       "      <td>41.36</td>\n",
       "      <td>28.96</td>\n",
       "      <td>3.77</td>\n",
       "      <td>8.45</td>\n",
       "      <td>76.0</td>\n",
       "      <td>8</td>\n",
       "      <td>E</td>\n",
       "    </tr>\n",
       "    <tr>\n",
       "      <th>1</th>\n",
       "      <td>Super Mario Bros.</td>\n",
       "      <td>NES</td>\n",
       "      <td>1985.0</td>\n",
       "      <td>Platform</td>\n",
       "      <td>29.08</td>\n",
       "      <td>3.58</td>\n",
       "      <td>6.81</td>\n",
       "      <td>0.77</td>\n",
       "      <td>NaN</td>\n",
       "      <td>NaN</td>\n",
       "      <td>NaN</td>\n",
       "    </tr>\n",
       "    <tr>\n",
       "      <th>2</th>\n",
       "      <td>Mario Kart Wii</td>\n",
       "      <td>Wii</td>\n",
       "      <td>2008.0</td>\n",
       "      <td>Racing</td>\n",
       "      <td>15.68</td>\n",
       "      <td>12.76</td>\n",
       "      <td>3.79</td>\n",
       "      <td>3.29</td>\n",
       "      <td>82.0</td>\n",
       "      <td>8.3</td>\n",
       "      <td>E</td>\n",
       "    </tr>\n",
       "    <tr>\n",
       "      <th>3</th>\n",
       "      <td>Wii Sports Resort</td>\n",
       "      <td>Wii</td>\n",
       "      <td>2009.0</td>\n",
       "      <td>Sports</td>\n",
       "      <td>15.61</td>\n",
       "      <td>10.93</td>\n",
       "      <td>3.28</td>\n",
       "      <td>2.95</td>\n",
       "      <td>80.0</td>\n",
       "      <td>8</td>\n",
       "      <td>E</td>\n",
       "    </tr>\n",
       "    <tr>\n",
       "      <th>4</th>\n",
       "      <td>Pokemon Red/Pokemon Blue</td>\n",
       "      <td>GB</td>\n",
       "      <td>1996.0</td>\n",
       "      <td>Role-Playing</td>\n",
       "      <td>11.27</td>\n",
       "      <td>8.89</td>\n",
       "      <td>10.22</td>\n",
       "      <td>1.00</td>\n",
       "      <td>NaN</td>\n",
       "      <td>NaN</td>\n",
       "      <td>NaN</td>\n",
       "    </tr>\n",
       "    <tr>\n",
       "      <th>5</th>\n",
       "      <td>Tetris</td>\n",
       "      <td>GB</td>\n",
       "      <td>1989.0</td>\n",
       "      <td>Puzzle</td>\n",
       "      <td>23.20</td>\n",
       "      <td>2.26</td>\n",
       "      <td>4.22</td>\n",
       "      <td>0.58</td>\n",
       "      <td>NaN</td>\n",
       "      <td>NaN</td>\n",
       "      <td>NaN</td>\n",
       "    </tr>\n",
       "    <tr>\n",
       "      <th>6</th>\n",
       "      <td>New Super Mario Bros.</td>\n",
       "      <td>DS</td>\n",
       "      <td>2006.0</td>\n",
       "      <td>Platform</td>\n",
       "      <td>11.28</td>\n",
       "      <td>9.14</td>\n",
       "      <td>6.50</td>\n",
       "      <td>2.88</td>\n",
       "      <td>89.0</td>\n",
       "      <td>8.5</td>\n",
       "      <td>E</td>\n",
       "    </tr>\n",
       "    <tr>\n",
       "      <th>7</th>\n",
       "      <td>Wii Play</td>\n",
       "      <td>Wii</td>\n",
       "      <td>2006.0</td>\n",
       "      <td>Misc</td>\n",
       "      <td>13.96</td>\n",
       "      <td>9.18</td>\n",
       "      <td>2.93</td>\n",
       "      <td>2.84</td>\n",
       "      <td>58.0</td>\n",
       "      <td>6.6</td>\n",
       "      <td>E</td>\n",
       "    </tr>\n",
       "    <tr>\n",
       "      <th>8</th>\n",
       "      <td>New Super Mario Bros. Wii</td>\n",
       "      <td>Wii</td>\n",
       "      <td>2009.0</td>\n",
       "      <td>Platform</td>\n",
       "      <td>14.44</td>\n",
       "      <td>6.94</td>\n",
       "      <td>4.70</td>\n",
       "      <td>2.24</td>\n",
       "      <td>87.0</td>\n",
       "      <td>8.4</td>\n",
       "      <td>E</td>\n",
       "    </tr>\n",
       "    <tr>\n",
       "      <th>9</th>\n",
       "      <td>Duck Hunt</td>\n",
       "      <td>NES</td>\n",
       "      <td>1984.0</td>\n",
       "      <td>Shooter</td>\n",
       "      <td>26.93</td>\n",
       "      <td>0.63</td>\n",
       "      <td>0.28</td>\n",
       "      <td>0.47</td>\n",
       "      <td>NaN</td>\n",
       "      <td>NaN</td>\n",
       "      <td>NaN</td>\n",
       "    </tr>\n",
       "  </tbody>\n",
       "</table>\n",
       "</div>"
      ],
      "text/plain": [
       "                        Name Platform  Year_of_Release         Genre  \\\n",
       "0                 Wii Sports      Wii           2006.0        Sports   \n",
       "1          Super Mario Bros.      NES           1985.0      Platform   \n",
       "2             Mario Kart Wii      Wii           2008.0        Racing   \n",
       "3          Wii Sports Resort      Wii           2009.0        Sports   \n",
       "4   Pokemon Red/Pokemon Blue       GB           1996.0  Role-Playing   \n",
       "5                     Tetris       GB           1989.0        Puzzle   \n",
       "6      New Super Mario Bros.       DS           2006.0      Platform   \n",
       "7                   Wii Play      Wii           2006.0          Misc   \n",
       "8  New Super Mario Bros. Wii      Wii           2009.0      Platform   \n",
       "9                  Duck Hunt      NES           1984.0       Shooter   \n",
       "\n",
       "   NA_sales  EU_sales  JP_sales  Other_sales  Critic_Score User_Score Rating  \n",
       "0     41.36     28.96      3.77         8.45          76.0          8      E  \n",
       "1     29.08      3.58      6.81         0.77           NaN        NaN    NaN  \n",
       "2     15.68     12.76      3.79         3.29          82.0        8.3      E  \n",
       "3     15.61     10.93      3.28         2.95          80.0          8      E  \n",
       "4     11.27      8.89     10.22         1.00           NaN        NaN    NaN  \n",
       "5     23.20      2.26      4.22         0.58           NaN        NaN    NaN  \n",
       "6     11.28      9.14      6.50         2.88          89.0        8.5      E  \n",
       "7     13.96      9.18      2.93         2.84          58.0        6.6      E  \n",
       "8     14.44      6.94      4.70         2.24          87.0        8.4      E  \n",
       "9     26.93      0.63      0.28         0.47           NaN        NaN    NaN  "
      ]
     },
     "execution_count": 3,
     "metadata": {},
     "output_type": "execute_result"
    }
   ],
   "source": [
    "df.head(10)"
   ]
  },
  {
   "cell_type": "code",
   "execution_count": 4,
   "metadata": {},
   "outputs": [
    {
     "name": "stdout",
     "output_type": "stream",
     "text": [
      "<class 'pandas.core.frame.DataFrame'>\n",
      "RangeIndex: 16715 entries, 0 to 16714\n",
      "Data columns (total 11 columns):\n",
      " #   Column           Non-Null Count  Dtype  \n",
      "---  ------           --------------  -----  \n",
      " 0   Name             16713 non-null  object \n",
      " 1   Platform         16715 non-null  object \n",
      " 2   Year_of_Release  16446 non-null  float64\n",
      " 3   Genre            16713 non-null  object \n",
      " 4   NA_sales         16715 non-null  float64\n",
      " 5   EU_sales         16715 non-null  float64\n",
      " 6   JP_sales         16715 non-null  float64\n",
      " 7   Other_sales      16715 non-null  float64\n",
      " 8   Critic_Score     8137 non-null   float64\n",
      " 9   User_Score       10014 non-null  object \n",
      " 10  Rating           9949 non-null   object \n",
      "dtypes: float64(6), object(5)\n",
      "memory usage: 1.4+ MB\n"
     ]
    }
   ],
   "source": [
    "df.info()"
   ]
  },
  {
   "cell_type": "markdown",
   "metadata": {},
   "source": [
    "Сразу можно заметить, что данные нужно предобработать, так как в них присутствуют пропуски, неправильно названы столбцы, данные имеют некорректный тип данных. Займёмся этим в следующем этапе."
   ]
  },
  {
   "cell_type": "markdown",
   "metadata": {},
   "source": [
    "# 2) Предобработка данных"
   ]
  },
  {
   "cell_type": "markdown",
   "metadata": {},
   "source": [
    "Переименуем столбцы датафрейма согласно стилю snake_style:"
   ]
  },
  {
   "cell_type": "code",
   "execution_count": 5,
   "metadata": {},
   "outputs": [],
   "source": [
    "df.columns = map(str.lower, df.columns)"
   ]
  },
  {
   "cell_type": "markdown",
   "metadata": {},
   "source": [
    "Проверим корректность изменений:"
   ]
  },
  {
   "cell_type": "code",
   "execution_count": 6,
   "metadata": {},
   "outputs": [
    {
     "name": "stdout",
     "output_type": "stream",
     "text": [
      "<class 'pandas.core.frame.DataFrame'>\n",
      "RangeIndex: 16715 entries, 0 to 16714\n",
      "Data columns (total 11 columns):\n",
      " #   Column           Non-Null Count  Dtype  \n",
      "---  ------           --------------  -----  \n",
      " 0   name             16713 non-null  object \n",
      " 1   platform         16715 non-null  object \n",
      " 2   year_of_release  16446 non-null  float64\n",
      " 3   genre            16713 non-null  object \n",
      " 4   na_sales         16715 non-null  float64\n",
      " 5   eu_sales         16715 non-null  float64\n",
      " 6   jp_sales         16715 non-null  float64\n",
      " 7   other_sales      16715 non-null  float64\n",
      " 8   critic_score     8137 non-null   float64\n",
      " 9   user_score       10014 non-null  object \n",
      " 10  rating           9949 non-null   object \n",
      "dtypes: float64(6), object(5)\n",
      "memory usage: 1.4+ MB\n"
     ]
    }
   ],
   "source": [
    "df.info()"
   ]
  },
  {
   "cell_type": "markdown",
   "metadata": {},
   "source": [
    "Преобразуем стобец `year_of_release` к целочисленному типу, так как номера годов описываются только целыми числами:"
   ]
  },
  {
   "cell_type": "code",
   "execution_count": 7,
   "metadata": {},
   "outputs": [],
   "source": [
    "df['year_of_release'] = df['year_of_release'].astype(dtype='Int32', errors='ignore')"
   ]
  },
  {
   "cell_type": "markdown",
   "metadata": {},
   "source": [
    "Кроме того, можно было бы преобразовать все столбцы с типом данных `float64` к `float32` в целях экономии памяти, но так как исходный датафрейм занимает всего 1.4 Мбайт памяти, то это преобразование по-моему излишне"
   ]
  },
  {
   "cell_type": "markdown",
   "metadata": {},
   "source": [
    "Проверим изменения:"
   ]
  },
  {
   "cell_type": "code",
   "execution_count": 8,
   "metadata": {},
   "outputs": [
    {
     "name": "stdout",
     "output_type": "stream",
     "text": [
      "<class 'pandas.core.frame.DataFrame'>\n",
      "RangeIndex: 16715 entries, 0 to 16714\n",
      "Data columns (total 11 columns):\n",
      " #   Column           Non-Null Count  Dtype  \n",
      "---  ------           --------------  -----  \n",
      " 0   name             16713 non-null  object \n",
      " 1   platform         16715 non-null  object \n",
      " 2   year_of_release  16446 non-null  Int32  \n",
      " 3   genre            16713 non-null  object \n",
      " 4   na_sales         16715 non-null  float64\n",
      " 5   eu_sales         16715 non-null  float64\n",
      " 6   jp_sales         16715 non-null  float64\n",
      " 7   other_sales      16715 non-null  float64\n",
      " 8   critic_score     8137 non-null   float64\n",
      " 9   user_score       10014 non-null  object \n",
      " 10  rating           9949 non-null   object \n",
      "dtypes: Int32(1), float64(5), object(5)\n",
      "memory usage: 1.4+ MB\n"
     ]
    }
   ],
   "source": [
    "df.info()"
   ]
  },
  {
   "cell_type": "code",
   "execution_count": 9,
   "metadata": {},
   "outputs": [
    {
     "data": {
      "text/html": [
       "<div>\n",
       "<style scoped>\n",
       "    .dataframe tbody tr th:only-of-type {\n",
       "        vertical-align: middle;\n",
       "    }\n",
       "\n",
       "    .dataframe tbody tr th {\n",
       "        vertical-align: top;\n",
       "    }\n",
       "\n",
       "    .dataframe thead th {\n",
       "        text-align: right;\n",
       "    }\n",
       "</style>\n",
       "<table border=\"1\" class=\"dataframe\">\n",
       "  <thead>\n",
       "    <tr style=\"text-align: right;\">\n",
       "      <th></th>\n",
       "      <th>name</th>\n",
       "      <th>platform</th>\n",
       "      <th>year_of_release</th>\n",
       "      <th>genre</th>\n",
       "      <th>na_sales</th>\n",
       "      <th>eu_sales</th>\n",
       "      <th>jp_sales</th>\n",
       "      <th>other_sales</th>\n",
       "      <th>critic_score</th>\n",
       "      <th>user_score</th>\n",
       "      <th>rating</th>\n",
       "    </tr>\n",
       "  </thead>\n",
       "  <tbody>\n",
       "    <tr>\n",
       "      <th>0</th>\n",
       "      <td>Wii Sports</td>\n",
       "      <td>Wii</td>\n",
       "      <td>2006</td>\n",
       "      <td>Sports</td>\n",
       "      <td>41.36</td>\n",
       "      <td>28.96</td>\n",
       "      <td>3.77</td>\n",
       "      <td>8.45</td>\n",
       "      <td>76.0</td>\n",
       "      <td>8</td>\n",
       "      <td>E</td>\n",
       "    </tr>\n",
       "    <tr>\n",
       "      <th>1</th>\n",
       "      <td>Super Mario Bros.</td>\n",
       "      <td>NES</td>\n",
       "      <td>1985</td>\n",
       "      <td>Platform</td>\n",
       "      <td>29.08</td>\n",
       "      <td>3.58</td>\n",
       "      <td>6.81</td>\n",
       "      <td>0.77</td>\n",
       "      <td>NaN</td>\n",
       "      <td>NaN</td>\n",
       "      <td>NaN</td>\n",
       "    </tr>\n",
       "    <tr>\n",
       "      <th>2</th>\n",
       "      <td>Mario Kart Wii</td>\n",
       "      <td>Wii</td>\n",
       "      <td>2008</td>\n",
       "      <td>Racing</td>\n",
       "      <td>15.68</td>\n",
       "      <td>12.76</td>\n",
       "      <td>3.79</td>\n",
       "      <td>3.29</td>\n",
       "      <td>82.0</td>\n",
       "      <td>8.3</td>\n",
       "      <td>E</td>\n",
       "    </tr>\n",
       "    <tr>\n",
       "      <th>3</th>\n",
       "      <td>Wii Sports Resort</td>\n",
       "      <td>Wii</td>\n",
       "      <td>2009</td>\n",
       "      <td>Sports</td>\n",
       "      <td>15.61</td>\n",
       "      <td>10.93</td>\n",
       "      <td>3.28</td>\n",
       "      <td>2.95</td>\n",
       "      <td>80.0</td>\n",
       "      <td>8</td>\n",
       "      <td>E</td>\n",
       "    </tr>\n",
       "    <tr>\n",
       "      <th>4</th>\n",
       "      <td>Pokemon Red/Pokemon Blue</td>\n",
       "      <td>GB</td>\n",
       "      <td>1996</td>\n",
       "      <td>Role-Playing</td>\n",
       "      <td>11.27</td>\n",
       "      <td>8.89</td>\n",
       "      <td>10.22</td>\n",
       "      <td>1.00</td>\n",
       "      <td>NaN</td>\n",
       "      <td>NaN</td>\n",
       "      <td>NaN</td>\n",
       "    </tr>\n",
       "    <tr>\n",
       "      <th>5</th>\n",
       "      <td>Tetris</td>\n",
       "      <td>GB</td>\n",
       "      <td>1989</td>\n",
       "      <td>Puzzle</td>\n",
       "      <td>23.20</td>\n",
       "      <td>2.26</td>\n",
       "      <td>4.22</td>\n",
       "      <td>0.58</td>\n",
       "      <td>NaN</td>\n",
       "      <td>NaN</td>\n",
       "      <td>NaN</td>\n",
       "    </tr>\n",
       "    <tr>\n",
       "      <th>6</th>\n",
       "      <td>New Super Mario Bros.</td>\n",
       "      <td>DS</td>\n",
       "      <td>2006</td>\n",
       "      <td>Platform</td>\n",
       "      <td>11.28</td>\n",
       "      <td>9.14</td>\n",
       "      <td>6.50</td>\n",
       "      <td>2.88</td>\n",
       "      <td>89.0</td>\n",
       "      <td>8.5</td>\n",
       "      <td>E</td>\n",
       "    </tr>\n",
       "    <tr>\n",
       "      <th>7</th>\n",
       "      <td>Wii Play</td>\n",
       "      <td>Wii</td>\n",
       "      <td>2006</td>\n",
       "      <td>Misc</td>\n",
       "      <td>13.96</td>\n",
       "      <td>9.18</td>\n",
       "      <td>2.93</td>\n",
       "      <td>2.84</td>\n",
       "      <td>58.0</td>\n",
       "      <td>6.6</td>\n",
       "      <td>E</td>\n",
       "    </tr>\n",
       "    <tr>\n",
       "      <th>8</th>\n",
       "      <td>New Super Mario Bros. Wii</td>\n",
       "      <td>Wii</td>\n",
       "      <td>2009</td>\n",
       "      <td>Platform</td>\n",
       "      <td>14.44</td>\n",
       "      <td>6.94</td>\n",
       "      <td>4.70</td>\n",
       "      <td>2.24</td>\n",
       "      <td>87.0</td>\n",
       "      <td>8.4</td>\n",
       "      <td>E</td>\n",
       "    </tr>\n",
       "    <tr>\n",
       "      <th>9</th>\n",
       "      <td>Duck Hunt</td>\n",
       "      <td>NES</td>\n",
       "      <td>1984</td>\n",
       "      <td>Shooter</td>\n",
       "      <td>26.93</td>\n",
       "      <td>0.63</td>\n",
       "      <td>0.28</td>\n",
       "      <td>0.47</td>\n",
       "      <td>NaN</td>\n",
       "      <td>NaN</td>\n",
       "      <td>NaN</td>\n",
       "    </tr>\n",
       "  </tbody>\n",
       "</table>\n",
       "</div>"
      ],
      "text/plain": [
       "                        name platform  year_of_release         genre  \\\n",
       "0                 Wii Sports      Wii             2006        Sports   \n",
       "1          Super Mario Bros.      NES             1985      Platform   \n",
       "2             Mario Kart Wii      Wii             2008        Racing   \n",
       "3          Wii Sports Resort      Wii             2009        Sports   \n",
       "4   Pokemon Red/Pokemon Blue       GB             1996  Role-Playing   \n",
       "5                     Tetris       GB             1989        Puzzle   \n",
       "6      New Super Mario Bros.       DS             2006      Platform   \n",
       "7                   Wii Play      Wii             2006          Misc   \n",
       "8  New Super Mario Bros. Wii      Wii             2009      Platform   \n",
       "9                  Duck Hunt      NES             1984       Shooter   \n",
       "\n",
       "   na_sales  eu_sales  jp_sales  other_sales  critic_score user_score rating  \n",
       "0     41.36     28.96      3.77         8.45          76.0          8      E  \n",
       "1     29.08      3.58      6.81         0.77           NaN        NaN    NaN  \n",
       "2     15.68     12.76      3.79         3.29          82.0        8.3      E  \n",
       "3     15.61     10.93      3.28         2.95          80.0          8      E  \n",
       "4     11.27      8.89     10.22         1.00           NaN        NaN    NaN  \n",
       "5     23.20      2.26      4.22         0.58           NaN        NaN    NaN  \n",
       "6     11.28      9.14      6.50         2.88          89.0        8.5      E  \n",
       "7     13.96      9.18      2.93         2.84          58.0        6.6      E  \n",
       "8     14.44      6.94      4.70         2.24          87.0        8.4      E  \n",
       "9     26.93      0.63      0.28         0.47           NaN        NaN    NaN  "
      ]
     },
     "execution_count": 9,
     "metadata": {},
     "output_type": "execute_result"
    }
   ],
   "source": [
    "df.head(10)"
   ]
  },
  {
   "cell_type": "markdown",
   "metadata": {},
   "source": [
    "Приступим к обработке пропусков:"
   ]
  },
  {
   "cell_type": "code",
   "execution_count": 10,
   "metadata": {},
   "outputs": [
    {
     "data": {
      "text/plain": [
       "(16715, 11)"
      ]
     },
     "execution_count": 10,
     "metadata": {},
     "output_type": "execute_result"
    }
   ],
   "source": [
    "size_before = df.shape\n",
    "size_before"
   ]
  },
  {
   "cell_type": "code",
   "execution_count": 11,
   "metadata": {},
   "outputs": [
    {
     "data": {
      "text/plain": [
       "name                  2\n",
       "platform              0\n",
       "year_of_release     269\n",
       "genre                 2\n",
       "na_sales              0\n",
       "eu_sales              0\n",
       "jp_sales              0\n",
       "other_sales           0\n",
       "critic_score       8578\n",
       "user_score         6701\n",
       "rating             6766\n",
       "dtype: int64"
      ]
     },
     "execution_count": 11,
     "metadata": {},
     "output_type": "execute_result"
    }
   ],
   "source": [
    "df.isna().sum()"
   ]
  },
  {
   "cell_type": "markdown",
   "metadata": {},
   "source": [
    "Удалим строки датафрейма, в которых есть пропуски в стобцах `name`, `year_of_release`, `genre`:"
   ]
  },
  {
   "cell_type": "code",
   "execution_count": 12,
   "metadata": {},
   "outputs": [],
   "source": [
    "df = df[~(df['name'].isna()) & ~(df['genre'].isna()) & ~(df['year_of_release'].isna())]"
   ]
  },
  {
   "cell_type": "code",
   "execution_count": 13,
   "metadata": {},
   "outputs": [
    {
     "data": {
      "text/plain": [
       "name                  0\n",
       "platform              0\n",
       "year_of_release       0\n",
       "genre                 0\n",
       "na_sales              0\n",
       "eu_sales              0\n",
       "jp_sales              0\n",
       "other_sales           0\n",
       "critic_score       8461\n",
       "user_score         6605\n",
       "rating             6676\n",
       "dtype: int64"
      ]
     },
     "execution_count": 13,
     "metadata": {},
     "output_type": "execute_result"
    }
   ],
   "source": [
    "df.isna().sum()"
   ]
  },
  {
   "cell_type": "code",
   "execution_count": 14,
   "metadata": {},
   "outputs": [
    {
     "name": "stdout",
     "output_type": "stream",
     "text": [
      "98.379% данных осталось после удаления\n"
     ]
    }
   ],
   "source": [
    "print(f'{df.shape[0] / size_before[0] * 100:.3f}% данных осталось после удаления')"
   ]
  },
  {
   "cell_type": "markdown",
   "metadata": {},
   "source": [
    "Так как осталось более 90% исходных данных, дальнейший анализ будет корректен"
   ]
  },
  {
   "cell_type": "markdown",
   "metadata": {},
   "source": [
    "Заполнять пропуски в столбцах `critic_score`, `user_score`, `raiting` не целесообразно, так как игры в целом вещь разнообразная и оценивать пропуски на основе данных о других играх будет неправильным решением. Удалить же эти пропуски нельзя, так как потеряется бо́льшая часть данных"
   ]
  },
  {
   "cell_type": "markdown",
   "metadata": {},
   "source": [
    "К пропускам чаще всего приводит человеческий фактор: будь то ошибка в коде или неправильное заполнение данных вручную"
   ]
  },
  {
   "cell_type": "markdown",
   "metadata": {},
   "source": [
    "Так же в столбце `user_score` можно заметить значение `\"tbd\"`, которое значит: \"To Be Determined (будет определено)\". Значение `\"tbd\"` можно расценивать как пропуск:"
   ]
  },
  {
   "cell_type": "code",
   "execution_count": 15,
   "metadata": {},
   "outputs": [],
   "source": [
    "df['user_score'] = df['user_score'].replace('tbd', np.NaN)"
   ]
  },
  {
   "cell_type": "markdown",
   "metadata": {},
   "source": [
    "Приведём столбец `user_score` к вещественному типу:"
   ]
  },
  {
   "cell_type": "code",
   "execution_count": 16,
   "metadata": {},
   "outputs": [],
   "source": [
    "df['user_score'] = df['user_score'].astype(dtype='float', errors='ignore')"
   ]
  },
  {
   "cell_type": "code",
   "execution_count": 17,
   "metadata": {},
   "outputs": [
    {
     "name": "stdout",
     "output_type": "stream",
     "text": [
      "<class 'pandas.core.frame.DataFrame'>\n",
      "Int64Index: 16444 entries, 0 to 16714\n",
      "Data columns (total 11 columns):\n",
      " #   Column           Non-Null Count  Dtype  \n",
      "---  ------           --------------  -----  \n",
      " 0   name             16444 non-null  object \n",
      " 1   platform         16444 non-null  object \n",
      " 2   year_of_release  16444 non-null  Int32  \n",
      " 3   genre            16444 non-null  object \n",
      " 4   na_sales         16444 non-null  float64\n",
      " 5   eu_sales         16444 non-null  float64\n",
      " 6   jp_sales         16444 non-null  float64\n",
      " 7   other_sales      16444 non-null  float64\n",
      " 8   critic_score     7983 non-null   float64\n",
      " 9   user_score       7463 non-null   float64\n",
      " 10  rating           9768 non-null   object \n",
      "dtypes: Int32(1), float64(6), object(4)\n",
      "memory usage: 1.5+ MB\n"
     ]
    }
   ],
   "source": [
    "df.info()"
   ]
  },
  {
   "cell_type": "code",
   "execution_count": 18,
   "metadata": {},
   "outputs": [
    {
     "data": {
      "text/plain": [
       "name                  0\n",
       "platform              0\n",
       "year_of_release       0\n",
       "genre                 0\n",
       "na_sales              0\n",
       "eu_sales              0\n",
       "jp_sales              0\n",
       "other_sales           0\n",
       "critic_score       8461\n",
       "user_score         8981\n",
       "rating             6676\n",
       "dtype: int64"
      ]
     },
     "execution_count": 18,
     "metadata": {},
     "output_type": "execute_result"
    }
   ],
   "source": [
    "df.isna().sum()"
   ]
  },
  {
   "cell_type": "markdown",
   "metadata": {},
   "source": [
    "Можно заметить, что в последних трёх столбцах примерно половина пропусков, но я считаю что хоть данных и будет меньше, но их всё равно будет хватать для анализа, это лучше чем строить анализ по данным, в достоверности которых мы не уверены"
   ]
  },
  {
   "cell_type": "markdown",
   "metadata": {},
   "source": [
    "Проведём поиск явных дубликатов:"
   ]
  },
  {
   "cell_type": "code",
   "execution_count": 19,
   "metadata": {},
   "outputs": [
    {
     "data": {
      "text/plain": [
       "0"
      ]
     },
     "execution_count": 19,
     "metadata": {},
     "output_type": "execute_result"
    }
   ],
   "source": [
    "df.duplicated().sum()"
   ]
  },
  {
   "cell_type": "markdown",
   "metadata": {},
   "source": [
    "Выполним поиск неявных дубликатов (совпадающие по названию, платформе и году релиза одновременно):"
   ]
  },
  {
   "cell_type": "code",
   "execution_count": 20,
   "metadata": {},
   "outputs": [
    {
     "data": {
      "text/plain": [
       "1"
      ]
     },
     "execution_count": 20,
     "metadata": {},
     "output_type": "execute_result"
    }
   ],
   "source": [
    "df.duplicated(subset=['name', 'platform', 'year_of_release']).sum()"
   ]
  },
  {
   "cell_type": "code",
   "execution_count": 21,
   "metadata": {},
   "outputs": [
    {
     "data": {
      "text/plain": [
       "(16444, 11)"
      ]
     },
     "execution_count": 21,
     "metadata": {},
     "output_type": "execute_result"
    }
   ],
   "source": [
    "df.shape"
   ]
  },
  {
   "cell_type": "code",
   "execution_count": 22,
   "metadata": {},
   "outputs": [
    {
     "data": {
      "text/plain": [
       "(16443, 11)"
      ]
     },
     "execution_count": 22,
     "metadata": {},
     "output_type": "execute_result"
    }
   ],
   "source": [
    "df = df.drop_duplicates(subset=['name', 'platform', 'year_of_release'])\n",
    "df.shape"
   ]
  },
  {
   "cell_type": "markdown",
   "metadata": {},
   "source": [
    "Посчитаем суммарные продажи во всех регионах (NA, EU, JP):"
   ]
  },
  {
   "cell_type": "code",
   "execution_count": 23,
   "metadata": {},
   "outputs": [],
   "source": [
    "df['total_sales'] = df['na_sales'] + df['eu_sales'] + df['jp_sales'] + df['other_sales']"
   ]
  },
  {
   "cell_type": "code",
   "execution_count": 24,
   "metadata": {},
   "outputs": [
    {
     "data": {
      "text/html": [
       "<div>\n",
       "<style scoped>\n",
       "    .dataframe tbody tr th:only-of-type {\n",
       "        vertical-align: middle;\n",
       "    }\n",
       "\n",
       "    .dataframe tbody tr th {\n",
       "        vertical-align: top;\n",
       "    }\n",
       "\n",
       "    .dataframe thead th {\n",
       "        text-align: right;\n",
       "    }\n",
       "</style>\n",
       "<table border=\"1\" class=\"dataframe\">\n",
       "  <thead>\n",
       "    <tr style=\"text-align: right;\">\n",
       "      <th></th>\n",
       "      <th>name</th>\n",
       "      <th>platform</th>\n",
       "      <th>year_of_release</th>\n",
       "      <th>genre</th>\n",
       "      <th>na_sales</th>\n",
       "      <th>eu_sales</th>\n",
       "      <th>jp_sales</th>\n",
       "      <th>other_sales</th>\n",
       "      <th>critic_score</th>\n",
       "      <th>user_score</th>\n",
       "      <th>rating</th>\n",
       "      <th>total_sales</th>\n",
       "    </tr>\n",
       "  </thead>\n",
       "  <tbody>\n",
       "    <tr>\n",
       "      <th>0</th>\n",
       "      <td>Wii Sports</td>\n",
       "      <td>Wii</td>\n",
       "      <td>2006</td>\n",
       "      <td>Sports</td>\n",
       "      <td>41.36</td>\n",
       "      <td>28.96</td>\n",
       "      <td>3.77</td>\n",
       "      <td>8.45</td>\n",
       "      <td>76.0</td>\n",
       "      <td>8.0</td>\n",
       "      <td>E</td>\n",
       "      <td>82.54</td>\n",
       "    </tr>\n",
       "    <tr>\n",
       "      <th>1</th>\n",
       "      <td>Super Mario Bros.</td>\n",
       "      <td>NES</td>\n",
       "      <td>1985</td>\n",
       "      <td>Platform</td>\n",
       "      <td>29.08</td>\n",
       "      <td>3.58</td>\n",
       "      <td>6.81</td>\n",
       "      <td>0.77</td>\n",
       "      <td>NaN</td>\n",
       "      <td>NaN</td>\n",
       "      <td>NaN</td>\n",
       "      <td>40.24</td>\n",
       "    </tr>\n",
       "    <tr>\n",
       "      <th>2</th>\n",
       "      <td>Mario Kart Wii</td>\n",
       "      <td>Wii</td>\n",
       "      <td>2008</td>\n",
       "      <td>Racing</td>\n",
       "      <td>15.68</td>\n",
       "      <td>12.76</td>\n",
       "      <td>3.79</td>\n",
       "      <td>3.29</td>\n",
       "      <td>82.0</td>\n",
       "      <td>8.3</td>\n",
       "      <td>E</td>\n",
       "      <td>35.52</td>\n",
       "    </tr>\n",
       "    <tr>\n",
       "      <th>3</th>\n",
       "      <td>Wii Sports Resort</td>\n",
       "      <td>Wii</td>\n",
       "      <td>2009</td>\n",
       "      <td>Sports</td>\n",
       "      <td>15.61</td>\n",
       "      <td>10.93</td>\n",
       "      <td>3.28</td>\n",
       "      <td>2.95</td>\n",
       "      <td>80.0</td>\n",
       "      <td>8.0</td>\n",
       "      <td>E</td>\n",
       "      <td>32.77</td>\n",
       "    </tr>\n",
       "    <tr>\n",
       "      <th>4</th>\n",
       "      <td>Pokemon Red/Pokemon Blue</td>\n",
       "      <td>GB</td>\n",
       "      <td>1996</td>\n",
       "      <td>Role-Playing</td>\n",
       "      <td>11.27</td>\n",
       "      <td>8.89</td>\n",
       "      <td>10.22</td>\n",
       "      <td>1.00</td>\n",
       "      <td>NaN</td>\n",
       "      <td>NaN</td>\n",
       "      <td>NaN</td>\n",
       "      <td>31.38</td>\n",
       "    </tr>\n",
       "  </tbody>\n",
       "</table>\n",
       "</div>"
      ],
      "text/plain": [
       "                       name platform  year_of_release         genre  na_sales  \\\n",
       "0                Wii Sports      Wii             2006        Sports     41.36   \n",
       "1         Super Mario Bros.      NES             1985      Platform     29.08   \n",
       "2            Mario Kart Wii      Wii             2008        Racing     15.68   \n",
       "3         Wii Sports Resort      Wii             2009        Sports     15.61   \n",
       "4  Pokemon Red/Pokemon Blue       GB             1996  Role-Playing     11.27   \n",
       "\n",
       "   eu_sales  jp_sales  other_sales  critic_score  user_score rating  \\\n",
       "0     28.96      3.77         8.45          76.0         8.0      E   \n",
       "1      3.58      6.81         0.77           NaN         NaN    NaN   \n",
       "2     12.76      3.79         3.29          82.0         8.3      E   \n",
       "3     10.93      3.28         2.95          80.0         8.0      E   \n",
       "4      8.89     10.22         1.00           NaN         NaN    NaN   \n",
       "\n",
       "   total_sales  \n",
       "0        82.54  \n",
       "1        40.24  \n",
       "2        35.52  \n",
       "3        32.77  \n",
       "4        31.38  "
      ]
     },
     "execution_count": 24,
     "metadata": {},
     "output_type": "execute_result"
    }
   ],
   "source": [
    "df.head()"
   ]
  },
  {
   "cell_type": "markdown",
   "metadata": {},
   "source": [
    "Вывод по разделу:\n",
    "\n",
    "    - переименованы столбцы\n",
    "    - данные приведены к правильным типам\n",
    "    - удалены некоторые строки\n",
    "    - обработано значение \"tbd\"\n",
    "    - удалены неявные дубликаты"
   ]
  },
  {
   "cell_type": "markdown",
   "metadata": {},
   "source": [
    "# 3) Исследовательский анализ данных"
   ]
  },
  {
   "cell_type": "markdown",
   "metadata": {},
   "source": [
    "Изучим сколько игр выпускалось в разные годы:"
   ]
  },
  {
   "cell_type": "code",
   "execution_count": 25,
   "metadata": {},
   "outputs": [
    {
     "data": {
      "image/png": "[encoded data removed]",
      "text/plain": [
       "<Figure size 720x504 with 1 Axes>"
      ]
     },
     "metadata": {
      "needs_background": "light"
     },
     "output_type": "display_data"
    }
   ],
   "source": [
    "df.pivot_table(index='year_of_release', values='name', aggfunc='count').plot(kind='bar', figsize=(10, 7), title='Количество выпущенных игр за конкретный год').set(xlabel='Год выпуска', ylabel='Количество игр')\n",
    "plt.show()"
   ]
  },
  {
   "cell_type": "markdown",
   "metadata": {},
   "source": [
    "Судя по графику, можно сказать, что до 2000-х годов производство игр не было столь массовым - данные за этот не сильно влияют на общее положение дел"
   ]
  },
  {
   "cell_type": "markdown",
   "metadata": {},
   "source": [
    "Посмотрим, как менялись продажи по платформам. Выберем платформы с наибольшими суммарными продажами и построим распределение по годам:"
   ]
  },
  {
   "cell_type": "code",
   "execution_count": 26,
   "metadata": {},
   "outputs": [
    {
     "data": {
      "image/png": "[encoded data removed]",
      "text/plain": [
       "<Figure size 720x504 with 1 Axes>"
      ]
     },
     "metadata": {
      "needs_background": "light"
     },
     "output_type": "display_data"
    }
   ],
   "source": [
    "df.pivot_table(index='platform', values='total_sales', aggfunc='sum').sort_values(by='total_sales').plot(kind='bar', figsize=(10, 7), title='Зависимость продаж от платформы').set(xlabel='Платформа', ylabel='Продажи (млн копий)')\n",
    "plt.show()"
   ]
  },
  {
   "cell_type": "markdown",
   "metadata": {},
   "source": [
    "Видно, что в топ-5 лидеров входят платформы DS, Wii, PS3, X360 и PS2. Построим для каждой из них распределение прибыли по годам:"
   ]
  },
  {
   "cell_type": "code",
   "execution_count": 27,
   "metadata": {},
   "outputs": [
    {
     "data": {
      "text/plain": [
       "['PS2', 'X360', 'PS3', 'Wii', 'DS']"
      ]
     },
     "execution_count": 27,
     "metadata": {},
     "output_type": "execute_result"
    }
   ],
   "source": [
    "top_5_platforms = df.groupby('platform').agg({'total_sales': 'sum'}).sort_values(by='total_sales', ascending=False).head(5).index.to_list()\n",
    "top_5_platforms"
   ]
  },
  {
   "cell_type": "code",
   "execution_count": 28,
   "metadata": {},
   "outputs": [
    {
     "data": {
      "text/html": [
       "<div>\n",
       "<style scoped>\n",
       "    .dataframe tbody tr th:only-of-type {\n",
       "        vertical-align: middle;\n",
       "    }\n",
       "\n",
       "    .dataframe tbody tr th {\n",
       "        vertical-align: top;\n",
       "    }\n",
       "\n",
       "    .dataframe thead th {\n",
       "        text-align: right;\n",
       "    }\n",
       "</style>\n",
       "<table border=\"1\" class=\"dataframe\">\n",
       "  <thead>\n",
       "    <tr style=\"text-align: right;\">\n",
       "      <th></th>\n",
       "      <th></th>\n",
       "      <th>eu_sales</th>\n",
       "      <th>jp_sales</th>\n",
       "      <th>na_sales</th>\n",
       "      <th>other_sales</th>\n",
       "      <th>total_sales</th>\n",
       "    </tr>\n",
       "    <tr>\n",
       "      <th>platform</th>\n",
       "      <th>year_of_release</th>\n",
       "      <th></th>\n",
       "      <th></th>\n",
       "      <th></th>\n",
       "      <th></th>\n",
       "      <th></th>\n",
       "    </tr>\n",
       "  </thead>\n",
       "  <tbody>\n",
       "    <tr>\n",
       "      <th rowspan=\"11\" valign=\"top\">DS</th>\n",
       "      <th>1985</th>\n",
       "      <td>0.00</td>\n",
       "      <td>0.02</td>\n",
       "      <td>0.00</td>\n",
       "      <td>0.00</td>\n",
       "      <td>0.02</td>\n",
       "    </tr>\n",
       "    <tr>\n",
       "      <th>2004</th>\n",
       "      <td>3.93</td>\n",
       "      <td>3.65</td>\n",
       "      <td>8.33</td>\n",
       "      <td>1.36</td>\n",
       "      <td>17.27</td>\n",
       "    </tr>\n",
       "    <tr>\n",
       "      <th>2005</th>\n",
       "      <td>41.49</td>\n",
       "      <td>29.86</td>\n",
       "      <td>47.99</td>\n",
       "      <td>10.80</td>\n",
       "      <td>130.14</td>\n",
       "    </tr>\n",
       "    <tr>\n",
       "      <th>2006</th>\n",
       "      <td>23.07</td>\n",
       "      <td>38.56</td>\n",
       "      <td>50.01</td>\n",
       "      <td>8.17</td>\n",
       "      <td>119.81</td>\n",
       "    </tr>\n",
       "    <tr>\n",
       "      <th>2007</th>\n",
       "      <td>33.79</td>\n",
       "      <td>26.81</td>\n",
       "      <td>75.25</td>\n",
       "      <td>11.09</td>\n",
       "      <td>146.94</td>\n",
       "    </tr>\n",
       "    <tr>\n",
       "      <th>2008</th>\n",
       "      <td>32.24</td>\n",
       "      <td>24.01</td>\n",
       "      <td>78.12</td>\n",
       "      <td>10.94</td>\n",
       "      <td>145.31</td>\n",
       "    </tr>\n",
       "    <tr>\n",
       "      <th>2009</th>\n",
       "      <td>25.83</td>\n",
       "      <td>24.21</td>\n",
       "      <td>60.95</td>\n",
       "      <td>8.55</td>\n",
       "      <td>119.54</td>\n",
       "    </tr>\n",
       "    <tr>\n",
       "      <th>2010</th>\n",
       "      <td>18.82</td>\n",
       "      <td>19.86</td>\n",
       "      <td>40.80</td>\n",
       "      <td>5.54</td>\n",
       "      <td>85.02</td>\n",
       "    </tr>\n",
       "    <tr>\n",
       "      <th>2011</th>\n",
       "      <td>5.71</td>\n",
       "      <td>4.32</td>\n",
       "      <td>14.27</td>\n",
       "      <td>1.88</td>\n",
       "      <td>26.18</td>\n",
       "    </tr>\n",
       "    <tr>\n",
       "      <th>2012</th>\n",
       "      <td>2.68</td>\n",
       "      <td>3.72</td>\n",
       "      <td>4.02</td>\n",
       "      <td>0.59</td>\n",
       "      <td>11.01</td>\n",
       "    </tr>\n",
       "    <tr>\n",
       "      <th>2013</th>\n",
       "      <td>0.85</td>\n",
       "      <td>0.00</td>\n",
       "      <td>0.57</td>\n",
       "      <td>0.12</td>\n",
       "      <td>1.54</td>\n",
       "    </tr>\n",
       "    <tr>\n",
       "      <th rowspan=\"12\" valign=\"top\">PS2</th>\n",
       "      <th>2000</th>\n",
       "      <td>10.64</td>\n",
       "      <td>8.87</td>\n",
       "      <td>16.08</td>\n",
       "      <td>3.58</td>\n",
       "      <td>39.17</td>\n",
       "    </tr>\n",
       "    <tr>\n",
       "      <th>2001</th>\n",
       "      <td>52.37</td>\n",
       "      <td>17.79</td>\n",
       "      <td>79.49</td>\n",
       "      <td>16.78</td>\n",
       "      <td>166.43</td>\n",
       "    </tr>\n",
       "    <tr>\n",
       "      <th>2002</th>\n",
       "      <td>65.27</td>\n",
       "      <td>21.85</td>\n",
       "      <td>96.54</td>\n",
       "      <td>21.72</td>\n",
       "      <td>205.38</td>\n",
       "    </tr>\n",
       "    <tr>\n",
       "      <th>2003</th>\n",
       "      <td>61.20</td>\n",
       "      <td>18.88</td>\n",
       "      <td>83.54</td>\n",
       "      <td>20.69</td>\n",
       "      <td>184.31</td>\n",
       "    </tr>\n",
       "    <tr>\n",
       "      <th>2004</th>\n",
       "      <td>56.01</td>\n",
       "      <td>19.17</td>\n",
       "      <td>96.78</td>\n",
       "      <td>39.85</td>\n",
       "      <td>211.81</td>\n",
       "    </tr>\n",
       "    <tr>\n",
       "      <th>2005</th>\n",
       "      <td>40.86</td>\n",
       "      <td>15.05</td>\n",
       "      <td>85.60</td>\n",
       "      <td>19.15</td>\n",
       "      <td>160.66</td>\n",
       "    </tr>\n",
       "    <tr>\n",
       "      <th>2006</th>\n",
       "      <td>21.61</td>\n",
       "      <td>17.64</td>\n",
       "      <td>49.93</td>\n",
       "      <td>14.24</td>\n",
       "      <td>103.42</td>\n",
       "    </tr>\n",
       "    <tr>\n",
       "      <th>2007</th>\n",
       "      <td>10.43</td>\n",
       "      <td>9.82</td>\n",
       "      <td>32.05</td>\n",
       "      <td>23.69</td>\n",
       "      <td>75.99</td>\n",
       "    </tr>\n",
       "    <tr>\n",
       "      <th>2008</th>\n",
       "      <td>7.63</td>\n",
       "      <td>5.73</td>\n",
       "      <td>21.23</td>\n",
       "      <td>19.31</td>\n",
       "      <td>53.90</td>\n",
       "    </tr>\n",
       "    <tr>\n",
       "      <th>2009</th>\n",
       "      <td>4.94</td>\n",
       "      <td>1.94</td>\n",
       "      <td>9.36</td>\n",
       "      <td>10.16</td>\n",
       "      <td>26.40</td>\n",
       "    </tr>\n",
       "    <tr>\n",
       "      <th>2010</th>\n",
       "      <td>1.54</td>\n",
       "      <td>0.71</td>\n",
       "      <td>2.19</td>\n",
       "      <td>1.20</td>\n",
       "      <td>5.64</td>\n",
       "    </tr>\n",
       "    <tr>\n",
       "      <th>2011</th>\n",
       "      <td>0.13</td>\n",
       "      <td>0.09</td>\n",
       "      <td>0.13</td>\n",
       "      <td>0.10</td>\n",
       "      <td>0.45</td>\n",
       "    </tr>\n",
       "    <tr>\n",
       "      <th rowspan=\"11\" valign=\"top\">PS3</th>\n",
       "      <th>2006</th>\n",
       "      <td>7.38</td>\n",
       "      <td>1.08</td>\n",
       "      <td>8.84</td>\n",
       "      <td>3.66</td>\n",
       "      <td>20.96</td>\n",
       "    </tr>\n",
       "    <tr>\n",
       "      <th>2007</th>\n",
       "      <td>26.10</td>\n",
       "      <td>4.22</td>\n",
       "      <td>32.16</td>\n",
       "      <td>10.71</td>\n",
       "      <td>73.19</td>\n",
       "    </tr>\n",
       "    <tr>\n",
       "      <th>2008</th>\n",
       "      <td>38.73</td>\n",
       "      <td>5.82</td>\n",
       "      <td>57.23</td>\n",
       "      <td>16.74</td>\n",
       "      <td>118.52</td>\n",
       "    </tr>\n",
       "    <tr>\n",
       "      <th>2009</th>\n",
       "      <td>41.40</td>\n",
       "      <td>9.03</td>\n",
       "      <td>62.65</td>\n",
       "      <td>17.85</td>\n",
       "      <td>130.93</td>\n",
       "    </tr>\n",
       "    <tr>\n",
       "      <th>2010</th>\n",
       "      <td>50.50</td>\n",
       "      <td>9.87</td>\n",
       "      <td>60.99</td>\n",
       "      <td>20.81</td>\n",
       "      <td>142.17</td>\n",
       "    </tr>\n",
       "    <tr>\n",
       "      <th>2011</th>\n",
       "      <td>56.24</td>\n",
       "      <td>14.10</td>\n",
       "      <td>64.88</td>\n",
       "      <td>21.56</td>\n",
       "      <td>156.78</td>\n",
       "    </tr>\n",
       "    <tr>\n",
       "      <th>2012</th>\n",
       "      <td>39.04</td>\n",
       "      <td>11.94</td>\n",
       "      <td>39.88</td>\n",
       "      <td>16.49</td>\n",
       "      <td>107.35</td>\n",
       "    </tr>\n",
       "    <tr>\n",
       "      <th>2013</th>\n",
       "      <td>42.27</td>\n",
       "      <td>12.13</td>\n",
       "      <td>41.45</td>\n",
       "      <td>17.40</td>\n",
       "      <td>113.25</td>\n",
       "    </tr>\n",
       "    <tr>\n",
       "      <th>2014</th>\n",
       "      <td>18.24</td>\n",
       "      <td>6.25</td>\n",
       "      <td>16.39</td>\n",
       "      <td>6.88</td>\n",
       "      <td>47.76</td>\n",
       "    </tr>\n",
       "    <tr>\n",
       "      <th>2015</th>\n",
       "      <td>6.04</td>\n",
       "      <td>3.67</td>\n",
       "      <td>4.99</td>\n",
       "      <td>2.12</td>\n",
       "      <td>16.82</td>\n",
       "    </tr>\n",
       "    <tr>\n",
       "      <th>2016</th>\n",
       "      <td>1.26</td>\n",
       "      <td>1.30</td>\n",
       "      <td>0.67</td>\n",
       "      <td>0.37</td>\n",
       "      <td>3.60</td>\n",
       "    </tr>\n",
       "    <tr>\n",
       "      <th rowspan=\"11\" valign=\"top\">Wii</th>\n",
       "      <th>2006</th>\n",
       "      <td>43.62</td>\n",
       "      <td>9.15</td>\n",
       "      <td>70.86</td>\n",
       "      <td>13.52</td>\n",
       "      <td>137.15</td>\n",
       "    </tr>\n",
       "    <tr>\n",
       "      <th>2007</th>\n",
       "      <td>43.96</td>\n",
       "      <td>12.12</td>\n",
       "      <td>83.14</td>\n",
       "      <td>13.55</td>\n",
       "      <td>152.77</td>\n",
       "    </tr>\n",
       "    <tr>\n",
       "      <th>2008</th>\n",
       "      <td>46.52</td>\n",
       "      <td>12.69</td>\n",
       "      <td>97.12</td>\n",
       "      <td>14.99</td>\n",
       "      <td>171.32</td>\n",
       "    </tr>\n",
       "    <tr>\n",
       "      <th>2009</th>\n",
       "      <td>58.31</td>\n",
       "      <td>16.57</td>\n",
       "      <td>114.55</td>\n",
       "      <td>17.54</td>\n",
       "      <td>206.97</td>\n",
       "    </tr>\n",
       "    <tr>\n",
       "      <th>2010</th>\n",
       "      <td>36.31</td>\n",
       "      <td>8.78</td>\n",
       "      <td>72.64</td>\n",
       "      <td>10.22</td>\n",
       "      <td>127.95</td>\n",
       "    </tr>\n",
       "    <tr>\n",
       "      <th>2011</th>\n",
       "      <td>17.68</td>\n",
       "      <td>5.58</td>\n",
       "      <td>31.11</td>\n",
       "      <td>5.28</td>\n",
       "      <td>59.65</td>\n",
       "    </tr>\n",
       "    <tr>\n",
       "      <th>2012</th>\n",
       "      <td>5.99</td>\n",
       "      <td>3.34</td>\n",
       "      <td>10.89</td>\n",
       "      <td>1.49</td>\n",
       "      <td>21.71</td>\n",
       "    </tr>\n",
       "    <tr>\n",
       "      <th>2013</th>\n",
       "      <td>3.34</td>\n",
       "      <td>0.05</td>\n",
       "      <td>4.48</td>\n",
       "      <td>0.72</td>\n",
       "      <td>8.59</td>\n",
       "    </tr>\n",
       "    <tr>\n",
       "      <th>2014</th>\n",
       "      <td>1.86</td>\n",
       "      <td>0.00</td>\n",
       "      <td>1.59</td>\n",
       "      <td>0.30</td>\n",
       "      <td>3.75</td>\n",
       "    </tr>\n",
       "    <tr>\n",
       "      <th>2015</th>\n",
       "      <td>0.62</td>\n",
       "      <td>0.00</td>\n",
       "      <td>0.43</td>\n",
       "      <td>0.09</td>\n",
       "      <td>1.14</td>\n",
       "    </tr>\n",
       "    <tr>\n",
       "      <th>2016</th>\n",
       "      <td>0.11</td>\n",
       "      <td>0.00</td>\n",
       "      <td>0.06</td>\n",
       "      <td>0.01</td>\n",
       "      <td>0.18</td>\n",
       "    </tr>\n",
       "    <tr>\n",
       "      <th rowspan=\"12\" valign=\"top\">X360</th>\n",
       "      <th>2005</th>\n",
       "      <td>0.43</td>\n",
       "      <td>0.28</td>\n",
       "      <td>6.90</td>\n",
       "      <td>0.64</td>\n",
       "      <td>8.25</td>\n",
       "    </tr>\n",
       "    <tr>\n",
       "      <th>2006</th>\n",
       "      <td>10.84</td>\n",
       "      <td>1.20</td>\n",
       "      <td>35.16</td>\n",
       "      <td>4.42</td>\n",
       "      <td>51.62</td>\n",
       "    </tr>\n",
       "    <tr>\n",
       "      <th>2007</th>\n",
       "      <td>22.17</td>\n",
       "      <td>1.52</td>\n",
       "      <td>62.99</td>\n",
       "      <td>8.73</td>\n",
       "      <td>95.41</td>\n",
       "    </tr>\n",
       "    <tr>\n",
       "      <th>2008</th>\n",
       "      <td>38.16</td>\n",
       "      <td>1.89</td>\n",
       "      <td>82.51</td>\n",
       "      <td>12.70</td>\n",
       "      <td>135.26</td>\n",
       "    </tr>\n",
       "    <tr>\n",
       "      <th>2009</th>\n",
       "      <td>33.31</td>\n",
       "      <td>1.95</td>\n",
       "      <td>74.00</td>\n",
       "      <td>11.03</td>\n",
       "      <td>120.29</td>\n",
       "    </tr>\n",
       "    <tr>\n",
       "      <th>2010</th>\n",
       "      <td>46.31</td>\n",
       "      <td>2.11</td>\n",
       "      <td>107.38</td>\n",
       "      <td>14.23</td>\n",
       "      <td>170.03</td>\n",
       "    </tr>\n",
       "    <tr>\n",
       "      <th>2011</th>\n",
       "      <td>42.58</td>\n",
       "      <td>1.78</td>\n",
       "      <td>86.75</td>\n",
       "      <td>12.73</td>\n",
       "      <td>143.84</td>\n",
       "    </tr>\n",
       "    <tr>\n",
       "      <th>2012</th>\n",
       "      <td>32.00</td>\n",
       "      <td>1.06</td>\n",
       "      <td>58.39</td>\n",
       "      <td>8.29</td>\n",
       "      <td>99.74</td>\n",
       "    </tr>\n",
       "    <tr>\n",
       "      <th>2013</th>\n",
       "      <td>27.03</td>\n",
       "      <td>0.43</td>\n",
       "      <td>53.36</td>\n",
       "      <td>7.76</td>\n",
       "      <td>88.58</td>\n",
       "    </tr>\n",
       "    <tr>\n",
       "      <th>2014</th>\n",
       "      <td>11.28</td>\n",
       "      <td>0.08</td>\n",
       "      <td>20.25</td>\n",
       "      <td>3.13</td>\n",
       "      <td>34.74</td>\n",
       "    </tr>\n",
       "    <tr>\n",
       "      <th>2015</th>\n",
       "      <td>3.50</td>\n",
       "      <td>0.00</td>\n",
       "      <td>7.36</td>\n",
       "      <td>1.10</td>\n",
       "      <td>11.96</td>\n",
       "    </tr>\n",
       "    <tr>\n",
       "      <th>2016</th>\n",
       "      <td>0.71</td>\n",
       "      <td>0.00</td>\n",
       "      <td>0.69</td>\n",
       "      <td>0.12</td>\n",
       "      <td>1.52</td>\n",
       "    </tr>\n",
       "  </tbody>\n",
       "</table>\n",
       "</div>"
      ],
      "text/plain": [
       "                          eu_sales  jp_sales  na_sales  other_sales  \\\n",
       "platform year_of_release                                              \n",
       "DS       1985                 0.00      0.02      0.00         0.00   \n",
       "         2004                 3.93      3.65      8.33         1.36   \n",
       "         2005                41.49     29.86     47.99        10.80   \n",
       "         2006                23.07     38.56     50.01         8.17   \n",
       "         2007                33.79     26.81     75.25        11.09   \n",
       "         2008                32.24     24.01     78.12        10.94   \n",
       "         2009                25.83     24.21     60.95         8.55   \n",
       "         2010                18.82     19.86     40.80         5.54   \n",
       "         2011                 5.71      4.32     14.27         1.88   \n",
       "         2012                 2.68      3.72      4.02         0.59   \n",
       "         2013                 0.85      0.00      0.57         0.12   \n",
       "PS2      2000                10.64      8.87     16.08         3.58   \n",
       "         2001                52.37     17.79     79.49        16.78   \n",
       "         2002                65.27     21.85     96.54        21.72   \n",
       "         2003                61.20     18.88     83.54        20.69   \n",
       "         2004                56.01     19.17     96.78        39.85   \n",
       "         2005                40.86     15.05     85.60        19.15   \n",
       "         2006                21.61     17.64     49.93        14.24   \n",
       "         2007                10.43      9.82     32.05        23.69   \n",
       "         2008                 7.63      5.73     21.23        19.31   \n",
       "         2009                 4.94      1.94      9.36        10.16   \n",
       "         2010                 1.54      0.71      2.19         1.20   \n",
       "         2011                 0.13      0.09      0.13         0.10   \n",
       "PS3      2006                 7.38      1.08      8.84         3.66   \n",
       "         2007                26.10      4.22     32.16        10.71   \n",
       "         2008                38.73      5.82     57.23        16.74   \n",
       "         2009                41.40      9.03     62.65        17.85   \n",
       "         2010                50.50      9.87     60.99        20.81   \n",
       "         2011                56.24     14.10     64.88        21.56   \n",
       "         2012                39.04     11.94     39.88        16.49   \n",
       "         2013                42.27     12.13     41.45        17.40   \n",
       "         2014                18.24      6.25     16.39         6.88   \n",
       "         2015                 6.04      3.67      4.99         2.12   \n",
       "         2016                 1.26      1.30      0.67         0.37   \n",
       "Wii      2006                43.62      9.15     70.86        13.52   \n",
       "         2007                43.96     12.12     83.14        13.55   \n",
       "         2008                46.52     12.69     97.12        14.99   \n",
       "         2009                58.31     16.57    114.55        17.54   \n",
       "         2010                36.31      8.78     72.64        10.22   \n",
       "         2011                17.68      5.58     31.11         5.28   \n",
       "         2012                 5.99      3.34     10.89         1.49   \n",
       "         2013                 3.34      0.05      4.48         0.72   \n",
       "         2014                 1.86      0.00      1.59         0.30   \n",
       "         2015                 0.62      0.00      0.43         0.09   \n",
       "         2016                 0.11      0.00      0.06         0.01   \n",
       "X360     2005                 0.43      0.28      6.90         0.64   \n",
       "         2006                10.84      1.20     35.16         4.42   \n",
       "         2007                22.17      1.52     62.99         8.73   \n",
       "         2008                38.16      1.89     82.51        12.70   \n",
       "         2009                33.31      1.95     74.00        11.03   \n",
       "         2010                46.31      2.11    107.38        14.23   \n",
       "         2011                42.58      1.78     86.75        12.73   \n",
       "         2012                32.00      1.06     58.39         8.29   \n",
       "         2013                27.03      0.43     53.36         7.76   \n",
       "         2014                11.28      0.08     20.25         3.13   \n",
       "         2015                 3.50      0.00      7.36         1.10   \n",
       "         2016                 0.71      0.00      0.69         0.12   \n",
       "\n",
       "                          total_sales  \n",
       "platform year_of_release               \n",
       "DS       1985                    0.02  \n",
       "         2004                   17.27  \n",
       "         2005                  130.14  \n",
       "         2006                  119.81  \n",
       "         2007                  146.94  \n",
       "         2008                  145.31  \n",
       "         2009                  119.54  \n",
       "         2010                   85.02  \n",
       "         2011                   26.18  \n",
       "         2012                   11.01  \n",
       "         2013                    1.54  \n",
       "PS2      2000                   39.17  \n",
       "         2001                  166.43  \n",
       "         2002                  205.38  \n",
       "         2003                  184.31  \n",
       "         2004                  211.81  \n",
       "         2005                  160.66  \n",
       "         2006                  103.42  \n",
       "         2007                   75.99  \n",
       "         2008                   53.90  \n",
       "         2009                   26.40  \n",
       "         2010                    5.64  \n",
       "         2011                    0.45  \n",
       "PS3      2006                   20.96  \n",
       "         2007                   73.19  \n",
       "         2008                  118.52  \n",
       "         2009                  130.93  \n",
       "         2010                  142.17  \n",
       "         2011                  156.78  \n",
       "         2012                  107.35  \n",
       "         2013                  113.25  \n",
       "         2014                   47.76  \n",
       "         2015                   16.82  \n",
       "         2016                    3.60  \n",
       "Wii      2006                  137.15  \n",
       "         2007                  152.77  \n",
       "         2008                  171.32  \n",
       "         2009                  206.97  \n",
       "         2010                  127.95  \n",
       "         2011                   59.65  \n",
       "         2012                   21.71  \n",
       "         2013                    8.59  \n",
       "         2014                    3.75  \n",
       "         2015                    1.14  \n",
       "         2016                    0.18  \n",
       "X360     2005                    8.25  \n",
       "         2006                   51.62  \n",
       "         2007                   95.41  \n",
       "         2008                  135.26  \n",
       "         2009                  120.29  \n",
       "         2010                  170.03  \n",
       "         2011                  143.84  \n",
       "         2012                   99.74  \n",
       "         2013                   88.58  \n",
       "         2014                   34.74  \n",
       "         2015                   11.96  \n",
       "         2016                    1.52  "
      ]
     },
     "execution_count": 28,
     "metadata": {},
     "output_type": "execute_result"
    }
   ],
   "source": [
    "top_5 = df[df['platform'].isin(top_5_platforms)].pivot_table(index=['platform', 'year_of_release'], values=['na_sales', 'eu_sales', 'jp_sales', 'other_sales', 'total_sales'], aggfunc='sum')\n",
    "top_5"
   ]
  },
  {
   "cell_type": "code",
   "execution_count": 29,
   "metadata": {},
   "outputs": [
    {
     "data": {
      "image/png": "[encoded data removed]",
      "text/plain": [
       "<Figure size 720x1440 with 5 Axes>"
      ]
     },
     "metadata": {
      "needs_background": "light"
     },
     "output_type": "display_data"
    }
   ],
   "source": [
    "top_5.unstack(level=0).plot(kind='bar', y='total_sales', subplots=True, layout=(5, 1), rot=45, figsize=(10, 20), xlabel='Год', ylabel='Продажи (млн копий)')\n",
    "plt.show()"
   ]
  },
  {
   "cell_type": "markdown",
   "metadata": {},
   "source": [
    "Судя по графикам, можно заметить, что все платформы из списка топ-5 удерживают продажи в течение 9-10 лет, затем же продажи сводятся к нулю"
   ]
  },
  {
   "cell_type": "markdown",
   "metadata": {},
   "source": [
    "В качестве актуального периода я выбрал временной промежуток с 2014 по 2016 год"
   ]
  },
  {
   "cell_type": "code",
   "execution_count": 30,
   "metadata": {},
   "outputs": [
    {
     "data": {
      "text/html": [
       "<div>\n",
       "<style scoped>\n",
       "    .dataframe tbody tr th:only-of-type {\n",
       "        vertical-align: middle;\n",
       "    }\n",
       "\n",
       "    .dataframe tbody tr th {\n",
       "        vertical-align: top;\n",
       "    }\n",
       "\n",
       "    .dataframe thead th {\n",
       "        text-align: right;\n",
       "    }\n",
       "</style>\n",
       "<table border=\"1\" class=\"dataframe\">\n",
       "  <thead>\n",
       "    <tr style=\"text-align: right;\">\n",
       "      <th></th>\n",
       "      <th>name</th>\n",
       "      <th>platform</th>\n",
       "      <th>year_of_release</th>\n",
       "      <th>genre</th>\n",
       "      <th>na_sales</th>\n",
       "      <th>eu_sales</th>\n",
       "      <th>jp_sales</th>\n",
       "      <th>other_sales</th>\n",
       "      <th>critic_score</th>\n",
       "      <th>user_score</th>\n",
       "      <th>rating</th>\n",
       "      <th>total_sales</th>\n",
       "    </tr>\n",
       "  </thead>\n",
       "  <tbody>\n",
       "    <tr>\n",
       "      <th>31</th>\n",
       "      <td>Call of Duty: Black Ops 3</td>\n",
       "      <td>PS4</td>\n",
       "      <td>2015</td>\n",
       "      <td>Shooter</td>\n",
       "      <td>6.03</td>\n",
       "      <td>5.86</td>\n",
       "      <td>0.36</td>\n",
       "      <td>2.38</td>\n",
       "      <td>NaN</td>\n",
       "      <td>NaN</td>\n",
       "      <td>NaN</td>\n",
       "      <td>14.63</td>\n",
       "    </tr>\n",
       "    <tr>\n",
       "      <th>42</th>\n",
       "      <td>Grand Theft Auto V</td>\n",
       "      <td>PS4</td>\n",
       "      <td>2014</td>\n",
       "      <td>Action</td>\n",
       "      <td>3.96</td>\n",
       "      <td>6.31</td>\n",
       "      <td>0.38</td>\n",
       "      <td>1.97</td>\n",
       "      <td>97.0</td>\n",
       "      <td>8.3</td>\n",
       "      <td>M</td>\n",
       "      <td>12.62</td>\n",
       "    </tr>\n",
       "    <tr>\n",
       "      <th>47</th>\n",
       "      <td>Pokemon Omega Ruby/Pokemon Alpha Sapphire</td>\n",
       "      <td>3DS</td>\n",
       "      <td>2014</td>\n",
       "      <td>Role-Playing</td>\n",
       "      <td>4.35</td>\n",
       "      <td>3.49</td>\n",
       "      <td>3.10</td>\n",
       "      <td>0.74</td>\n",
       "      <td>NaN</td>\n",
       "      <td>NaN</td>\n",
       "      <td>NaN</td>\n",
       "      <td>11.68</td>\n",
       "    </tr>\n",
       "    <tr>\n",
       "      <th>77</th>\n",
       "      <td>FIFA 16</td>\n",
       "      <td>PS4</td>\n",
       "      <td>2015</td>\n",
       "      <td>Sports</td>\n",
       "      <td>1.12</td>\n",
       "      <td>6.12</td>\n",
       "      <td>0.06</td>\n",
       "      <td>1.28</td>\n",
       "      <td>82.0</td>\n",
       "      <td>4.3</td>\n",
       "      <td>E</td>\n",
       "      <td>8.58</td>\n",
       "    </tr>\n",
       "    <tr>\n",
       "      <th>87</th>\n",
       "      <td>Star Wars Battlefront (2015)</td>\n",
       "      <td>PS4</td>\n",
       "      <td>2015</td>\n",
       "      <td>Shooter</td>\n",
       "      <td>2.99</td>\n",
       "      <td>3.49</td>\n",
       "      <td>0.22</td>\n",
       "      <td>1.28</td>\n",
       "      <td>NaN</td>\n",
       "      <td>NaN</td>\n",
       "      <td>NaN</td>\n",
       "      <td>7.98</td>\n",
       "    </tr>\n",
       "    <tr>\n",
       "      <th>...</th>\n",
       "      <td>...</td>\n",
       "      <td>...</td>\n",
       "      <td>...</td>\n",
       "      <td>...</td>\n",
       "      <td>...</td>\n",
       "      <td>...</td>\n",
       "      <td>...</td>\n",
       "      <td>...</td>\n",
       "      <td>...</td>\n",
       "      <td>...</td>\n",
       "      <td>...</td>\n",
       "      <td>...</td>\n",
       "    </tr>\n",
       "    <tr>\n",
       "      <th>16703</th>\n",
       "      <td>Strawberry Nauts</td>\n",
       "      <td>PSV</td>\n",
       "      <td>2016</td>\n",
       "      <td>Adventure</td>\n",
       "      <td>0.00</td>\n",
       "      <td>0.00</td>\n",
       "      <td>0.01</td>\n",
       "      <td>0.00</td>\n",
       "      <td>NaN</td>\n",
       "      <td>NaN</td>\n",
       "      <td>NaN</td>\n",
       "      <td>0.01</td>\n",
       "    </tr>\n",
       "    <tr>\n",
       "      <th>16707</th>\n",
       "      <td>Aiyoku no Eustia</td>\n",
       "      <td>PSV</td>\n",
       "      <td>2014</td>\n",
       "      <td>Misc</td>\n",
       "      <td>0.00</td>\n",
       "      <td>0.00</td>\n",
       "      <td>0.01</td>\n",
       "      <td>0.00</td>\n",
       "      <td>NaN</td>\n",
       "      <td>NaN</td>\n",
       "      <td>NaN</td>\n",
       "      <td>0.01</td>\n",
       "    </tr>\n",
       "    <tr>\n",
       "      <th>16710</th>\n",
       "      <td>Samurai Warriors: Sanada Maru</td>\n",
       "      <td>PS3</td>\n",
       "      <td>2016</td>\n",
       "      <td>Action</td>\n",
       "      <td>0.00</td>\n",
       "      <td>0.00</td>\n",
       "      <td>0.01</td>\n",
       "      <td>0.00</td>\n",
       "      <td>NaN</td>\n",
       "      <td>NaN</td>\n",
       "      <td>NaN</td>\n",
       "      <td>0.01</td>\n",
       "    </tr>\n",
       "    <tr>\n",
       "      <th>16712</th>\n",
       "      <td>Haitaka no Psychedelica</td>\n",
       "      <td>PSV</td>\n",
       "      <td>2016</td>\n",
       "      <td>Adventure</td>\n",
       "      <td>0.00</td>\n",
       "      <td>0.00</td>\n",
       "      <td>0.01</td>\n",
       "      <td>0.00</td>\n",
       "      <td>NaN</td>\n",
       "      <td>NaN</td>\n",
       "      <td>NaN</td>\n",
       "      <td>0.01</td>\n",
       "    </tr>\n",
       "    <tr>\n",
       "      <th>16714</th>\n",
       "      <td>Winning Post 8 2016</td>\n",
       "      <td>PSV</td>\n",
       "      <td>2016</td>\n",
       "      <td>Simulation</td>\n",
       "      <td>0.00</td>\n",
       "      <td>0.00</td>\n",
       "      <td>0.01</td>\n",
       "      <td>0.00</td>\n",
       "      <td>NaN</td>\n",
       "      <td>NaN</td>\n",
       "      <td>NaN</td>\n",
       "      <td>0.01</td>\n",
       "    </tr>\n",
       "  </tbody>\n",
       "</table>\n",
       "<p>1689 rows × 12 columns</p>\n",
       "</div>"
      ],
      "text/plain": [
       "                                            name platform  year_of_release  \\\n",
       "31                     Call of Duty: Black Ops 3      PS4             2015   \n",
       "42                            Grand Theft Auto V      PS4             2014   \n",
       "47     Pokemon Omega Ruby/Pokemon Alpha Sapphire      3DS             2014   \n",
       "77                                       FIFA 16      PS4             2015   \n",
       "87                  Star Wars Battlefront (2015)      PS4             2015   \n",
       "...                                          ...      ...              ...   \n",
       "16703                           Strawberry Nauts      PSV             2016   \n",
       "16707                           Aiyoku no Eustia      PSV             2014   \n",
       "16710              Samurai Warriors: Sanada Maru      PS3             2016   \n",
       "16712                    Haitaka no Psychedelica      PSV             2016   \n",
       "16714                        Winning Post 8 2016      PSV             2016   \n",
       "\n",
       "              genre  na_sales  eu_sales  jp_sales  other_sales  critic_score  \\\n",
       "31          Shooter      6.03      5.86      0.36         2.38           NaN   \n",
       "42           Action      3.96      6.31      0.38         1.97          97.0   \n",
       "47     Role-Playing      4.35      3.49      3.10         0.74           NaN   \n",
       "77           Sports      1.12      6.12      0.06         1.28          82.0   \n",
       "87          Shooter      2.99      3.49      0.22         1.28           NaN   \n",
       "...             ...       ...       ...       ...          ...           ...   \n",
       "16703     Adventure      0.00      0.00      0.01         0.00           NaN   \n",
       "16707          Misc      0.00      0.00      0.01         0.00           NaN   \n",
       "16710        Action      0.00      0.00      0.01         0.00           NaN   \n",
       "16712     Adventure      0.00      0.00      0.01         0.00           NaN   \n",
       "16714    Simulation      0.00      0.00      0.01         0.00           NaN   \n",
       "\n",
       "       user_score rating  total_sales  \n",
       "31            NaN    NaN        14.63  \n",
       "42            8.3      M        12.62  \n",
       "47            NaN    NaN        11.68  \n",
       "77            4.3      E         8.58  \n",
       "87            NaN    NaN         7.98  \n",
       "...           ...    ...          ...  \n",
       "16703         NaN    NaN         0.01  \n",
       "16707         NaN    NaN         0.01  \n",
       "16710         NaN    NaN         0.01  \n",
       "16712         NaN    NaN         0.01  \n",
       "16714         NaN    NaN         0.01  \n",
       "\n",
       "[1689 rows x 12 columns]"
      ]
     },
     "execution_count": 30,
     "metadata": {},
     "output_type": "execute_result"
    }
   ],
   "source": [
    "actual_df = df[df['year_of_release'] >= 2014]\n",
    "actual_df"
   ]
  },
  {
   "cell_type": "code",
   "execution_count": 31,
   "metadata": {},
   "outputs": [
    {
     "data": {
      "image/png": "[encoded data removed]",
      "text/plain": [
       "<Figure size 1440x720 with 16 Axes>"
      ]
     },
     "metadata": {
      "needs_background": "light"
     },
     "output_type": "display_data"
    }
   ],
   "source": [
    "actual_df.pivot_table(index=['platform', 'year_of_release'], values='total_sales', aggfunc='sum').unstack(level=0).plot(kind='bar', y='total_sales', rot=45, subplots=True, layout=(4, 4), figsize=(20, 10), xlabel='Год', ylabel='Продажи (млн копий)')\n",
    "plt.show()"
   ]
  },
  {
   "cell_type": "markdown",
   "metadata": {},
   "source": [
    "Из графиков можно сделать следующий вывод: игровые платформы, такие как 3DS, PSP, X360, PC, PS3, Wii, Wiiu на текущий момент совсем неактуальны, либо же теряют свою актуальность, то есть \"пик\" находится позади отметки в 2016 год. (В предположении мы проводим анализ в 2016 году)\n",
    "\n",
    "Набирают популярность и лидируют следующие игровые платформы: PS4, PS5, XOne"
   ]
  },
  {
   "cell_type": "code",
   "execution_count": 32,
   "metadata": {},
   "outputs": [
    {
     "data": {
      "image/png": "[encoded data removed]",
      "text/plain": [
       "<Figure size 1080x720 with 1 Axes>"
      ]
     },
     "metadata": {
      "needs_background": "light"
     },
     "output_type": "display_data"
    }
   ],
   "source": [
    "actual_df.boxplot(by='platform', column='total_sales', figsize=(15, 10)).set(xlabel='Платформа', ylabel='Продажи (млн копий)', title='Глобальные продажи игр по платформам')\n",
    "plt.show()"
   ]
  },
  {
   "cell_type": "markdown",
   "metadata": {},
   "source": [
    "Судя по графику можно заметить, медиана продаж у каждой платформы различна, хоть разница и не велика. Большего всего продаж у платформы PS4, XOne и Wiiu"
   ]
  },
  {
   "cell_type": "markdown",
   "metadata": {},
   "source": [
    "Посмотрим, как влияют на продажи отзывы пользователей и критиков. В качестве платформ для сравнения выберем прибыльные и популярные платформы (PS3, PS4, X360 и XOne)"
   ]
  },
  {
   "cell_type": "code",
   "execution_count": 33,
   "metadata": {},
   "outputs": [
    {
     "data": {
      "image/png": "[encoded data removed]",
      "text/plain": [
       "<Figure size 1080x360 with 2 Axes>"
      ]
     },
     "metadata": {
      "needs_background": "light"
     },
     "output_type": "display_data"
    },
    {
     "data": {
      "image/png": "[encoded data removed]",
      "text/plain": [
       "<Figure size 1080x360 with 2 Axes>"
      ]
     },
     "metadata": {
      "needs_background": "light"
     },
     "output_type": "display_data"
    },
    {
     "data": {
      "image/png": "[encoded data removed]",
      "text/plain": [
       "<Figure size 1080x360 with 2 Axes>"
      ]
     },
     "metadata": {
      "needs_background": "light"
     },
     "output_type": "display_data"
    },
    {
     "data": {
      "image/png": "[encoded data removed]",
      "text/plain": [
       "<Figure size 1080x360 with 2 Axes>"
      ]
     },
     "metadata": {
      "needs_background": "light"
     },
     "output_type": "display_data"
    }
   ],
   "source": [
    "def get_corr(name_of_platform):\n",
    "    tmp = actual_df[actual_df['platform'] == name_of_platform]\n",
    "    fig, ax = plt.subplots(1, 2)\n",
    "    fig.suptitle(name_of_platform, fontsize=16)\n",
    "    tmp.plot(ax=ax[0], figsize=(15, 5), kind='scatter', x='user_score', y='total_sales', title=f\"Корреялция ~{tmp['user_score'].corr(tmp['total_sales']):.3f}\", xlabel='Оценки пользователей', ylabel='Продажи (млн копий)')\n",
    "    tmp.plot(ax=ax[1], figsize=(15, 5), kind='scatter', x='critic_score', y='total_sales', title=f\"Корреялция ~{tmp['critic_score'].corr(tmp['total_sales']):.3f}\", xlabel='Оценки критиков', ylabel='Продажи (млн копий)')\n",
    "    plt.show()\n",
    "    \n",
    "\n",
    "get_corr('PS3')\n",
    "get_corr('PS4')\n",
    "get_corr('X360')\n",
    "get_corr('XOne')"
   ]
  },
  {
   "cell_type": "markdown",
   "metadata": {},
   "source": [
    "На всех представленных графиках есть закономерность: оценки пользователей почти никак не коррелируют с продаваемостью игр, а вот мнение критиков влияет - есть умеренная положительная корреляция между оценками критиков и продажами игр"
   ]
  },
  {
   "cell_type": "markdown",
   "metadata": {},
   "source": [
    "Посмотрим на общее распределение игр по жанрам:"
   ]
  },
  {
   "cell_type": "code",
   "execution_count": 34,
   "metadata": {},
   "outputs": [
    {
     "data": {
      "image/png": "[encoded data removed]",
      "text/plain": [
       "<Figure size 432x288 with 1 Axes>"
      ]
     },
     "metadata": {
      "needs_background": "light"
     },
     "output_type": "display_data"
    }
   ],
   "source": [
    "actual_df.pivot_table(index='genre', values='name', aggfunc='count').sort_values('name').plot(kind='bar', title='Распределение игр по жанрам', xlabel='Жанр', rot=45, ylabel='Количество')\n",
    "plt.show()"
   ]
  },
  {
   "cell_type": "markdown",
   "metadata": {},
   "source": [
    "Самым \"частым\" жанром оказался жанр \"Action\", менее всего - жанр \"Puzzle\""
   ]
  },
  {
   "cell_type": "code",
   "execution_count": 35,
   "metadata": {},
   "outputs": [
    {
     "data": {
      "image/png": "[encoded data removed]",
      "text/plain": [
       "<Figure size 432x288 with 1 Axes>"
      ]
     },
     "metadata": {
      "needs_background": "light"
     },
     "output_type": "display_data"
    }
   ],
   "source": [
    "actual_df.pivot_table(index='genre', values='total_sales', aggfunc='median').sort_values('total_sales').plot(kind='bar', rot=45, title='Распределение жанров по продажам', xlabel='Жанр', ylabel='Продажи (млн копий)')\n",
    "plt.show()"
   ]
  },
  {
   "cell_type": "markdown",
   "metadata": {},
   "source": [
    "Самыми прибыльными жанрами являются жанры \"Shooter\", \"Sports\" и \"Platform\""
   ]
  },
  {
   "cell_type": "markdown",
   "metadata": {},
   "source": [
    "Вывод по разделу:\n",
    "    \n",
    "    - актуальным периодом для прогноза на 2017 год был выбран период с 2014 года по 2016\n",
    "    - в топ-3 лидеров по прибыльности входят платформы DS, Wii, PS3, X360 и PS2\n",
    "    - среднее время \"жизни\" игровых платформ 9-10 лет\n",
    "    - набирают популярность и лидируют следующие игровые платформы: PS4, PS5, XOne\n",
    "    - нет сильной корреляции между продажами и отзывами пользователей, а ситуация с мнением критиков обратная: есть умеренная положительная корреляция, значит можно сказать, что покупатели больше ориентируются на мнение критиков\n",
    "    - Самыми прибыльными жанрами являются жанры \"Shooter\", \"Sports\" и \"Platform\""
   ]
  },
  {
   "cell_type": "markdown",
   "metadata": {},
   "source": [
    "# 4) Составление портрета пользователя каждого региона"
   ]
  },
  {
   "cell_type": "markdown",
   "metadata": {},
   "source": [
    "Определим для пользователя каждого региона (NA, EU, JP) самые популярные платформы и самые популярные жанры (топ-5):"
   ]
  },
  {
   "cell_type": "code",
   "execution_count": 36,
   "metadata": {},
   "outputs": [
    {
     "data": {
      "image/png": "[encoded data removed]",
      "text/plain": [
       "<Figure size 864x504 with 2 Axes>"
      ]
     },
     "metadata": {
      "needs_background": "light"
     },
     "output_type": "display_data"
    },
    {
     "data": {
      "image/png": "[encoded data removed]",
      "text/plain": [
       "<Figure size 864x504 with 2 Axes>"
      ]
     },
     "metadata": {
      "needs_background": "light"
     },
     "output_type": "display_data"
    },
    {
     "data": {
      "image/png": "[encoded data removed]",
      "text/plain": [
       "<Figure size 864x504 with 2 Axes>"
      ]
     },
     "metadata": {
      "needs_background": "light"
     },
     "output_type": "display_data"
    }
   ],
   "source": [
    "def top(region):\n",
    "    fig, ax = plt.subplots(1, 2)\n",
    "    fig.suptitle(region.upper(), fontsize=16)\n",
    "    \n",
    "    actual_df.pivot_table(index='platform', values=region + '_sales', aggfunc='median').sort_values(region + '_sales').plot(figsize=(12, 7), ax=ax[0], rot=45, kind='bar', xlabel='Плафторма', ylabel='Продажи (млн копий)')\n",
    "    actual_df.pivot_table(index='genre', values=region + '_sales', aggfunc='median').sort_values(region + '_sales').plot(figsize=(12, 7), ax=ax[1], rot=45, kind='bar', xlabel='Жанр', ylabel='Продажи (млн копий)')\n",
    "    \n",
    "    plt.show()\n",
    "    \n",
    "top('na')\n",
    "top('eu')\n",
    "top('jp')"
   ]
  },
  {
   "cell_type": "markdown",
   "metadata": {},
   "source": [
    "1) Северная Америка:\n",
    "\n",
    "    - топ-5 платформ => Wii, PS4, WiiU, X360, XOne\n",
    "    - топ-5 жанров => Racing, Fighting, Sports, Platform, Shooter\n",
    "    \n",
    "2) Европа:\n",
    "\n",
    "    - топ-5 платформ => X360, WiiU, PS4, XOne, Wii\n",
    "    - топ-5 жанров => Simulation, Racing, Sports, Platform, Shooter\n",
    "    \n",
    "3) Япония:\n",
    "\n",
    "    - топ-5 платформ => PS4, PS3, PSP, PSV, 3DS\n",
    "    - топ-5 жанров => Adventure, Misc, Fighting, Puzzle, Role-Playing"
   ]
  },
  {
   "cell_type": "markdown",
   "metadata": {},
   "source": [
    "Для начала заполним пропуски в столбце `rating` значением `RP` (рейтинг ожидается):"
   ]
  },
  {
   "cell_type": "code",
   "execution_count": 37,
   "metadata": {},
   "outputs": [
    {
     "name": "stderr",
     "output_type": "stream",
     "text": [
      "/opt/conda/lib/python3.9/site-packages/pandas/core/series.py:4463: SettingWithCopyWarning: \n",
      "A value is trying to be set on a copy of a slice from a DataFrame\n",
      "\n",
      "See the caveats in the documentation: https://pandas.pydata.org/pandas-docs/stable/user_guide/indexing.html#returning-a-view-versus-a-copy\n",
      "  return super().fillna(\n"
     ]
    }
   ],
   "source": [
    "actual_df['rating'].fillna('RP', inplace=True)"
   ]
  },
  {
   "cell_type": "markdown",
   "metadata": {},
   "source": [
    "Посмотрим влияет ли рейтинг ESRB на продажи в отдельном регионе:"
   ]
  },
  {
   "cell_type": "code",
   "execution_count": 38,
   "metadata": {},
   "outputs": [
    {
     "data": {
      "image/png": "[encoded data removed]",
      "text/plain": [
       "<Figure size 432x288 with 1 Axes>"
      ]
     },
     "metadata": {
      "needs_background": "light"
     },
     "output_type": "display_data"
    }
   ],
   "source": [
    "actual_df.pivot_table(index='rating', values=['na_sales', 'eu_sales', 'jp_sales'], aggfunc='sum').plot(rot=0, kind='bar', xlabel='Рейтинг ESRB', ylabel='Продажи (млн копий)', title='Продажи игр по регионам в зависимости от рейтинга ERSB')\n",
    "plt.show()"
   ]
  },
  {
   "cell_type": "markdown",
   "metadata": {},
   "source": [
    "Рейтинг ESRB действительно влияет на продажи, особенно это видно на примере Японии - продажи там заметно ниже, чем в Европе или Северной Америке. К тому же можно заметить, что в Европе и Северной Америке примерно одинаковые продажи. Ещё хотелось бы отметить, что во всех регионах примерно равная продаваемость игр, у которых нет оценок от ESRB. Возможно именно после оценки ситуация с покупками этих игр изменится"
   ]
  },
  {
   "cell_type": "markdown",
   "metadata": {},
   "source": [
    "Вывод по разделу:\n",
    "\n",
    "    - В Северной Америке чаще всего играют в игры жанров Racing, Fighting, Sports, Platform, Shooter на платформах Wii, PS4, WiiU, X360, XOne\n",
    "    \n",
    "    - В Европе чаще всего играют в игры жанров Simulation, Racing, Sports, Platform, Shooter на платформах X360, WiiU, PS4, XOne, Wii\n",
    "    \n",
    "    - В Японимм чаще всего играют в игры жанров Adventure, Misc, Fighting, Puzzle, Role-Playing на платформах PS4, PS3, PSP, PSV, 3DS\n",
    "    \n",
    "    - Рейтинг ESRB влияет на уровень покупаемости игр"
   ]
  },
  {
   "cell_type": "markdown",
   "metadata": {},
   "source": [
    "# 5) Проверка гипотез"
   ]
  },
  {
   "cell_type": "markdown",
   "metadata": {},
   "source": [
    "Выдвинем нулевую гипотезу $H_0$ - средние пользовательские рейтинги платформ Xbox One и PC одинаковые, тогда альтернативная гипотеза $H_1$ будет такова: средние пользовательские рейтинги платформ Xbox One и PC не равны"
   ]
  },
  {
   "cell_type": "code",
   "execution_count": 39,
   "metadata": {},
   "outputs": [
    {
     "name": "stdout",
     "output_type": "stream",
     "text": [
      "0.10450507919348513\n",
      "Нет оснований отвергнуть нулевую гипотезу\n"
     ]
    }
   ],
   "source": [
    "alpha = 0.01\n",
    "\n",
    "result = st.ttest_ind(actual_df[actual_df['platform'] == 'XOne']['user_score'], actual_df[actual_df['platform'] == 'PC']['user_score'], nan_policy='omit')\n",
    "\n",
    "print(result.pvalue)\n",
    "if result.pvalue < alpha:\n",
    "    print('Отвергаем нулевую гипотезу')\n",
    "else:\n",
    "    print('Нет оснований отвергнуть нулевую гипотезу')"
   ]
  },
  {
   "cell_type": "markdown",
   "metadata": {},
   "source": [
    "Полученное значение p-value (~0.104) больше заданного уровня значимости, поэтому у нас нет оснований отвергнуть нулевую гипотезу"
   ]
  },
  {
   "cell_type": "markdown",
   "metadata": {},
   "source": [
    "Выдвинем нулевую гипотезу $H_0$ - cредние пользовательские рейтинги жанров Action и Sports равны, тогда альтернативная гипотеза $H_1$ будет такова: cредние пользовательские рейтинги жанров Action и Sports не равны"
   ]
  },
  {
   "cell_type": "code",
   "execution_count": 40,
   "metadata": {},
   "outputs": [
    {
     "name": "stdout",
     "output_type": "stream",
     "text": [
      "2.8711147985107304e-19\n",
      "Отвергаем нулевую гипотезу\n"
     ]
    }
   ],
   "source": [
    "alpha = 0.01\n",
    "\n",
    "result = st.ttest_ind(actual_df[actual_df['genre'] == 'Action']['user_score'], actual_df[actual_df['genre'] == 'Sports']['user_score'], nan_policy='omit')\n",
    "\n",
    "print(result.pvalue)\n",
    "if result.pvalue < alpha:\n",
    "    print('Отвергаем нулевую гипотезу')\n",
    "else:\n",
    "    print('Нет оснований отвергнуть нулевую гипотезу')"
   ]
  },
  {
   "cell_type": "markdown",
   "metadata": {},
   "source": [
    "Полученное значение p-value (~ $2.8 * 10^{-19}$) на порядки меньше заданного уровня значимости, поэтому можно отвергнуть нулевую гипотезу. Есть большие основания склоняться к альтернативной гипотезе $H_1$: cредние пользовательские рейтинги жанров Action и Sports не равны"
   ]
  },
  {
   "cell_type": "markdown",
   "metadata": {},
   "source": [
    "Для проверки обоих гипотез был применён метод ttest_ind, который позволяет проверить гипотезу о равенстве средних двух генеральных совокупностей. Так как оценки пользователей по жанрам и платформам не зависят друг от друга, количество оценок достаточно велико то использование этого метода теоретически обосновано"
   ]
  },
  {
   "cell_type": "markdown",
   "metadata": {},
   "source": [
    "# 6) Общий вывод"
   ]
  },
  {
   "cell_type": "markdown",
   "metadata": {},
   "source": [
    "Из открытых источников нам были доступны исторические данные о продажах игр в интернет-магазине «Стримчик», оценки пользователей и экспертов, жанры и платформы (например, Xbox или PlayStation). Нам нужно было выявить определяющие успешность игры закономерности, что позволит сделать ставку на потенциально популярный продукт и спланировать рекламные кампании.\n",
    "\n",
    "В ходе предобработки данных были обработаны пропуски (было отброшено ~1.6% исходных данных), данные приведены к правильным типам\n",
    "\n",
    "В ходе исследовательского анализа были выявлены следующие факты:\n",
    "\n",
    "    - актуальным периодом для прогноза на 2017 год был выбран период с 2014 года по 2016\n",
    "    - в топ-3 лидеров по прибыльности входят платформы DS, Wii, PS3, X360 и PS2\n",
    "    - среднее время \"жизни\" игровых платформ 9-10 лет\n",
    "    - набирают популярность и лидируют следующие игровые платформы: PS4, PS5, XOne\n",
    "    - нет сильной корреляции между продажами и отзывами пользователей, а ситуация с мнением критиков обратная: есть умеренная положительная корреляция, значит можно сказать, что покупатели больше ориентируются на мнение критиков\n",
    "    - Самыми прибыльными жанрами являются жанры \"Shooter\", \"Sports\" и \"Platform\"\n",
    "    \n",
    "Следующим этапом анализа было построение портрета пользователя по регионам (NA, EU, JP):\n",
    "\n",
    "    - В Северной Америке чаще всего играют в игры жанров Racing, Fighting, Sports, Platform, Shooter на платформах Wii, PS4, WiiU, X360, XOne\n",
    "    \n",
    "    - В Европе чаще всего играют в игры жанров Simulation, Racing, Sports, Platform, Shooter на платформах X360, WiiU, PS4, XOne, Wii\n",
    "    \n",
    "    - В Японимм чаще всего играют в игры жанров Adventure, Misc, Fighting, Puzzle, Role-Playing на платформах PS4, PS3, PSP, PSV, 3DS\n",
    "    \n",
    "    - Рейтинг ESRB влияет на уровень покупаемости игр\n",
    "    \n",
    "    - Рейтинг ESRB влияет на уровень покупаемости игр\n",
    "    \n",
    "В заключительном этапе были проверены следующие гипотезы:\n",
    "\n",
    "1) Средние пользовательские рейтинги платформ Xbox One и PC одинаковые `(не опровергнута)`:\n",
    "    \n",
    "Полученное значение p-value (~0.104) больше заданного уровня значимости (0.01), поэтому нет оснований утверждать, что средние пользовательские рейтинги платформ Xbox One и PC не равны\n",
    "    \n",
    "2) Средние пользовательские рейтинги жанров Action и Sports разные `(не опровергнута)`:\n",
    "\n",
    "Полученное значение p-value (~$2.8 * 10^{-19}$) на порядки меньше заданного уровня значимости (0.01), поэтому есть большие основания утверждать, что cредние пользовательские рейтинги жанров Action и Sports не равны"
   ]
  }
 ],
 "metadata": {
  "ExecuteTimeLog": [
   {
    "duration": 871,
    "start_time": "2023-11-13T18:19:28.880Z"
   },
   {
    "duration": 99,
    "start_time": "2023-11-13T18:19:29.752Z"
   },
   {
    "duration": 31,
    "start_time": "2023-11-13T18:19:29.853Z"
   },
   {
    "duration": 17,
    "start_time": "2023-11-13T18:20:12.051Z"
   },
   {
    "duration": 965,
    "start_time": "2023-11-13T18:21:17.653Z"
   },
   {
    "duration": 3,
    "start_time": "2023-11-13T18:27:09.055Z"
   },
   {
    "duration": 18,
    "start_time": "2023-11-13T18:27:39.257Z"
   },
   {
    "duration": 100,
    "start_time": "2023-11-13T18:29:54.275Z"
   },
   {
    "duration": 17,
    "start_time": "2023-11-13T18:30:22.670Z"
   },
   {
    "duration": 4,
    "start_time": "2023-11-13T18:31:58.407Z"
   },
   {
    "duration": 13,
    "start_time": "2023-11-13T18:34:29.915Z"
   },
   {
    "duration": 811,
    "start_time": "2023-11-13T18:34:42.027Z"
   },
   {
    "duration": 59,
    "start_time": "2023-11-13T18:34:42.840Z"
   },
   {
    "duration": 21,
    "start_time": "2023-11-13T18:34:42.901Z"
   },
   {
    "duration": 14,
    "start_time": "2023-11-13T18:34:42.923Z"
   },
   {
    "duration": 3,
    "start_time": "2023-11-13T18:34:42.938Z"
   },
   {
    "duration": 39,
    "start_time": "2023-11-13T18:34:42.942Z"
   },
   {
    "duration": 4,
    "start_time": "2023-11-13T18:34:42.983Z"
   },
   {
    "duration": 13,
    "start_time": "2023-11-13T18:34:42.989Z"
   },
   {
    "duration": 100,
    "start_time": "2023-11-13T18:37:07.593Z"
   },
   {
    "duration": 7,
    "start_time": "2023-11-13T18:37:51.617Z"
   },
   {
    "duration": 3,
    "start_time": "2023-11-13T18:37:58.534Z"
   },
   {
    "duration": 831,
    "start_time": "2023-11-13T18:38:06.585Z"
   },
   {
    "duration": 59,
    "start_time": "2023-11-13T18:38:07.418Z"
   },
   {
    "duration": 24,
    "start_time": "2023-11-13T18:38:07.479Z"
   },
   {
    "duration": 14,
    "start_time": "2023-11-13T18:38:07.505Z"
   },
   {
    "duration": 15,
    "start_time": "2023-11-13T18:38:07.521Z"
   },
   {
    "duration": 34,
    "start_time": "2023-11-13T18:38:07.537Z"
   },
   {
    "duration": 24,
    "start_time": "2023-11-13T18:38:07.573Z"
   },
   {
    "duration": 15,
    "start_time": "2023-11-13T18:38:07.599Z"
   },
   {
    "duration": 838,
    "start_time": "2023-11-13T18:38:39.580Z"
   },
   {
    "duration": 59,
    "start_time": "2023-11-13T18:38:40.420Z"
   },
   {
    "duration": 22,
    "start_time": "2023-11-13T18:38:40.480Z"
   },
   {
    "duration": 41,
    "start_time": "2023-11-13T18:38:40.504Z"
   },
   {
    "duration": 24,
    "start_time": "2023-11-13T18:38:40.547Z"
   },
   {
    "duration": 41,
    "start_time": "2023-11-13T18:38:40.573Z"
   },
   {
    "duration": 118,
    "start_time": "2023-11-13T18:38:40.615Z"
   },
   {
    "duration": 0,
    "start_time": "2023-11-13T18:38:40.734Z"
   },
   {
    "duration": 4,
    "start_time": "2023-11-13T18:38:50.619Z"
   },
   {
    "duration": 15,
    "start_time": "2023-11-13T18:38:53.123Z"
   },
   {
    "duration": 864,
    "start_time": "2023-11-13T18:39:47.082Z"
   },
   {
    "duration": 56,
    "start_time": "2023-11-13T18:39:47.948Z"
   },
   {
    "duration": 21,
    "start_time": "2023-11-13T18:39:48.008Z"
   },
   {
    "duration": 13,
    "start_time": "2023-11-13T18:39:48.030Z"
   },
   {
    "duration": 3,
    "start_time": "2023-11-13T18:39:48.044Z"
   },
   {
    "duration": 27,
    "start_time": "2023-11-13T18:39:48.049Z"
   },
   {
    "duration": 5,
    "start_time": "2023-11-13T18:39:48.078Z"
   },
   {
    "duration": 15,
    "start_time": "2023-11-13T18:39:48.084Z"
   },
   {
    "duration": 840,
    "start_time": "2023-11-13T18:43:22.146Z"
   },
   {
    "duration": 52,
    "start_time": "2023-11-13T18:43:22.988Z"
   },
   {
    "duration": 20,
    "start_time": "2023-11-13T18:43:23.042Z"
   },
   {
    "duration": 13,
    "start_time": "2023-11-13T18:43:23.064Z"
   },
   {
    "duration": 3,
    "start_time": "2023-11-13T18:43:23.078Z"
   },
   {
    "duration": 18,
    "start_time": "2023-11-13T18:43:23.082Z"
   },
   {
    "duration": 103,
    "start_time": "2023-11-13T18:43:23.101Z"
   },
   {
    "duration": 0,
    "start_time": "2023-11-13T18:43:23.205Z"
   },
   {
    "duration": 4,
    "start_time": "2023-11-13T18:43:41.004Z"
   },
   {
    "duration": 13,
    "start_time": "2023-11-13T18:43:43.604Z"
   },
   {
    "duration": 3,
    "start_time": "2023-11-13T18:43:51.150Z"
   },
   {
    "duration": 12,
    "start_time": "2023-11-13T18:43:53.044Z"
   },
   {
    "duration": 13,
    "start_time": "2023-11-13T18:44:11.232Z"
   },
   {
    "duration": 3,
    "start_time": "2023-11-13T18:44:26.796Z"
   },
   {
    "duration": 13,
    "start_time": "2023-11-13T18:44:28.886Z"
   },
   {
    "duration": 856,
    "start_time": "2023-11-13T18:44:37.144Z"
   },
   {
    "duration": 52,
    "start_time": "2023-11-13T18:44:38.002Z"
   },
   {
    "duration": 21,
    "start_time": "2023-11-13T18:44:38.055Z"
   },
   {
    "duration": 13,
    "start_time": "2023-11-13T18:44:38.078Z"
   },
   {
    "duration": 4,
    "start_time": "2023-11-13T18:44:38.092Z"
   },
   {
    "duration": 13,
    "start_time": "2023-11-13T18:44:38.098Z"
   },
   {
    "duration": 7,
    "start_time": "2023-11-13T18:44:38.113Z"
   },
   {
    "duration": 14,
    "start_time": "2023-11-13T18:44:38.121Z"
   },
   {
    "duration": 31,
    "start_time": "2023-11-13T18:44:38.137Z"
   },
   {
    "duration": 848,
    "start_time": "2023-11-13T18:44:55.717Z"
   },
   {
    "duration": 55,
    "start_time": "2023-11-13T18:44:56.568Z"
   },
   {
    "duration": 29,
    "start_time": "2023-11-13T18:44:56.624Z"
   },
   {
    "duration": 15,
    "start_time": "2023-11-13T18:44:56.655Z"
   },
   {
    "duration": 3,
    "start_time": "2023-11-13T18:44:56.672Z"
   },
   {
    "duration": 23,
    "start_time": "2023-11-13T18:44:56.678Z"
   },
   {
    "duration": 18,
    "start_time": "2023-11-13T18:44:56.702Z"
   },
   {
    "duration": 25,
    "start_time": "2023-11-13T18:44:56.722Z"
   },
   {
    "duration": 22,
    "start_time": "2023-11-13T18:44:56.749Z"
   },
   {
    "duration": 4,
    "start_time": "2023-11-13T18:45:25.104Z"
   },
   {
    "duration": 15,
    "start_time": "2023-11-13T18:45:27.397Z"
   },
   {
    "duration": 4,
    "start_time": "2023-11-13T18:45:30.979Z"
   },
   {
    "duration": 13,
    "start_time": "2023-11-13T18:45:32.612Z"
   },
   {
    "duration": 14,
    "start_time": "2023-11-13T18:45:35.601Z"
   },
   {
    "duration": 803,
    "start_time": "2023-11-13T18:45:42.304Z"
   },
   {
    "duration": 53,
    "start_time": "2023-11-13T18:45:43.109Z"
   },
   {
    "duration": 21,
    "start_time": "2023-11-13T18:45:43.164Z"
   },
   {
    "duration": 13,
    "start_time": "2023-11-13T18:45:43.186Z"
   },
   {
    "duration": 11,
    "start_time": "2023-11-13T18:45:43.201Z"
   },
   {
    "duration": 22,
    "start_time": "2023-11-13T18:45:43.214Z"
   },
   {
    "duration": 11,
    "start_time": "2023-11-13T18:45:43.238Z"
   },
   {
    "duration": 26,
    "start_time": "2023-11-13T18:45:43.251Z"
   },
   {
    "duration": 18,
    "start_time": "2023-11-13T18:45:43.279Z"
   },
   {
    "duration": 10,
    "start_time": "2023-11-13T18:50:14.628Z"
   },
   {
    "duration": 775,
    "start_time": "2023-11-13T18:53:27.522Z"
   },
   {
    "duration": 52,
    "start_time": "2023-11-13T18:53:28.299Z"
   },
   {
    "duration": 21,
    "start_time": "2023-11-13T18:53:28.353Z"
   },
   {
    "duration": 13,
    "start_time": "2023-11-13T18:53:28.376Z"
   },
   {
    "duration": 3,
    "start_time": "2023-11-13T18:53:28.391Z"
   },
   {
    "duration": 77,
    "start_time": "2023-11-13T18:53:28.395Z"
   },
   {
    "duration": 3,
    "start_time": "2023-11-13T18:53:28.474Z"
   },
   {
    "duration": 15,
    "start_time": "2023-11-13T18:53:28.479Z"
   },
   {
    "duration": 12,
    "start_time": "2023-11-13T18:53:28.495Z"
   },
   {
    "duration": 8,
    "start_time": "2023-11-13T18:53:28.509Z"
   },
   {
    "duration": 8,
    "start_time": "2023-11-13T18:53:28.519Z"
   },
   {
    "duration": 7,
    "start_time": "2023-11-13T18:53:28.529Z"
   },
   {
    "duration": 32,
    "start_time": "2023-11-13T18:53:28.537Z"
   },
   {
    "duration": 792,
    "start_time": "2023-11-13T18:54:02.302Z"
   },
   {
    "duration": 53,
    "start_time": "2023-11-13T18:54:03.096Z"
   },
   {
    "duration": 22,
    "start_time": "2023-11-13T18:54:03.150Z"
   },
   {
    "duration": 27,
    "start_time": "2023-11-13T18:54:03.173Z"
   },
   {
    "duration": 3,
    "start_time": "2023-11-13T18:54:03.201Z"
   },
   {
    "duration": 18,
    "start_time": "2023-11-13T18:54:03.206Z"
   },
   {
    "duration": 17,
    "start_time": "2023-11-13T18:54:03.225Z"
   },
   {
    "duration": 15,
    "start_time": "2023-11-13T18:54:03.243Z"
   },
   {
    "duration": 13,
    "start_time": "2023-11-13T18:54:03.259Z"
   },
   {
    "duration": 4,
    "start_time": "2023-11-13T18:54:03.274Z"
   },
   {
    "duration": 13,
    "start_time": "2023-11-13T18:54:03.279Z"
   },
   {
    "duration": 7,
    "start_time": "2023-11-13T18:54:03.294Z"
   },
   {
    "duration": 9,
    "start_time": "2023-11-13T18:54:03.302Z"
   },
   {
    "duration": 6,
    "start_time": "2023-11-13T18:54:03.313Z"
   },
   {
    "duration": 86,
    "start_time": "2023-11-13T18:57:26.353Z"
   },
   {
    "duration": 4,
    "start_time": "2023-11-13T18:57:41.257Z"
   },
   {
    "duration": 4,
    "start_time": "2023-11-13T18:58:03.208Z"
   },
   {
    "duration": 4,
    "start_time": "2023-11-13T18:58:15.579Z"
   },
   {
    "duration": 4,
    "start_time": "2023-11-13T18:58:52.675Z"
   },
   {
    "duration": 3,
    "start_time": "2023-11-13T18:59:04.496Z"
   },
   {
    "duration": 3,
    "start_time": "2023-11-13T18:59:09.902Z"
   },
   {
    "duration": 96,
    "start_time": "2023-11-13T19:06:31.605Z"
   },
   {
    "duration": 14,
    "start_time": "2023-11-13T19:09:46.422Z"
   },
   {
    "duration": 5,
    "start_time": "2023-11-13T19:11:06.368Z"
   },
   {
    "duration": 5,
    "start_time": "2023-11-13T19:19:35.073Z"
   },
   {
    "duration": 5,
    "start_time": "2023-11-13T19:19:57.784Z"
   },
   {
    "duration": 6,
    "start_time": "2023-11-13T19:20:10.055Z"
   },
   {
    "duration": 816,
    "start_time": "2023-11-13T19:27:28.484Z"
   },
   {
    "duration": 54,
    "start_time": "2023-11-13T19:27:29.302Z"
   },
   {
    "duration": 22,
    "start_time": "2023-11-13T19:27:29.358Z"
   },
   {
    "duration": 13,
    "start_time": "2023-11-13T19:27:29.382Z"
   },
   {
    "duration": 3,
    "start_time": "2023-11-13T19:27:29.397Z"
   },
   {
    "duration": 19,
    "start_time": "2023-11-13T19:27:29.401Z"
   },
   {
    "duration": 4,
    "start_time": "2023-11-13T19:27:29.422Z"
   },
   {
    "duration": 40,
    "start_time": "2023-11-13T19:27:29.427Z"
   },
   {
    "duration": 15,
    "start_time": "2023-11-13T19:27:29.468Z"
   },
   {
    "duration": 5,
    "start_time": "2023-11-13T19:27:29.485Z"
   },
   {
    "duration": 17,
    "start_time": "2023-11-13T19:27:29.491Z"
   },
   {
    "duration": 11,
    "start_time": "2023-11-13T19:27:29.509Z"
   },
   {
    "duration": 9,
    "start_time": "2023-11-13T19:27:29.522Z"
   },
   {
    "duration": 3,
    "start_time": "2023-11-13T19:27:29.533Z"
   },
   {
    "duration": 30,
    "start_time": "2023-11-13T19:27:29.538Z"
   },
   {
    "duration": 10,
    "start_time": "2023-11-13T19:27:29.570Z"
   },
   {
    "duration": 842,
    "start_time": "2023-11-13T19:33:08.256Z"
   },
   {
    "duration": 52,
    "start_time": "2023-11-13T19:33:09.100Z"
   },
   {
    "duration": 20,
    "start_time": "2023-11-13T19:33:09.154Z"
   },
   {
    "duration": 31,
    "start_time": "2023-11-13T19:33:09.177Z"
   },
   {
    "duration": 16,
    "start_time": "2023-11-13T19:33:09.210Z"
   },
   {
    "duration": 28,
    "start_time": "2023-11-13T19:33:09.228Z"
   },
   {
    "duration": 4,
    "start_time": "2023-11-13T19:33:09.258Z"
   },
   {
    "duration": 15,
    "start_time": "2023-11-13T19:33:09.263Z"
   },
   {
    "duration": 14,
    "start_time": "2023-11-13T19:33:09.279Z"
   },
   {
    "duration": 13,
    "start_time": "2023-11-13T19:33:09.296Z"
   },
   {
    "duration": 12,
    "start_time": "2023-11-13T19:33:09.310Z"
   },
   {
    "duration": 8,
    "start_time": "2023-11-13T19:33:09.324Z"
   },
   {
    "duration": 9,
    "start_time": "2023-11-13T19:33:09.334Z"
   },
   {
    "duration": 21,
    "start_time": "2023-11-13T19:33:09.345Z"
   },
   {
    "duration": 12,
    "start_time": "2023-11-13T19:33:09.368Z"
   },
   {
    "duration": 105,
    "start_time": "2023-11-13T19:33:09.382Z"
   },
   {
    "duration": 0,
    "start_time": "2023-11-13T19:33:09.489Z"
   },
   {
    "duration": 5,
    "start_time": "2023-11-13T19:33:14.492Z"
   },
   {
    "duration": 9,
    "start_time": "2023-11-13T19:33:16.238Z"
   },
   {
    "duration": 13,
    "start_time": "2023-11-13T19:33:29.532Z"
   },
   {
    "duration": 800,
    "start_time": "2023-11-13T19:35:11.692Z"
   },
   {
    "duration": 52,
    "start_time": "2023-11-13T19:35:12.494Z"
   },
   {
    "duration": 22,
    "start_time": "2023-11-13T19:35:12.548Z"
   },
   {
    "duration": 13,
    "start_time": "2023-11-13T19:35:12.572Z"
   },
   {
    "duration": 22,
    "start_time": "2023-11-13T19:35:12.587Z"
   },
   {
    "duration": 29,
    "start_time": "2023-11-13T19:35:12.611Z"
   },
   {
    "duration": 28,
    "start_time": "2023-11-13T19:35:12.642Z"
   },
   {
    "duration": 33,
    "start_time": "2023-11-13T19:35:12.671Z"
   },
   {
    "duration": 31,
    "start_time": "2023-11-13T19:35:12.706Z"
   },
   {
    "duration": 23,
    "start_time": "2023-11-13T19:35:12.739Z"
   },
   {
    "duration": 20,
    "start_time": "2023-11-13T19:35:12.763Z"
   },
   {
    "duration": 28,
    "start_time": "2023-11-13T19:35:12.785Z"
   },
   {
    "duration": 37,
    "start_time": "2023-11-13T19:35:12.814Z"
   },
   {
    "duration": 21,
    "start_time": "2023-11-13T19:35:12.852Z"
   },
   {
    "duration": 14,
    "start_time": "2023-11-13T19:35:12.875Z"
   },
   {
    "duration": 37,
    "start_time": "2023-11-13T19:35:12.891Z"
   },
   {
    "duration": 33,
    "start_time": "2023-11-13T19:35:12.929Z"
   },
   {
    "duration": 6,
    "start_time": "2023-11-13T19:35:40.466Z"
   },
   {
    "duration": 12,
    "start_time": "2023-11-13T19:35:42.068Z"
   },
   {
    "duration": 810,
    "start_time": "2023-11-13T19:35:50.198Z"
   },
   {
    "duration": 52,
    "start_time": "2023-11-13T19:35:51.012Z"
   },
   {
    "duration": 21,
    "start_time": "2023-11-13T19:35:51.065Z"
   },
   {
    "duration": 21,
    "start_time": "2023-11-13T19:35:51.088Z"
   },
   {
    "duration": 4,
    "start_time": "2023-11-13T19:35:51.111Z"
   },
   {
    "duration": 22,
    "start_time": "2023-11-13T19:35:51.117Z"
   },
   {
    "duration": 18,
    "start_time": "2023-11-13T19:35:51.141Z"
   },
   {
    "duration": 7,
    "start_time": "2023-11-13T19:35:51.160Z"
   },
   {
    "duration": 23,
    "start_time": "2023-11-13T19:35:51.168Z"
   },
   {
    "duration": 20,
    "start_time": "2023-11-13T19:35:51.193Z"
   },
   {
    "duration": 19,
    "start_time": "2023-11-13T19:35:51.214Z"
   },
   {
    "duration": 16,
    "start_time": "2023-11-13T19:35:51.234Z"
   },
   {
    "duration": 31,
    "start_time": "2023-11-13T19:35:51.251Z"
   },
   {
    "duration": 19,
    "start_time": "2023-11-13T19:35:51.284Z"
   },
   {
    "duration": 31,
    "start_time": "2023-11-13T19:35:51.304Z"
   },
   {
    "duration": 19,
    "start_time": "2023-11-13T19:35:51.337Z"
   },
   {
    "duration": 25,
    "start_time": "2023-11-13T19:35:51.359Z"
   },
   {
    "duration": 12,
    "start_time": "2023-11-13T19:36:32.080Z"
   },
   {
    "duration": 13,
    "start_time": "2023-11-13T19:36:47.805Z"
   },
   {
    "duration": 5,
    "start_time": "2023-11-13T19:36:55.004Z"
   },
   {
    "duration": 13,
    "start_time": "2023-11-13T19:36:58.219Z"
   },
   {
    "duration": 860,
    "start_time": "2023-11-13T19:38:06.243Z"
   },
   {
    "duration": 54,
    "start_time": "2023-11-13T19:38:07.105Z"
   },
   {
    "duration": 22,
    "start_time": "2023-11-13T19:38:07.160Z"
   },
   {
    "duration": 22,
    "start_time": "2023-11-13T19:38:07.184Z"
   },
   {
    "duration": 13,
    "start_time": "2023-11-13T19:38:07.207Z"
   },
   {
    "duration": 35,
    "start_time": "2023-11-13T19:38:07.222Z"
   },
   {
    "duration": 5,
    "start_time": "2023-11-13T19:38:07.260Z"
   },
   {
    "duration": 25,
    "start_time": "2023-11-13T19:38:07.266Z"
   },
   {
    "duration": 31,
    "start_time": "2023-11-13T19:38:07.293Z"
   },
   {
    "duration": 19,
    "start_time": "2023-11-13T19:38:07.326Z"
   },
   {
    "duration": 23,
    "start_time": "2023-11-13T19:38:07.347Z"
   },
   {
    "duration": 26,
    "start_time": "2023-11-13T19:38:07.372Z"
   },
   {
    "duration": 18,
    "start_time": "2023-11-13T19:38:07.399Z"
   },
   {
    "duration": 25,
    "start_time": "2023-11-13T19:38:07.419Z"
   },
   {
    "duration": 23,
    "start_time": "2023-11-13T19:38:07.446Z"
   },
   {
    "duration": 17,
    "start_time": "2023-11-13T19:38:07.471Z"
   },
   {
    "duration": 26,
    "start_time": "2023-11-13T19:38:07.490Z"
   },
   {
    "duration": 13,
    "start_time": "2023-11-13T19:38:28.736Z"
   },
   {
    "duration": 9,
    "start_time": "2023-11-13T19:39:32.599Z"
   },
   {
    "duration": 22,
    "start_time": "2023-11-13T19:42:51.983Z"
   },
   {
    "duration": 16,
    "start_time": "2023-11-13T19:43:03.336Z"
   },
   {
    "duration": 5,
    "start_time": "2023-11-13T19:43:17.252Z"
   },
   {
    "duration": 14,
    "start_time": "2023-11-13T19:43:18.814Z"
   },
   {
    "duration": 15,
    "start_time": "2023-11-13T19:46:47.491Z"
   },
   {
    "duration": 566,
    "start_time": "2023-11-13T19:47:04.334Z"
   },
   {
    "duration": 339,
    "start_time": "2023-11-13T19:47:18.781Z"
   },
   {
    "duration": 356,
    "start_time": "2023-11-13T19:47:25.785Z"
   },
   {
    "duration": 323,
    "start_time": "2023-11-13T19:47:30.857Z"
   },
   {
    "duration": 383,
    "start_time": "2023-11-13T19:48:45.808Z"
   },
   {
    "duration": 417,
    "start_time": "2023-11-13T19:49:00.411Z"
   },
   {
    "duration": 325,
    "start_time": "2023-11-13T19:49:23.754Z"
   },
   {
    "duration": 833,
    "start_time": "2023-11-13T19:51:38.682Z"
   },
   {
    "duration": 54,
    "start_time": "2023-11-13T19:51:39.517Z"
   },
   {
    "duration": 21,
    "start_time": "2023-11-13T19:51:39.572Z"
   },
   {
    "duration": 14,
    "start_time": "2023-11-13T19:51:39.595Z"
   },
   {
    "duration": 3,
    "start_time": "2023-11-13T19:51:39.612Z"
   },
   {
    "duration": 14,
    "start_time": "2023-11-13T19:51:39.616Z"
   },
   {
    "duration": 33,
    "start_time": "2023-11-13T19:51:39.632Z"
   },
   {
    "duration": 14,
    "start_time": "2023-11-13T19:51:39.667Z"
   },
   {
    "duration": 15,
    "start_time": "2023-11-13T19:51:39.683Z"
   },
   {
    "duration": 4,
    "start_time": "2023-11-13T19:51:39.700Z"
   },
   {
    "duration": 10,
    "start_time": "2023-11-13T19:51:39.706Z"
   },
   {
    "duration": 8,
    "start_time": "2023-11-13T19:51:39.718Z"
   },
   {
    "duration": 43,
    "start_time": "2023-11-13T19:51:39.727Z"
   },
   {
    "duration": 3,
    "start_time": "2023-11-13T19:51:39.774Z"
   },
   {
    "duration": 25,
    "start_time": "2023-11-13T19:51:39.779Z"
   },
   {
    "duration": 26,
    "start_time": "2023-11-13T19:51:39.805Z"
   },
   {
    "duration": 14,
    "start_time": "2023-11-13T19:51:39.833Z"
   },
   {
    "duration": 10,
    "start_time": "2023-11-13T19:51:39.849Z"
   },
   {
    "duration": 5,
    "start_time": "2023-11-13T19:51:39.861Z"
   },
   {
    "duration": 27,
    "start_time": "2023-11-13T19:51:39.868Z"
   },
   {
    "duration": 655,
    "start_time": "2023-11-13T19:51:39.897Z"
   },
   {
    "duration": 100,
    "start_time": "2023-11-13T19:56:48.876Z"
   },
   {
    "duration": 277,
    "start_time": "2023-11-13T19:57:17.818Z"
   },
   {
    "duration": 259,
    "start_time": "2023-11-13T19:57:43.523Z"
   },
   {
    "duration": 290,
    "start_time": "2023-11-13T19:58:13.544Z"
   },
   {
    "duration": 279,
    "start_time": "2023-11-13T20:01:03.863Z"
   },
   {
    "duration": 301,
    "start_time": "2023-11-13T20:01:45.327Z"
   },
   {
    "duration": 349,
    "start_time": "2023-11-13T20:01:56.231Z"
   },
   {
    "duration": 14,
    "start_time": "2023-11-13T20:07:21.564Z"
   },
   {
    "duration": 11,
    "start_time": "2023-11-13T20:07:51.712Z"
   },
   {
    "duration": 30,
    "start_time": "2023-11-13T20:08:35.077Z"
   },
   {
    "duration": 31,
    "start_time": "2023-11-13T20:10:20.900Z"
   },
   {
    "duration": 793,
    "start_time": "2023-11-14T11:07:59.594Z"
   },
   {
    "duration": 186,
    "start_time": "2023-11-14T11:08:00.389Z"
   },
   {
    "duration": 22,
    "start_time": "2023-11-14T11:08:00.577Z"
   },
   {
    "duration": 67,
    "start_time": "2023-11-14T11:08:00.600Z"
   },
   {
    "duration": 21,
    "start_time": "2023-11-14T11:08:00.669Z"
   },
   {
    "duration": 58,
    "start_time": "2023-11-14T11:08:00.692Z"
   },
   {
    "duration": 53,
    "start_time": "2023-11-14T11:08:00.751Z"
   },
   {
    "duration": 137,
    "start_time": "2023-11-14T11:08:00.806Z"
   },
   {
    "duration": 79,
    "start_time": "2023-11-14T11:08:00.945Z"
   },
   {
    "duration": 46,
    "start_time": "2023-11-14T11:08:01.027Z"
   },
   {
    "duration": 44,
    "start_time": "2023-11-14T11:08:01.075Z"
   },
   {
    "duration": 62,
    "start_time": "2023-11-14T11:08:01.121Z"
   },
   {
    "duration": 78,
    "start_time": "2023-11-14T11:08:01.185Z"
   },
   {
    "duration": 143,
    "start_time": "2023-11-14T11:08:01.265Z"
   },
   {
    "duration": 93,
    "start_time": "2023-11-14T11:08:01.409Z"
   },
   {
    "duration": 192,
    "start_time": "2023-11-14T11:08:01.504Z"
   },
   {
    "duration": 36,
    "start_time": "2023-11-14T11:08:01.698Z"
   },
   {
    "duration": 31,
    "start_time": "2023-11-14T11:08:01.736Z"
   },
   {
    "duration": 28,
    "start_time": "2023-11-14T11:08:01.768Z"
   },
   {
    "duration": 51,
    "start_time": "2023-11-14T11:08:01.798Z"
   },
   {
    "duration": 758,
    "start_time": "2023-11-14T11:08:01.851Z"
   },
   {
    "duration": 272,
    "start_time": "2023-11-14T11:08:02.611Z"
   },
   {
    "duration": 1595,
    "start_time": "2023-11-14T11:08:02.885Z"
   },
   {
    "duration": 1544,
    "start_time": "2023-11-14T11:08:22.467Z"
   },
   {
    "duration": 1688,
    "start_time": "2023-11-14T11:08:48.787Z"
   },
   {
    "duration": 106,
    "start_time": "2023-11-14T11:12:08.754Z"
   },
   {
    "duration": 18,
    "start_time": "2023-11-14T11:12:18.054Z"
   },
   {
    "duration": 104,
    "start_time": "2023-11-14T11:12:54.144Z"
   },
   {
    "duration": 19,
    "start_time": "2023-11-14T11:13:08.935Z"
   },
   {
    "duration": 27,
    "start_time": "2023-11-14T11:13:16.963Z"
   },
   {
    "duration": 18,
    "start_time": "2023-11-14T11:16:13.836Z"
   },
   {
    "duration": 33,
    "start_time": "2023-11-14T11:16:18.268Z"
   },
   {
    "duration": 1728,
    "start_time": "2023-11-14T11:21:49.670Z"
   },
   {
    "duration": 14,
    "start_time": "2023-11-14T11:22:04.345Z"
   },
   {
    "duration": 20,
    "start_time": "2023-11-14T11:22:34.761Z"
   },
   {
    "duration": 8,
    "start_time": "2023-11-14T11:27:18.955Z"
   },
   {
    "duration": 8,
    "start_time": "2023-11-14T11:27:28.528Z"
   },
   {
    "duration": 12,
    "start_time": "2023-11-14T11:27:49.339Z"
   },
   {
    "duration": 201,
    "start_time": "2023-11-14T11:28:02.592Z"
   },
   {
    "duration": 230,
    "start_time": "2023-11-14T11:28:23.276Z"
   },
   {
    "duration": 221,
    "start_time": "2023-11-14T11:30:07.404Z"
   },
   {
    "duration": 354,
    "start_time": "2023-11-14T11:45:33.351Z"
   },
   {
    "duration": 832,
    "start_time": "2023-11-15T13:16:30.445Z"
   },
   {
    "duration": 102,
    "start_time": "2023-11-15T13:16:31.279Z"
   },
   {
    "duration": 22,
    "start_time": "2023-11-15T13:16:31.383Z"
   },
   {
    "duration": 26,
    "start_time": "2023-11-15T13:16:31.407Z"
   },
   {
    "duration": 13,
    "start_time": "2023-11-15T13:16:31.435Z"
   },
   {
    "duration": 27,
    "start_time": "2023-11-15T13:16:31.450Z"
   },
   {
    "duration": 18,
    "start_time": "2023-11-15T13:16:31.479Z"
   },
   {
    "duration": 32,
    "start_time": "2023-11-15T13:16:31.498Z"
   },
   {
    "duration": 31,
    "start_time": "2023-11-15T13:16:31.532Z"
   },
   {
    "duration": 23,
    "start_time": "2023-11-15T13:16:31.565Z"
   },
   {
    "duration": 25,
    "start_time": "2023-11-15T13:16:31.590Z"
   },
   {
    "duration": 19,
    "start_time": "2023-11-15T13:16:31.616Z"
   },
   {
    "duration": 25,
    "start_time": "2023-11-15T13:16:31.636Z"
   },
   {
    "duration": 21,
    "start_time": "2023-11-15T13:16:31.662Z"
   },
   {
    "duration": 26,
    "start_time": "2023-11-15T13:16:31.685Z"
   },
   {
    "duration": 19,
    "start_time": "2023-11-15T13:16:31.712Z"
   },
   {
    "duration": 39,
    "start_time": "2023-11-15T13:16:31.732Z"
   },
   {
    "duration": 23,
    "start_time": "2023-11-15T13:16:31.773Z"
   },
   {
    "duration": 13,
    "start_time": "2023-11-15T13:16:31.798Z"
   },
   {
    "duration": 35,
    "start_time": "2023-11-15T13:16:31.813Z"
   },
   {
    "duration": 843,
    "start_time": "2023-11-15T13:16:31.850Z"
   },
   {
    "duration": 324,
    "start_time": "2023-11-15T13:16:32.695Z"
   },
   {
    "duration": 41,
    "start_time": "2023-11-15T13:16:33.021Z"
   },
   {
    "duration": 16,
    "start_time": "2023-11-15T13:16:33.065Z"
   },
   {
    "duration": 276,
    "start_time": "2023-11-15T13:16:33.082Z"
   },
   {
    "duration": 3600,
    "start_time": "2023-11-15T13:16:33.360Z"
   },
   {
    "duration": 117,
    "start_time": "2023-11-15T13:17:06.336Z"
   },
   {
    "duration": 3724,
    "start_time": "2023-11-15T13:17:21.668Z"
   },
   {
    "duration": 893,
    "start_time": "2023-11-15T13:17:50.718Z"
   },
   {
    "duration": 806,
    "start_time": "2023-11-15T13:18:05.848Z"
   },
   {
    "duration": 777,
    "start_time": "2023-11-15T13:18:49.685Z"
   },
   {
    "duration": 952,
    "start_time": "2023-11-15T13:20:26.431Z"
   },
   {
    "duration": 790,
    "start_time": "2023-11-15T13:20:53.143Z"
   },
   {
    "duration": 774,
    "start_time": "2023-11-15T13:21:34.948Z"
   },
   {
    "duration": 803,
    "start_time": "2023-11-15T13:22:02.622Z"
   },
   {
    "duration": 878,
    "start_time": "2023-11-15T13:24:55.677Z"
   },
   {
    "duration": 1095,
    "start_time": "2023-11-15T13:25:04.740Z"
   },
   {
    "duration": 958,
    "start_time": "2023-11-15T13:25:33.129Z"
   },
   {
    "duration": 21,
    "start_time": "2023-11-15T13:25:45.891Z"
   },
   {
    "duration": 961,
    "start_time": "2023-11-15T13:25:53.101Z"
   },
   {
    "duration": 934,
    "start_time": "2023-11-15T13:26:01.769Z"
   },
   {
    "duration": 1092,
    "start_time": "2023-11-15T13:26:13.469Z"
   },
   {
    "duration": 900,
    "start_time": "2023-11-15T13:26:25.408Z"
   },
   {
    "duration": 924,
    "start_time": "2023-11-15T13:26:35.907Z"
   },
   {
    "duration": 953,
    "start_time": "2023-11-15T13:26:49.474Z"
   },
   {
    "duration": 888,
    "start_time": "2023-11-15T13:27:04.423Z"
   },
   {
    "duration": 899,
    "start_time": "2023-11-15T13:27:09.706Z"
   },
   {
    "duration": 1133,
    "start_time": "2023-11-15T13:27:16.303Z"
   },
   {
    "duration": 877,
    "start_time": "2023-11-15T13:27:22.987Z"
   },
   {
    "duration": 937,
    "start_time": "2023-11-15T13:27:29.344Z"
   },
   {
    "duration": 943,
    "start_time": "2023-11-15T13:31:15.814Z"
   },
   {
    "duration": 944,
    "start_time": "2023-11-15T13:31:23.898Z"
   },
   {
    "duration": 508,
    "start_time": "2023-11-15T13:35:59.379Z"
   },
   {
    "duration": 484,
    "start_time": "2023-11-15T13:38:07.261Z"
   },
   {
    "duration": 433,
    "start_time": "2023-11-15T13:38:21.250Z"
   },
   {
    "duration": 407,
    "start_time": "2023-11-15T13:38:28.010Z"
   },
   {
    "duration": 1320,
    "start_time": "2023-11-15T13:40:26.004Z"
   },
   {
    "duration": 35,
    "start_time": "2023-11-15T13:44:28.548Z"
   },
   {
    "duration": 744,
    "start_time": "2023-11-15T13:44:37.118Z"
   },
   {
    "duration": 24,
    "start_time": "2023-11-15T13:48:33.951Z"
   },
   {
    "duration": 909,
    "start_time": "2023-11-15T13:53:53.611Z"
   },
   {
    "duration": 60,
    "start_time": "2023-11-15T13:53:54.521Z"
   },
   {
    "duration": 25,
    "start_time": "2023-11-15T13:53:54.582Z"
   },
   {
    "duration": 17,
    "start_time": "2023-11-15T13:53:54.609Z"
   },
   {
    "duration": 7,
    "start_time": "2023-11-15T13:53:54.628Z"
   },
   {
    "duration": 26,
    "start_time": "2023-11-15T13:53:54.636Z"
   },
   {
    "duration": 5,
    "start_time": "2023-11-15T13:53:54.664Z"
   },
   {
    "duration": 44,
    "start_time": "2023-11-15T13:53:54.671Z"
   },
   {
    "duration": 15,
    "start_time": "2023-11-15T13:53:54.717Z"
   },
   {
    "duration": 5,
    "start_time": "2023-11-15T13:53:54.734Z"
   },
   {
    "duration": 10,
    "start_time": "2023-11-15T13:53:54.740Z"
   },
   {
    "duration": 10,
    "start_time": "2023-11-15T13:53:54.752Z"
   },
   {
    "duration": 48,
    "start_time": "2023-11-15T13:53:54.764Z"
   },
   {
    "duration": 3,
    "start_time": "2023-11-15T13:53:54.815Z"
   },
   {
    "duration": 8,
    "start_time": "2023-11-15T13:53:54.820Z"
   },
   {
    "duration": 10,
    "start_time": "2023-11-15T13:53:54.829Z"
   },
   {
    "duration": 16,
    "start_time": "2023-11-15T13:53:54.841Z"
   },
   {
    "duration": 9,
    "start_time": "2023-11-15T13:53:54.858Z"
   },
   {
    "duration": 45,
    "start_time": "2023-11-15T13:53:54.869Z"
   },
   {
    "duration": 16,
    "start_time": "2023-11-15T13:53:54.916Z"
   },
   {
    "duration": 660,
    "start_time": "2023-11-15T13:53:54.934Z"
   },
   {
    "duration": 356,
    "start_time": "2023-11-15T13:53:55.595Z"
   },
   {
    "duration": 37,
    "start_time": "2023-11-15T13:53:55.953Z"
   },
   {
    "duration": 807,
    "start_time": "2023-11-15T13:53:55.992Z"
   },
   {
    "duration": 33,
    "start_time": "2023-11-15T13:53:56.801Z"
   },
   {
    "duration": 6,
    "start_time": "2023-11-15T13:53:56.835Z"
   },
   {
    "duration": 260,
    "start_time": "2023-11-15T14:07:57.416Z"
   },
   {
    "duration": 226,
    "start_time": "2023-11-15T14:08:23.125Z"
   },
   {
    "duration": 1945,
    "start_time": "2023-11-15T14:09:37.452Z"
   },
   {
    "duration": 21,
    "start_time": "2023-11-15T14:10:04.294Z"
   },
   {
    "duration": 21,
    "start_time": "2023-11-15T14:10:45.431Z"
   },
   {
    "duration": 26,
    "start_time": "2023-11-15T14:11:38.801Z"
   },
   {
    "duration": 1641,
    "start_time": "2023-11-15T14:12:35.352Z"
   },
   {
    "duration": 31,
    "start_time": "2023-11-15T14:12:59.523Z"
   },
   {
    "duration": 2306,
    "start_time": "2023-11-15T14:13:08.347Z"
   },
   {
    "duration": 2224,
    "start_time": "2023-11-15T14:13:20.282Z"
   },
   {
    "duration": 226,
    "start_time": "2023-11-15T14:49:23.791Z"
   },
   {
    "duration": 2153,
    "start_time": "2023-11-15T14:53:54.242Z"
   },
   {
    "duration": 2298,
    "start_time": "2023-11-15T14:54:05.813Z"
   },
   {
    "duration": 645,
    "start_time": "2023-11-15T14:54:22.517Z"
   },
   {
    "duration": 576,
    "start_time": "2023-11-15T14:56:13.095Z"
   },
   {
    "duration": 5046,
    "start_time": "2023-11-15T14:56:22.135Z"
   },
   {
    "duration": 313,
    "start_time": "2023-11-15T14:56:54.816Z"
   },
   {
    "duration": 133,
    "start_time": "2023-11-15T14:57:11.989Z"
   },
   {
    "duration": 323,
    "start_time": "2023-11-15T14:57:37.018Z"
   },
   {
    "duration": 875,
    "start_time": "2023-11-15T14:58:01.915Z"
   },
   {
    "duration": 313,
    "start_time": "2023-11-15T14:58:12.994Z"
   },
   {
    "duration": 322,
    "start_time": "2023-11-15T14:59:19.336Z"
   },
   {
    "duration": 524,
    "start_time": "2023-11-15T14:59:53.507Z"
   },
   {
    "duration": 660,
    "start_time": "2023-11-15T15:00:09.181Z"
   },
   {
    "duration": 15120,
    "start_time": "2023-11-15T15:02:16.342Z"
   },
   {
    "duration": 7716,
    "start_time": "2023-11-15T15:02:51.451Z"
   },
   {
    "duration": 478,
    "start_time": "2023-11-15T15:05:25.558Z"
   },
   {
    "duration": 207,
    "start_time": "2023-11-15T15:05:55.760Z"
   },
   {
    "duration": 5,
    "start_time": "2023-11-15T15:06:17.512Z"
   },
   {
    "duration": 4,
    "start_time": "2023-11-15T15:06:26.101Z"
   },
   {
    "duration": 24,
    "start_time": "2023-11-15T15:06:51.429Z"
   },
   {
    "duration": 16,
    "start_time": "2023-11-15T15:09:13.811Z"
   },
   {
    "duration": 20,
    "start_time": "2023-11-15T15:09:19.937Z"
   },
   {
    "duration": 36,
    "start_time": "2023-11-15T15:09:35.398Z"
   },
   {
    "duration": 331,
    "start_time": "2023-11-15T15:10:04.049Z"
   },
   {
    "duration": 2687,
    "start_time": "2023-11-15T15:10:16.653Z"
   },
   {
    "duration": 2656,
    "start_time": "2023-11-15T15:11:00.780Z"
   },
   {
    "duration": 128,
    "start_time": "2023-11-15T15:11:12.195Z"
   },
   {
    "duration": 21,
    "start_time": "2023-11-15T15:11:28.893Z"
   },
   {
    "duration": 3336,
    "start_time": "2023-11-15T15:12:01.954Z"
   },
   {
    "duration": 1237,
    "start_time": "2023-11-15T15:12:15.235Z"
   },
   {
    "duration": 1216,
    "start_time": "2023-11-15T15:12:38.091Z"
   },
   {
    "duration": 1197,
    "start_time": "2023-11-15T15:12:46.018Z"
   },
   {
    "duration": 1275,
    "start_time": "2023-11-15T15:12:56.391Z"
   },
   {
    "duration": 1569,
    "start_time": "2023-11-15T15:13:03.781Z"
   },
   {
    "duration": 1533,
    "start_time": "2023-11-15T15:14:10.370Z"
   },
   {
    "duration": 141,
    "start_time": "2023-11-15T15:29:10.518Z"
   },
   {
    "duration": 151,
    "start_time": "2023-11-15T15:29:56.690Z"
   },
   {
    "duration": 198,
    "start_time": "2023-11-15T15:30:10.780Z"
   },
   {
    "duration": 152,
    "start_time": "2023-11-15T15:30:20.291Z"
   },
   {
    "duration": 183,
    "start_time": "2023-11-15T15:35:23.597Z"
   },
   {
    "duration": 5,
    "start_time": "2023-11-15T15:35:54.134Z"
   },
   {
    "duration": 158,
    "start_time": "2023-11-15T15:36:27.175Z"
   },
   {
    "duration": 5,
    "start_time": "2023-11-15T15:36:39.279Z"
   },
   {
    "duration": 844,
    "start_time": "2023-11-15T15:41:14.126Z"
   },
   {
    "duration": 59,
    "start_time": "2023-11-15T15:41:14.972Z"
   },
   {
    "duration": 24,
    "start_time": "2023-11-15T15:41:15.033Z"
   },
   {
    "duration": 16,
    "start_time": "2023-11-15T15:41:15.059Z"
   },
   {
    "duration": 12,
    "start_time": "2023-11-15T15:41:15.077Z"
   },
   {
    "duration": 31,
    "start_time": "2023-11-15T15:41:15.091Z"
   },
   {
    "duration": 5,
    "start_time": "2023-11-15T15:41:15.124Z"
   },
   {
    "duration": 21,
    "start_time": "2023-11-15T15:41:15.131Z"
   },
   {
    "duration": 30,
    "start_time": "2023-11-15T15:41:15.154Z"
   },
   {
    "duration": 5,
    "start_time": "2023-11-15T15:41:15.188Z"
   },
   {
    "duration": 16,
    "start_time": "2023-11-15T15:41:15.212Z"
   },
   {
    "duration": 11,
    "start_time": "2023-11-15T15:41:15.230Z"
   },
   {
    "duration": 36,
    "start_time": "2023-11-15T15:41:15.243Z"
   },
   {
    "duration": 4,
    "start_time": "2023-11-15T15:41:15.281Z"
   },
   {
    "duration": 24,
    "start_time": "2023-11-15T15:41:15.287Z"
   },
   {
    "duration": 6,
    "start_time": "2023-11-15T15:41:15.313Z"
   },
   {
    "duration": 15,
    "start_time": "2023-11-15T15:41:15.321Z"
   },
   {
    "duration": 10,
    "start_time": "2023-11-15T15:41:15.337Z"
   },
   {
    "duration": 12,
    "start_time": "2023-11-15T15:41:15.348Z"
   },
   {
    "duration": 20,
    "start_time": "2023-11-15T15:41:15.361Z"
   },
   {
    "duration": 704,
    "start_time": "2023-11-15T15:41:15.382Z"
   },
   {
    "duration": 339,
    "start_time": "2023-11-15T15:41:16.088Z"
   },
   {
    "duration": 32,
    "start_time": "2023-11-15T15:41:16.429Z"
   },
   {
    "duration": 706,
    "start_time": "2023-11-15T15:41:16.463Z"
   },
   {
    "duration": 23,
    "start_time": "2023-11-15T15:41:17.171Z"
   },
   {
    "duration": 2326,
    "start_time": "2023-11-15T15:41:17.195Z"
   },
   {
    "duration": 1590,
    "start_time": "2023-11-15T15:41:19.523Z"
   },
   {
    "duration": 165,
    "start_time": "2023-11-15T15:41:21.116Z"
   },
   {
    "duration": 105,
    "start_time": "2023-11-15T15:41:21.283Z"
   },
   {
    "duration": 0,
    "start_time": "2023-11-15T15:41:21.390Z"
   },
   {
    "duration": 0,
    "start_time": "2023-11-15T15:41:21.392Z"
   },
   {
    "duration": 5,
    "start_time": "2023-11-15T15:41:28.646Z"
   },
   {
    "duration": 150,
    "start_time": "2023-11-15T15:41:33.173Z"
   },
   {
    "duration": 6,
    "start_time": "2023-11-15T15:41:36.482Z"
   },
   {
    "duration": 903,
    "start_time": "2023-11-15T15:41:47.943Z"
   },
   {
    "duration": 60,
    "start_time": "2023-11-15T15:41:48.849Z"
   },
   {
    "duration": 25,
    "start_time": "2023-11-15T15:41:48.911Z"
   },
   {
    "duration": 16,
    "start_time": "2023-11-15T15:41:48.938Z"
   },
   {
    "duration": 4,
    "start_time": "2023-11-15T15:41:48.956Z"
   },
   {
    "duration": 23,
    "start_time": "2023-11-15T15:41:48.962Z"
   },
   {
    "duration": 5,
    "start_time": "2023-11-15T15:41:49.012Z"
   },
   {
    "duration": 18,
    "start_time": "2023-11-15T15:41:49.018Z"
   },
   {
    "duration": 23,
    "start_time": "2023-11-15T15:41:49.038Z"
   },
   {
    "duration": 4,
    "start_time": "2023-11-15T15:41:49.063Z"
   },
   {
    "duration": 16,
    "start_time": "2023-11-15T15:41:49.069Z"
   },
   {
    "duration": 12,
    "start_time": "2023-11-15T15:41:49.112Z"
   },
   {
    "duration": 16,
    "start_time": "2023-11-15T15:41:49.126Z"
   },
   {
    "duration": 13,
    "start_time": "2023-11-15T15:41:49.146Z"
   },
   {
    "duration": 6,
    "start_time": "2023-11-15T15:41:49.161Z"
   },
   {
    "duration": 8,
    "start_time": "2023-11-15T15:41:49.169Z"
   },
   {
    "duration": 44,
    "start_time": "2023-11-15T15:41:49.179Z"
   },
   {
    "duration": 10,
    "start_time": "2023-11-15T15:41:49.224Z"
   },
   {
    "duration": 6,
    "start_time": "2023-11-15T15:41:49.236Z"
   },
   {
    "duration": 15,
    "start_time": "2023-11-15T15:41:49.244Z"
   },
   {
    "duration": 697,
    "start_time": "2023-11-15T15:41:49.261Z"
   },
   {
    "duration": 330,
    "start_time": "2023-11-15T15:41:49.960Z"
   },
   {
    "duration": 40,
    "start_time": "2023-11-15T15:41:50.292Z"
   },
   {
    "duration": 680,
    "start_time": "2023-11-15T15:41:50.334Z"
   },
   {
    "duration": 25,
    "start_time": "2023-11-15T15:41:51.016Z"
   },
   {
    "duration": 2349,
    "start_time": "2023-11-15T15:41:51.043Z"
   },
   {
    "duration": 1615,
    "start_time": "2023-11-15T15:41:53.393Z"
   },
   {
    "duration": 154,
    "start_time": "2023-11-15T15:41:55.010Z"
   },
   {
    "duration": 5,
    "start_time": "2023-11-15T15:41:55.166Z"
   },
   {
    "duration": 148,
    "start_time": "2023-11-15T15:41:55.173Z"
   },
   {
    "duration": 6,
    "start_time": "2023-11-15T15:41:55.323Z"
   },
   {
    "duration": 131,
    "start_time": "2023-11-15T15:43:30.124Z"
   },
   {
    "duration": 139,
    "start_time": "2023-11-15T15:44:10.539Z"
   },
   {
    "duration": 6,
    "start_time": "2023-11-15T15:44:31.321Z"
   },
   {
    "duration": 176,
    "start_time": "2023-11-15T15:44:49.537Z"
   },
   {
    "duration": 7,
    "start_time": "2023-11-15T15:45:04.242Z"
   },
   {
    "duration": 148,
    "start_time": "2023-11-15T15:45:53.241Z"
   },
   {
    "duration": 5,
    "start_time": "2023-11-15T15:46:15.775Z"
   },
   {
    "duration": 167,
    "start_time": "2023-11-15T15:46:35.202Z"
   },
   {
    "duration": 6,
    "start_time": "2023-11-15T15:48:20.316Z"
   },
   {
    "duration": 118,
    "start_time": "2023-11-15T15:50:46.592Z"
   },
   {
    "duration": 323,
    "start_time": "2023-11-15T15:50:59.888Z"
   },
   {
    "duration": 190,
    "start_time": "2023-11-15T15:51:28.160Z"
   },
   {
    "duration": 198,
    "start_time": "2023-11-15T15:52:22.639Z"
   },
   {
    "duration": 205,
    "start_time": "2023-11-15T15:52:36.312Z"
   },
   {
    "duration": 190,
    "start_time": "2023-11-15T15:52:46.042Z"
   },
   {
    "duration": 189,
    "start_time": "2023-11-15T15:53:05.894Z"
   },
   {
    "duration": 13,
    "start_time": "2023-11-15T15:54:20.073Z"
   },
   {
    "duration": 183,
    "start_time": "2023-11-15T15:54:53.135Z"
   },
   {
    "duration": 190,
    "start_time": "2023-11-15T15:55:36.694Z"
   },
   {
    "duration": 193,
    "start_time": "2023-11-15T15:56:02.660Z"
   },
   {
    "duration": 201,
    "start_time": "2023-11-15T16:17:54.299Z"
   },
   {
    "duration": 340,
    "start_time": "2023-11-15T16:18:26.088Z"
   },
   {
    "duration": 188,
    "start_time": "2023-11-15T16:22:48.598Z"
   },
   {
    "duration": 27,
    "start_time": "2023-11-15T16:24:52.980Z"
   },
   {
    "duration": 207,
    "start_time": "2023-11-15T16:24:58.896Z"
   },
   {
    "duration": 184,
    "start_time": "2023-11-15T16:25:23.189Z"
   },
   {
    "duration": 87,
    "start_time": "2023-11-15T16:26:54.589Z"
   },
   {
    "duration": 227,
    "start_time": "2023-11-15T16:28:20.126Z"
   },
   {
    "duration": 213,
    "start_time": "2023-11-15T16:40:30.322Z"
   },
   {
    "duration": 192,
    "start_time": "2023-11-15T16:44:00.159Z"
   },
   {
    "duration": 211,
    "start_time": "2023-11-15T16:44:20.121Z"
   },
   {
    "duration": 75,
    "start_time": "2023-11-15T16:44:26.700Z"
   },
   {
    "duration": 204,
    "start_time": "2023-11-15T16:44:34.106Z"
   },
   {
    "duration": 203,
    "start_time": "2023-11-15T16:44:53.002Z"
   },
   {
    "duration": 189,
    "start_time": "2023-11-15T16:44:57.401Z"
   },
   {
    "duration": 201,
    "start_time": "2023-11-15T16:45:07.743Z"
   },
   {
    "duration": 213,
    "start_time": "2023-11-15T16:45:27.583Z"
   },
   {
    "duration": 220,
    "start_time": "2023-11-15T16:45:41.545Z"
   },
   {
    "duration": 193,
    "start_time": "2023-11-15T16:45:58.020Z"
   },
   {
    "duration": 196,
    "start_time": "2023-11-15T16:46:11.498Z"
   },
   {
    "duration": 224,
    "start_time": "2023-11-15T16:46:21.499Z"
   },
   {
    "duration": 197,
    "start_time": "2023-11-15T16:46:31.020Z"
   },
   {
    "duration": 364,
    "start_time": "2023-11-15T16:46:44.840Z"
   },
   {
    "duration": 199,
    "start_time": "2023-11-15T16:46:54.962Z"
   },
   {
    "duration": 72,
    "start_time": "2023-11-16T10:42:50.455Z"
   },
   {
    "duration": 42,
    "start_time": "2023-11-16T10:43:53.122Z"
   },
   {
    "duration": 843,
    "start_time": "2023-11-16T10:44:00.158Z"
   },
   {
    "duration": 186,
    "start_time": "2023-11-16T10:44:01.003Z"
   },
   {
    "duration": 23,
    "start_time": "2023-11-16T10:44:01.190Z"
   },
   {
    "duration": 42,
    "start_time": "2023-11-16T10:44:01.215Z"
   },
   {
    "duration": 51,
    "start_time": "2023-11-16T10:44:01.259Z"
   },
   {
    "duration": 51,
    "start_time": "2023-11-16T10:44:01.311Z"
   },
   {
    "duration": 50,
    "start_time": "2023-11-16T10:44:01.364Z"
   },
   {
    "duration": 63,
    "start_time": "2023-11-16T10:44:01.416Z"
   },
   {
    "duration": 85,
    "start_time": "2023-11-16T10:44:01.481Z"
   },
   {
    "duration": 80,
    "start_time": "2023-11-16T10:44:01.568Z"
   },
   {
    "duration": 75,
    "start_time": "2023-11-16T10:44:01.650Z"
   },
   {
    "duration": 103,
    "start_time": "2023-11-16T10:44:01.726Z"
   },
   {
    "duration": 69,
    "start_time": "2023-11-16T10:44:01.831Z"
   },
   {
    "duration": 147,
    "start_time": "2023-11-16T10:44:01.902Z"
   },
   {
    "duration": 45,
    "start_time": "2023-11-16T10:44:02.051Z"
   },
   {
    "duration": 38,
    "start_time": "2023-11-16T10:44:02.097Z"
   },
   {
    "duration": 65,
    "start_time": "2023-11-16T10:44:02.136Z"
   },
   {
    "duration": 29,
    "start_time": "2023-11-16T10:44:02.203Z"
   },
   {
    "duration": 33,
    "start_time": "2023-11-16T10:44:02.234Z"
   },
   {
    "duration": 86,
    "start_time": "2023-11-16T10:44:02.268Z"
   },
   {
    "duration": 841,
    "start_time": "2023-11-16T10:44:02.355Z"
   },
   {
    "duration": 297,
    "start_time": "2023-11-16T10:44:03.198Z"
   },
   {
    "duration": 27,
    "start_time": "2023-11-16T10:44:03.498Z"
   },
   {
    "duration": 589,
    "start_time": "2023-11-16T10:44:03.527Z"
   },
   {
    "duration": 20,
    "start_time": "2023-11-16T10:44:04.118Z"
   },
   {
    "duration": 2045,
    "start_time": "2023-11-16T10:44:04.140Z"
   },
   {
    "duration": 1382,
    "start_time": "2023-11-16T10:44:06.186Z"
   },
   {
    "duration": 142,
    "start_time": "2023-11-16T10:44:07.570Z"
   },
   {
    "duration": 6,
    "start_time": "2023-11-16T10:44:07.713Z"
   },
   {
    "duration": 128,
    "start_time": "2023-11-16T10:44:07.720Z"
   },
   {
    "duration": 8,
    "start_time": "2023-11-16T10:44:07.850Z"
   },
   {
    "duration": 140,
    "start_time": "2023-11-16T10:44:07.859Z"
   },
   {
    "duration": 5,
    "start_time": "2023-11-16T10:44:08.001Z"
   },
   {
    "duration": 157,
    "start_time": "2023-11-16T10:44:08.008Z"
   },
   {
    "duration": 5,
    "start_time": "2023-11-16T10:44:08.167Z"
   },
   {
    "duration": 185,
    "start_time": "2023-11-16T10:44:08.174Z"
   },
   {
    "duration": 181,
    "start_time": "2023-11-16T10:44:08.361Z"
   },
   {
    "duration": 194,
    "start_time": "2023-11-16T10:44:08.544Z"
   },
   {
    "duration": 187,
    "start_time": "2023-11-16T10:44:08.739Z"
   },
   {
    "duration": 189,
    "start_time": "2023-11-16T10:44:08.927Z"
   },
   {
    "duration": 190,
    "start_time": "2023-11-16T10:44:09.120Z"
   },
   {
    "duration": 208,
    "start_time": "2023-11-16T10:44:09.311Z"
   },
   {
    "duration": 282,
    "start_time": "2023-11-16T10:44:09.520Z"
   },
   {
    "duration": 12,
    "start_time": "2023-11-16T10:44:09.803Z"
   },
   {
    "duration": 14,
    "start_time": "2023-11-16T10:44:29.174Z"
   },
   {
    "duration": 12,
    "start_time": "2023-11-16T10:44:38.722Z"
   },
   {
    "duration": 13,
    "start_time": "2023-11-16T10:44:43.004Z"
   },
   {
    "duration": 16,
    "start_time": "2023-11-16T10:45:17.162Z"
   },
   {
    "duration": 15,
    "start_time": "2023-11-16T10:45:47.025Z"
   },
   {
    "duration": 97,
    "start_time": "2023-11-16T11:30:52.952Z"
   },
   {
    "duration": 790,
    "start_time": "2023-11-16T11:31:19.795Z"
   },
   {
    "duration": 53,
    "start_time": "2023-11-16T11:31:20.587Z"
   },
   {
    "duration": 20,
    "start_time": "2023-11-16T11:31:20.642Z"
   },
   {
    "duration": 28,
    "start_time": "2023-11-16T11:31:20.663Z"
   },
   {
    "duration": 2,
    "start_time": "2023-11-16T11:31:20.693Z"
   },
   {
    "duration": 22,
    "start_time": "2023-11-16T11:31:20.697Z"
   },
   {
    "duration": 18,
    "start_time": "2023-11-16T11:31:20.721Z"
   },
   {
    "duration": 32,
    "start_time": "2023-11-16T11:31:20.741Z"
   },
   {
    "duration": 29,
    "start_time": "2023-11-16T11:31:20.774Z"
   },
   {
    "duration": 11,
    "start_time": "2023-11-16T11:31:20.805Z"
   },
   {
    "duration": 15,
    "start_time": "2023-11-16T11:31:20.817Z"
   },
   {
    "duration": 9,
    "start_time": "2023-11-16T11:31:20.834Z"
   },
   {
    "duration": 23,
    "start_time": "2023-11-16T11:31:20.845Z"
   },
   {
    "duration": 8,
    "start_time": "2023-11-16T11:31:20.869Z"
   },
   {
    "duration": 20,
    "start_time": "2023-11-16T11:31:20.878Z"
   },
   {
    "duration": 17,
    "start_time": "2023-11-16T11:31:20.899Z"
   },
   {
    "duration": 21,
    "start_time": "2023-11-16T11:31:20.918Z"
   },
   {
    "duration": 8,
    "start_time": "2023-11-16T11:31:20.941Z"
   },
   {
    "duration": 11,
    "start_time": "2023-11-16T11:31:20.950Z"
   },
   {
    "duration": 13,
    "start_time": "2023-11-16T11:31:20.962Z"
   },
   {
    "duration": 591,
    "start_time": "2023-11-16T11:31:20.976Z"
   },
   {
    "duration": 270,
    "start_time": "2023-11-16T11:31:21.569Z"
   },
   {
    "duration": 31,
    "start_time": "2023-11-16T11:31:21.840Z"
   },
   {
    "duration": 598,
    "start_time": "2023-11-16T11:31:21.872Z"
   },
   {
    "duration": 21,
    "start_time": "2023-11-16T11:31:22.472Z"
   },
   {
    "duration": 1955,
    "start_time": "2023-11-16T11:31:22.495Z"
   },
   {
    "duration": 1404,
    "start_time": "2023-11-16T11:31:24.455Z"
   },
   {
    "duration": 131,
    "start_time": "2023-11-16T11:31:25.862Z"
   },
   {
    "duration": 5,
    "start_time": "2023-11-16T11:31:25.995Z"
   },
   {
    "duration": 143,
    "start_time": "2023-11-16T11:31:26.002Z"
   },
   {
    "duration": 12,
    "start_time": "2023-11-16T11:31:26.146Z"
   },
   {
    "duration": 140,
    "start_time": "2023-11-16T11:31:26.159Z"
   },
   {
    "duration": 5,
    "start_time": "2023-11-16T11:31:26.300Z"
   },
   {
    "duration": 157,
    "start_time": "2023-11-16T11:31:26.307Z"
   },
   {
    "duration": 4,
    "start_time": "2023-11-16T11:31:26.466Z"
   },
   {
    "duration": 186,
    "start_time": "2023-11-16T11:31:26.472Z"
   },
   {
    "duration": 177,
    "start_time": "2023-11-16T11:31:26.660Z"
   },
   {
    "duration": 194,
    "start_time": "2023-11-16T11:31:26.838Z"
   },
   {
    "duration": 186,
    "start_time": "2023-11-16T11:31:27.034Z"
   },
   {
    "duration": 199,
    "start_time": "2023-11-16T11:31:27.221Z"
   },
   {
    "duration": 191,
    "start_time": "2023-11-16T11:31:27.422Z"
   },
   {
    "duration": 197,
    "start_time": "2023-11-16T11:31:27.615Z"
   },
   {
    "duration": 180,
    "start_time": "2023-11-16T11:31:27.814Z"
   },
   {
    "duration": 16,
    "start_time": "2023-11-16T11:31:27.996Z"
   },
   {
    "duration": 111,
    "start_time": "2023-11-16T11:31:28.013Z"
   },
   {
    "duration": 8,
    "start_time": "2023-11-16T11:31:40.555Z"
   },
   {
    "duration": 10,
    "start_time": "2023-11-16T11:33:56.286Z"
   },
   {
    "duration": 847,
    "start_time": "2023-11-16T11:34:09.125Z"
   },
   {
    "duration": 66,
    "start_time": "2023-11-16T11:34:09.974Z"
   },
   {
    "duration": 26,
    "start_time": "2023-11-16T11:34:10.042Z"
   },
   {
    "duration": 24,
    "start_time": "2023-11-16T11:34:10.069Z"
   },
   {
    "duration": 7,
    "start_time": "2023-11-16T11:34:10.095Z"
   },
   {
    "duration": 14,
    "start_time": "2023-11-16T11:34:10.104Z"
   },
   {
    "duration": 4,
    "start_time": "2023-11-16T11:34:10.119Z"
   },
   {
    "duration": 24,
    "start_time": "2023-11-16T11:34:10.125Z"
   },
   {
    "duration": 20,
    "start_time": "2023-11-16T11:34:10.150Z"
   },
   {
    "duration": 9,
    "start_time": "2023-11-16T11:34:10.171Z"
   },
   {
    "duration": 15,
    "start_time": "2023-11-16T11:34:10.181Z"
   },
   {
    "duration": 11,
    "start_time": "2023-11-16T11:34:10.197Z"
   },
   {
    "duration": 8,
    "start_time": "2023-11-16T11:34:10.210Z"
   },
   {
    "duration": 12,
    "start_time": "2023-11-16T11:34:10.221Z"
   },
   {
    "duration": 28,
    "start_time": "2023-11-16T11:34:10.235Z"
   },
   {
    "duration": 12,
    "start_time": "2023-11-16T11:34:10.265Z"
   },
   {
    "duration": 15,
    "start_time": "2023-11-16T11:34:10.279Z"
   },
   {
    "duration": 13,
    "start_time": "2023-11-16T11:34:10.295Z"
   },
   {
    "duration": 5,
    "start_time": "2023-11-16T11:34:10.309Z"
   },
   {
    "duration": 16,
    "start_time": "2023-11-16T11:34:10.316Z"
   },
   {
    "duration": 593,
    "start_time": "2023-11-16T11:34:10.334Z"
   },
   {
    "duration": 298,
    "start_time": "2023-11-16T11:34:10.928Z"
   },
   {
    "duration": 35,
    "start_time": "2023-11-16T11:34:11.228Z"
   },
   {
    "duration": 596,
    "start_time": "2023-11-16T11:34:11.265Z"
   },
   {
    "duration": 22,
    "start_time": "2023-11-16T11:34:11.862Z"
   },
   {
    "duration": 1974,
    "start_time": "2023-11-16T11:34:11.886Z"
   },
   {
    "duration": 1382,
    "start_time": "2023-11-16T11:34:13.862Z"
   },
   {
    "duration": 131,
    "start_time": "2023-11-16T11:34:15.246Z"
   },
   {
    "duration": 5,
    "start_time": "2023-11-16T11:34:15.379Z"
   },
   {
    "duration": 162,
    "start_time": "2023-11-16T11:34:15.385Z"
   },
   {
    "duration": 9,
    "start_time": "2023-11-16T11:34:15.548Z"
   },
   {
    "duration": 132,
    "start_time": "2023-11-16T11:34:15.559Z"
   },
   {
    "duration": 5,
    "start_time": "2023-11-16T11:34:15.692Z"
   },
   {
    "duration": 146,
    "start_time": "2023-11-16T11:34:15.698Z"
   },
   {
    "duration": 12,
    "start_time": "2023-11-16T11:34:15.846Z"
   },
   {
    "duration": 175,
    "start_time": "2023-11-16T11:34:15.859Z"
   },
   {
    "duration": 179,
    "start_time": "2023-11-16T11:34:16.035Z"
   },
   {
    "duration": 185,
    "start_time": "2023-11-16T11:34:16.216Z"
   },
   {
    "duration": 182,
    "start_time": "2023-11-16T11:34:16.402Z"
   },
   {
    "duration": 197,
    "start_time": "2023-11-16T11:34:16.585Z"
   },
   {
    "duration": 176,
    "start_time": "2023-11-16T11:34:16.786Z"
   },
   {
    "duration": 197,
    "start_time": "2023-11-16T11:34:16.963Z"
   },
   {
    "duration": 185,
    "start_time": "2023-11-16T11:34:17.162Z"
   },
   {
    "duration": 20,
    "start_time": "2023-11-16T11:34:17.348Z"
   },
   {
    "duration": 7,
    "start_time": "2023-11-16T11:34:17.369Z"
   },
   {
    "duration": 96,
    "start_time": "2023-11-16T11:34:21.551Z"
   },
   {
    "duration": 7,
    "start_time": "2023-11-16T11:34:55.687Z"
   },
   {
    "duration": 6,
    "start_time": "2023-11-16T11:35:12.883Z"
   },
   {
    "duration": 6,
    "start_time": "2023-11-16T11:35:23.461Z"
   },
   {
    "duration": 5,
    "start_time": "2023-11-16T11:35:51.929Z"
   },
   {
    "duration": 9,
    "start_time": "2023-11-16T11:36:24.098Z"
   },
   {
    "duration": 850,
    "start_time": "2023-11-16T11:36:31.441Z"
   },
   {
    "duration": 53,
    "start_time": "2023-11-16T11:36:32.292Z"
   },
   {
    "duration": 20,
    "start_time": "2023-11-16T11:36:32.347Z"
   },
   {
    "duration": 37,
    "start_time": "2023-11-16T11:36:32.369Z"
   },
   {
    "duration": 17,
    "start_time": "2023-11-16T11:36:32.407Z"
   },
   {
    "duration": 47,
    "start_time": "2023-11-16T11:36:32.425Z"
   },
   {
    "duration": 18,
    "start_time": "2023-11-16T11:36:32.473Z"
   },
   {
    "duration": 25,
    "start_time": "2023-11-16T11:36:32.492Z"
   },
   {
    "duration": 42,
    "start_time": "2023-11-16T11:36:32.518Z"
   },
   {
    "duration": 35,
    "start_time": "2023-11-16T11:36:32.563Z"
   },
   {
    "duration": 42,
    "start_time": "2023-11-16T11:36:32.599Z"
   },
   {
    "duration": 24,
    "start_time": "2023-11-16T11:36:32.643Z"
   },
   {
    "duration": 21,
    "start_time": "2023-11-16T11:36:32.669Z"
   },
   {
    "duration": 28,
    "start_time": "2023-11-16T11:36:32.692Z"
   },
   {
    "duration": 61,
    "start_time": "2023-11-16T11:36:32.721Z"
   },
   {
    "duration": 171,
    "start_time": "2023-11-16T11:36:32.783Z"
   },
   {
    "duration": 264,
    "start_time": "2023-11-16T11:36:32.955Z"
   },
   {
    "duration": 198,
    "start_time": "2023-11-16T11:36:33.220Z"
   },
   {
    "duration": 58,
    "start_time": "2023-11-16T11:36:33.419Z"
   },
   {
    "duration": 30,
    "start_time": "2023-11-16T11:36:33.478Z"
   },
   {
    "duration": 594,
    "start_time": "2023-11-16T11:36:33.510Z"
   },
   {
    "duration": 292,
    "start_time": "2023-11-16T11:36:34.106Z"
   },
   {
    "duration": 28,
    "start_time": "2023-11-16T11:36:34.400Z"
   },
   {
    "duration": 607,
    "start_time": "2023-11-16T11:36:34.429Z"
   },
   {
    "duration": 27,
    "start_time": "2023-11-16T11:36:35.037Z"
   },
   {
    "duration": 2022,
    "start_time": "2023-11-16T11:36:35.065Z"
   },
   {
    "duration": 1401,
    "start_time": "2023-11-16T11:36:37.088Z"
   },
   {
    "duration": 139,
    "start_time": "2023-11-16T11:36:38.492Z"
   },
   {
    "duration": 6,
    "start_time": "2023-11-16T11:36:38.632Z"
   },
   {
    "duration": 127,
    "start_time": "2023-11-16T11:36:38.639Z"
   },
   {
    "duration": 4,
    "start_time": "2023-11-16T11:36:38.768Z"
   },
   {
    "duration": 134,
    "start_time": "2023-11-16T11:36:38.773Z"
   },
   {
    "duration": 5,
    "start_time": "2023-11-16T11:36:38.908Z"
   },
   {
    "duration": 157,
    "start_time": "2023-11-16T11:36:38.915Z"
   },
   {
    "duration": 4,
    "start_time": "2023-11-16T11:36:39.074Z"
   },
   {
    "duration": 177,
    "start_time": "2023-11-16T11:36:39.080Z"
   },
   {
    "duration": 183,
    "start_time": "2023-11-16T11:36:39.259Z"
   },
   {
    "duration": 201,
    "start_time": "2023-11-16T11:36:39.444Z"
   },
   {
    "duration": 176,
    "start_time": "2023-11-16T11:36:39.646Z"
   },
   {
    "duration": 196,
    "start_time": "2023-11-16T11:36:39.824Z"
   },
   {
    "duration": 203,
    "start_time": "2023-11-16T11:36:40.022Z"
   },
   {
    "duration": 205,
    "start_time": "2023-11-16T11:36:40.228Z"
   },
   {
    "duration": 179,
    "start_time": "2023-11-16T11:36:40.435Z"
   },
   {
    "duration": 15,
    "start_time": "2023-11-16T11:36:40.615Z"
   },
   {
    "duration": 8,
    "start_time": "2023-11-16T11:36:40.631Z"
   },
   {
    "duration": 13,
    "start_time": "2023-11-16T11:36:44.125Z"
   },
   {
    "duration": 6,
    "start_time": "2023-11-16T11:37:16.647Z"
   },
   {
    "duration": 9,
    "start_time": "2023-11-16T11:37:32.359Z"
   },
   {
    "duration": 8,
    "start_time": "2023-11-16T11:37:38.656Z"
   },
   {
    "duration": 9,
    "start_time": "2023-11-16T11:37:48.208Z"
   },
   {
    "duration": 9,
    "start_time": "2023-11-16T11:38:10.793Z"
   },
   {
    "duration": 10,
    "start_time": "2023-11-16T11:46:23.857Z"
   },
   {
    "duration": 851,
    "start_time": "2023-11-16T13:27:34.419Z"
   },
   {
    "duration": 55,
    "start_time": "2023-11-16T13:27:35.272Z"
   },
   {
    "duration": 22,
    "start_time": "2023-11-16T13:27:35.328Z"
   },
   {
    "duration": 27,
    "start_time": "2023-11-16T13:27:35.352Z"
   },
   {
    "duration": 9,
    "start_time": "2023-11-16T13:27:35.381Z"
   },
   {
    "duration": 17,
    "start_time": "2023-11-16T13:27:35.391Z"
   },
   {
    "duration": 5,
    "start_time": "2023-11-16T13:27:35.409Z"
   },
   {
    "duration": 14,
    "start_time": "2023-11-16T13:27:35.416Z"
   },
   {
    "duration": 32,
    "start_time": "2023-11-16T13:27:35.432Z"
   },
   {
    "duration": 6,
    "start_time": "2023-11-16T13:27:35.472Z"
   },
   {
    "duration": 14,
    "start_time": "2023-11-16T13:27:35.480Z"
   },
   {
    "duration": 23,
    "start_time": "2023-11-16T13:27:35.496Z"
   },
   {
    "duration": 28,
    "start_time": "2023-11-16T13:27:35.520Z"
   },
   {
    "duration": 8,
    "start_time": "2023-11-16T13:27:35.551Z"
   },
   {
    "duration": 8,
    "start_time": "2023-11-16T13:27:35.568Z"
   },
   {
    "duration": 21,
    "start_time": "2023-11-16T13:27:35.577Z"
   },
   {
    "duration": 29,
    "start_time": "2023-11-16T13:27:35.600Z"
   },
   {
    "duration": 11,
    "start_time": "2023-11-16T13:27:35.631Z"
   },
   {
    "duration": 10,
    "start_time": "2023-11-16T13:27:35.643Z"
   },
   {
    "duration": 29,
    "start_time": "2023-11-16T13:27:35.655Z"
   },
   {
    "duration": 612,
    "start_time": "2023-11-16T13:27:35.685Z"
   },
   {
    "duration": 301,
    "start_time": "2023-11-16T13:27:36.298Z"
   },
   {
    "duration": 27,
    "start_time": "2023-11-16T13:27:36.601Z"
   },
   {
    "duration": 663,
    "start_time": "2023-11-16T13:27:36.630Z"
   },
   {
    "duration": 21,
    "start_time": "2023-11-16T13:27:37.295Z"
   },
   {
    "duration": 2172,
    "start_time": "2023-11-16T13:27:37.317Z"
   },
   {
    "duration": 1502,
    "start_time": "2023-11-16T13:27:39.491Z"
   },
   {
    "duration": 136,
    "start_time": "2023-11-16T13:27:40.995Z"
   },
   {
    "duration": 5,
    "start_time": "2023-11-16T13:27:41.133Z"
   },
   {
    "duration": 171,
    "start_time": "2023-11-16T13:27:41.139Z"
   },
   {
    "duration": 5,
    "start_time": "2023-11-16T13:27:41.311Z"
   },
   {
    "duration": 151,
    "start_time": "2023-11-16T13:27:41.317Z"
   },
   {
    "duration": 8,
    "start_time": "2023-11-16T13:27:41.470Z"
   },
   {
    "duration": 164,
    "start_time": "2023-11-16T13:27:41.479Z"
   },
   {
    "duration": 14,
    "start_time": "2023-11-16T13:27:41.644Z"
   },
   {
    "duration": 189,
    "start_time": "2023-11-16T13:27:41.660Z"
   },
   {
    "duration": 198,
    "start_time": "2023-11-16T13:27:41.851Z"
   },
   {
    "duration": 248,
    "start_time": "2023-11-16T13:27:42.055Z"
   },
   {
    "duration": 202,
    "start_time": "2023-11-16T13:27:42.304Z"
   },
   {
    "duration": 210,
    "start_time": "2023-11-16T13:27:42.508Z"
   },
   {
    "duration": 196,
    "start_time": "2023-11-16T13:27:42.721Z"
   },
   {
    "duration": 219,
    "start_time": "2023-11-16T13:27:42.918Z"
   },
   {
    "duration": 203,
    "start_time": "2023-11-16T13:27:43.139Z"
   },
   {
    "duration": 21,
    "start_time": "2023-11-16T13:27:43.344Z"
   },
   {
    "duration": 12,
    "start_time": "2023-11-16T13:27:43.369Z"
   },
   {
    "duration": 43,
    "start_time": "2023-11-16T13:27:43.382Z"
   },
   {
    "duration": 872,
    "start_time": "2023-11-16T13:28:29.224Z"
   },
   {
    "duration": 72,
    "start_time": "2023-11-16T13:28:30.099Z"
   },
   {
    "duration": 35,
    "start_time": "2023-11-16T13:28:30.174Z"
   },
   {
    "duration": 28,
    "start_time": "2023-11-16T13:28:30.211Z"
   },
   {
    "duration": 8,
    "start_time": "2023-11-16T13:28:30.241Z"
   },
   {
    "duration": 43,
    "start_time": "2023-11-16T13:28:30.259Z"
   },
   {
    "duration": 24,
    "start_time": "2023-11-16T13:28:30.304Z"
   },
   {
    "duration": 27,
    "start_time": "2023-11-16T13:28:30.330Z"
   },
   {
    "duration": 34,
    "start_time": "2023-11-16T13:28:30.359Z"
   },
   {
    "duration": 47,
    "start_time": "2023-11-16T13:28:30.396Z"
   },
   {
    "duration": 45,
    "start_time": "2023-11-16T13:28:30.445Z"
   },
   {
    "duration": 21,
    "start_time": "2023-11-16T13:28:30.494Z"
   },
   {
    "duration": 24,
    "start_time": "2023-11-16T13:28:30.517Z"
   },
   {
    "duration": 50,
    "start_time": "2023-11-16T13:28:30.543Z"
   },
   {
    "duration": 30,
    "start_time": "2023-11-16T13:28:30.594Z"
   },
   {
    "duration": 58,
    "start_time": "2023-11-16T13:28:30.625Z"
   },
   {
    "duration": 46,
    "start_time": "2023-11-16T13:28:30.684Z"
   },
   {
    "duration": 12,
    "start_time": "2023-11-16T13:28:30.731Z"
   },
   {
    "duration": 29,
    "start_time": "2023-11-16T13:28:30.745Z"
   },
   {
    "duration": 40,
    "start_time": "2023-11-16T13:28:30.776Z"
   },
   {
    "duration": 729,
    "start_time": "2023-11-16T13:28:30.818Z"
   },
   {
    "duration": 352,
    "start_time": "2023-11-16T13:28:31.549Z"
   },
   {
    "duration": 31,
    "start_time": "2023-11-16T13:28:31.903Z"
   },
   {
    "duration": 708,
    "start_time": "2023-11-16T13:28:31.936Z"
   },
   {
    "duration": 32,
    "start_time": "2023-11-16T13:28:32.646Z"
   },
   {
    "duration": 2195,
    "start_time": "2023-11-16T13:28:32.680Z"
   },
   {
    "duration": 1526,
    "start_time": "2023-11-16T13:28:34.877Z"
   },
   {
    "duration": 139,
    "start_time": "2023-11-16T13:28:36.406Z"
   },
   {
    "duration": 6,
    "start_time": "2023-11-16T13:28:36.557Z"
   },
   {
    "duration": 136,
    "start_time": "2023-11-16T13:28:36.568Z"
   },
   {
    "duration": 5,
    "start_time": "2023-11-16T13:28:36.706Z"
   },
   {
    "duration": 153,
    "start_time": "2023-11-16T13:28:36.712Z"
   },
   {
    "duration": 5,
    "start_time": "2023-11-16T13:28:36.874Z"
   },
   {
    "duration": 152,
    "start_time": "2023-11-16T13:28:36.881Z"
   },
   {
    "duration": 5,
    "start_time": "2023-11-16T13:28:37.035Z"
   },
   {
    "duration": 236,
    "start_time": "2023-11-16T13:28:37.042Z"
   },
   {
    "duration": 201,
    "start_time": "2023-11-16T13:28:37.280Z"
   },
   {
    "duration": 218,
    "start_time": "2023-11-16T13:28:37.482Z"
   },
   {
    "duration": 225,
    "start_time": "2023-11-16T13:28:37.702Z"
   },
   {
    "duration": 203,
    "start_time": "2023-11-16T13:28:37.929Z"
   },
   {
    "duration": 204,
    "start_time": "2023-11-16T13:28:38.133Z"
   },
   {
    "duration": 210,
    "start_time": "2023-11-16T13:28:38.339Z"
   },
   {
    "duration": 198,
    "start_time": "2023-11-16T13:28:38.550Z"
   },
   {
    "duration": 29,
    "start_time": "2023-11-16T13:28:38.755Z"
   },
   {
    "duration": 16,
    "start_time": "2023-11-16T13:28:38.785Z"
   },
   {
    "duration": 11,
    "start_time": "2023-11-16T13:28:38.803Z"
   },
   {
    "duration": 1044,
    "start_time": "2023-11-16T15:44:03.899Z"
   },
   {
    "duration": 185,
    "start_time": "2023-11-16T15:44:04.946Z"
   },
   {
    "duration": 27,
    "start_time": "2023-11-16T15:44:05.133Z"
   },
   {
    "duration": 16,
    "start_time": "2023-11-16T15:44:05.162Z"
   },
   {
    "duration": 3,
    "start_time": "2023-11-16T15:44:05.180Z"
   },
   {
    "duration": 18,
    "start_time": "2023-11-16T15:44:05.184Z"
   },
   {
    "duration": 29,
    "start_time": "2023-11-16T15:44:05.204Z"
   },
   {
    "duration": 17,
    "start_time": "2023-11-16T15:44:05.235Z"
   },
   {
    "duration": 16,
    "start_time": "2023-11-16T15:44:05.254Z"
   },
   {
    "duration": 17,
    "start_time": "2023-11-16T15:44:05.273Z"
   },
   {
    "duration": 13,
    "start_time": "2023-11-16T15:44:05.292Z"
   },
   {
    "duration": 9,
    "start_time": "2023-11-16T15:44:05.331Z"
   },
   {
    "duration": 10,
    "start_time": "2023-11-16T15:44:05.342Z"
   },
   {
    "duration": 11,
    "start_time": "2023-11-16T15:44:05.354Z"
   },
   {
    "duration": 11,
    "start_time": "2023-11-16T15:44:05.367Z"
   },
   {
    "duration": 29,
    "start_time": "2023-11-16T15:44:05.379Z"
   },
   {
    "duration": 27,
    "start_time": "2023-11-16T15:44:05.410Z"
   },
   {
    "duration": 10,
    "start_time": "2023-11-16T15:44:05.439Z"
   },
   {
    "duration": 8,
    "start_time": "2023-11-16T15:44:05.451Z"
   },
   {
    "duration": 36,
    "start_time": "2023-11-16T15:44:05.461Z"
   },
   {
    "duration": 714,
    "start_time": "2023-11-16T15:44:05.499Z"
   },
   {
    "duration": 330,
    "start_time": "2023-11-16T15:44:06.215Z"
   },
   {
    "duration": 33,
    "start_time": "2023-11-16T15:44:06.547Z"
   },
   {
    "duration": 719,
    "start_time": "2023-11-16T15:44:06.582Z"
   },
   {
    "duration": 34,
    "start_time": "2023-11-16T15:44:07.302Z"
   },
   {
    "duration": 2471,
    "start_time": "2023-11-16T15:44:07.337Z"
   },
   {
    "duration": 1816,
    "start_time": "2023-11-16T15:44:09.811Z"
   },
   {
    "duration": 177,
    "start_time": "2023-11-16T15:44:11.630Z"
   },
   {
    "duration": 7,
    "start_time": "2023-11-16T15:44:11.809Z"
   },
   {
    "duration": 166,
    "start_time": "2023-11-16T15:44:11.831Z"
   },
   {
    "duration": 6,
    "start_time": "2023-11-16T15:44:12.000Z"
   },
   {
    "duration": 182,
    "start_time": "2023-11-16T15:44:12.009Z"
   },
   {
    "duration": 6,
    "start_time": "2023-11-16T15:44:12.193Z"
   },
   {
    "duration": 180,
    "start_time": "2023-11-16T15:44:12.200Z"
   },
   {
    "duration": 7,
    "start_time": "2023-11-16T15:44:12.382Z"
   },
   {
    "duration": 247,
    "start_time": "2023-11-16T15:44:12.391Z"
   },
   {
    "duration": 223,
    "start_time": "2023-11-16T15:44:12.640Z"
   },
   {
    "duration": 230,
    "start_time": "2023-11-16T15:44:12.866Z"
   },
   {
    "duration": 214,
    "start_time": "2023-11-16T15:44:13.097Z"
   },
   {
    "duration": 250,
    "start_time": "2023-11-16T15:44:13.313Z"
   },
   {
    "duration": 262,
    "start_time": "2023-11-16T15:44:13.565Z"
   },
   {
    "duration": 247,
    "start_time": "2023-11-16T15:44:13.830Z"
   },
   {
    "duration": 215,
    "start_time": "2023-11-16T15:44:14.078Z"
   },
   {
    "duration": 17,
    "start_time": "2023-11-16T15:44:14.295Z"
   },
   {
    "duration": 23,
    "start_time": "2023-11-16T15:44:14.314Z"
   },
   {
    "duration": 16,
    "start_time": "2023-11-16T15:44:14.339Z"
   },
   {
    "duration": 18,
    "start_time": "2023-11-16T15:47:39.177Z"
   },
   {
    "duration": 906,
    "start_time": "2023-11-16T15:47:44.100Z"
   },
   {
    "duration": 58,
    "start_time": "2023-11-16T15:47:45.008Z"
   },
   {
    "duration": 31,
    "start_time": "2023-11-16T15:47:45.068Z"
   },
   {
    "duration": 64,
    "start_time": "2023-11-16T15:47:45.102Z"
   },
   {
    "duration": 41,
    "start_time": "2023-11-16T15:47:45.168Z"
   },
   {
    "duration": 44,
    "start_time": "2023-11-16T15:47:45.211Z"
   },
   {
    "duration": 40,
    "start_time": "2023-11-16T15:47:45.257Z"
   },
   {
    "duration": 50,
    "start_time": "2023-11-16T15:47:45.298Z"
   },
   {
    "duration": 46,
    "start_time": "2023-11-16T15:47:45.350Z"
   },
   {
    "duration": 56,
    "start_time": "2023-11-16T15:47:45.398Z"
   },
   {
    "duration": 28,
    "start_time": "2023-11-16T15:47:45.456Z"
   },
   {
    "duration": 36,
    "start_time": "2023-11-16T15:47:45.485Z"
   },
   {
    "duration": 34,
    "start_time": "2023-11-16T15:47:45.522Z"
   },
   {
    "duration": 11,
    "start_time": "2023-11-16T15:47:45.558Z"
   },
   {
    "duration": 31,
    "start_time": "2023-11-16T15:47:45.571Z"
   },
   {
    "duration": 26,
    "start_time": "2023-11-16T15:47:45.603Z"
   },
   {
    "duration": 30,
    "start_time": "2023-11-16T15:47:45.631Z"
   },
   {
    "duration": 35,
    "start_time": "2023-11-16T15:47:45.662Z"
   },
   {
    "duration": 12,
    "start_time": "2023-11-16T15:47:45.699Z"
   },
   {
    "duration": 15,
    "start_time": "2023-11-16T15:47:45.713Z"
   },
   {
    "duration": 25,
    "start_time": "2023-11-16T15:47:45.730Z"
   },
   {
    "duration": 660,
    "start_time": "2023-11-16T15:47:45.756Z"
   },
   {
    "duration": 340,
    "start_time": "2023-11-16T15:47:46.418Z"
   },
   {
    "duration": 30,
    "start_time": "2023-11-16T15:47:46.761Z"
   },
   {
    "duration": 667,
    "start_time": "2023-11-16T15:47:46.792Z"
   },
   {
    "duration": 24,
    "start_time": "2023-11-16T15:47:47.460Z"
   },
   {
    "duration": 2382,
    "start_time": "2023-11-16T15:47:47.485Z"
   },
   {
    "duration": 1866,
    "start_time": "2023-11-16T15:47:49.870Z"
   },
   {
    "duration": 153,
    "start_time": "2023-11-16T15:47:51.738Z"
   },
   {
    "duration": 6,
    "start_time": "2023-11-16T15:47:51.892Z"
   },
   {
    "duration": 149,
    "start_time": "2023-11-16T15:47:51.899Z"
   },
   {
    "duration": 5,
    "start_time": "2023-11-16T15:47:52.049Z"
   },
   {
    "duration": 194,
    "start_time": "2023-11-16T15:47:52.056Z"
   },
   {
    "duration": 6,
    "start_time": "2023-11-16T15:47:52.252Z"
   },
   {
    "duration": 208,
    "start_time": "2023-11-16T15:47:52.262Z"
   },
   {
    "duration": 5,
    "start_time": "2023-11-16T15:47:52.472Z"
   },
   {
    "duration": 218,
    "start_time": "2023-11-16T15:47:52.479Z"
   },
   {
    "duration": 217,
    "start_time": "2023-11-16T15:47:52.699Z"
   },
   {
    "duration": 235,
    "start_time": "2023-11-16T15:47:52.918Z"
   },
   {
    "duration": 237,
    "start_time": "2023-11-16T15:47:53.155Z"
   },
   {
    "duration": 254,
    "start_time": "2023-11-16T15:47:53.394Z"
   },
   {
    "duration": 214,
    "start_time": "2023-11-16T15:47:53.650Z"
   },
   {
    "duration": 227,
    "start_time": "2023-11-16T15:47:53.866Z"
   },
   {
    "duration": 208,
    "start_time": "2023-11-16T15:47:54.095Z"
   },
   {
    "duration": 29,
    "start_time": "2023-11-16T15:47:54.305Z"
   },
   {
    "duration": 10,
    "start_time": "2023-11-16T15:47:54.336Z"
   },
   {
    "duration": 13,
    "start_time": "2023-11-16T15:47:54.348Z"
   },
   {
    "duration": 9,
    "start_time": "2023-11-16T15:48:15.465Z"
   },
   {
    "duration": 853,
    "start_time": "2023-11-16T15:48:21.437Z"
   },
   {
    "duration": 55,
    "start_time": "2023-11-16T15:48:22.292Z"
   },
   {
    "duration": 23,
    "start_time": "2023-11-16T15:48:22.349Z"
   },
   {
    "duration": 14,
    "start_time": "2023-11-16T15:48:22.375Z"
   },
   {
    "duration": 3,
    "start_time": "2023-11-16T15:48:22.391Z"
   },
   {
    "duration": 41,
    "start_time": "2023-11-16T15:48:22.396Z"
   },
   {
    "duration": 5,
    "start_time": "2023-11-16T15:48:22.439Z"
   },
   {
    "duration": 16,
    "start_time": "2023-11-16T15:48:22.446Z"
   },
   {
    "duration": 17,
    "start_time": "2023-11-16T15:48:22.463Z"
   },
   {
    "duration": 5,
    "start_time": "2023-11-16T15:48:22.483Z"
   },
   {
    "duration": 45,
    "start_time": "2023-11-16T15:48:22.489Z"
   },
   {
    "duration": 18,
    "start_time": "2023-11-16T15:48:22.536Z"
   },
   {
    "duration": 13,
    "start_time": "2023-11-16T15:48:22.556Z"
   },
   {
    "duration": 10,
    "start_time": "2023-11-16T15:48:22.571Z"
   },
   {
    "duration": 11,
    "start_time": "2023-11-16T15:48:22.583Z"
   },
   {
    "duration": 4,
    "start_time": "2023-11-16T15:48:22.631Z"
   },
   {
    "duration": 15,
    "start_time": "2023-11-16T15:48:22.636Z"
   },
   {
    "duration": 12,
    "start_time": "2023-11-16T15:48:22.652Z"
   },
   {
    "duration": 13,
    "start_time": "2023-11-16T15:48:22.666Z"
   },
   {
    "duration": 9,
    "start_time": "2023-11-16T15:48:22.681Z"
   },
   {
    "duration": 6,
    "start_time": "2023-11-16T15:48:22.691Z"
   },
   {
    "duration": 42,
    "start_time": "2023-11-16T15:48:22.698Z"
   },
   {
    "duration": 676,
    "start_time": "2023-11-16T15:48:22.741Z"
   },
   {
    "duration": 343,
    "start_time": "2023-11-16T15:48:23.419Z"
   },
   {
    "duration": 33,
    "start_time": "2023-11-16T15:48:23.764Z"
   },
   {
    "duration": 705,
    "start_time": "2023-11-16T15:48:23.799Z"
   },
   {
    "duration": 38,
    "start_time": "2023-11-16T15:48:24.506Z"
   },
   {
    "duration": 2366,
    "start_time": "2023-11-16T15:48:24.548Z"
   },
   {
    "duration": 1674,
    "start_time": "2023-11-16T15:48:26.916Z"
   },
   {
    "duration": 155,
    "start_time": "2023-11-16T15:48:28.592Z"
   },
   {
    "duration": 6,
    "start_time": "2023-11-16T15:48:28.748Z"
   },
   {
    "duration": 152,
    "start_time": "2023-11-16T15:48:28.755Z"
   },
   {
    "duration": 21,
    "start_time": "2023-11-16T15:48:28.909Z"
   },
   {
    "duration": 163,
    "start_time": "2023-11-16T15:48:28.933Z"
   },
   {
    "duration": 6,
    "start_time": "2023-11-16T15:48:29.098Z"
   },
   {
    "duration": 197,
    "start_time": "2023-11-16T15:48:29.106Z"
   },
   {
    "duration": 5,
    "start_time": "2023-11-16T15:48:29.305Z"
   },
   {
    "duration": 215,
    "start_time": "2023-11-16T15:48:29.312Z"
   },
   {
    "duration": 224,
    "start_time": "2023-11-16T15:48:29.529Z"
   },
   {
    "duration": 223,
    "start_time": "2023-11-16T15:48:29.755Z"
   },
   {
    "duration": 220,
    "start_time": "2023-11-16T15:48:29.980Z"
   },
   {
    "duration": 224,
    "start_time": "2023-11-16T15:48:30.202Z"
   },
   {
    "duration": 227,
    "start_time": "2023-11-16T15:48:30.428Z"
   },
   {
    "duration": 241,
    "start_time": "2023-11-16T15:48:30.657Z"
   },
   {
    "duration": 234,
    "start_time": "2023-11-16T15:48:30.900Z"
   },
   {
    "duration": 24,
    "start_time": "2023-11-16T15:48:31.136Z"
   },
   {
    "duration": 30,
    "start_time": "2023-11-16T15:48:31.163Z"
   },
   {
    "duration": 30,
    "start_time": "2023-11-16T15:48:31.195Z"
   },
   {
    "duration": 117,
    "start_time": "2023-11-16T15:52:15.006Z"
   },
   {
    "duration": 10,
    "start_time": "2023-11-16T15:52:38.286Z"
   },
   {
    "duration": 940,
    "start_time": "2023-11-16T16:06:01.567Z"
   },
   {
    "duration": 58,
    "start_time": "2023-11-16T16:06:02.509Z"
   },
   {
    "duration": 25,
    "start_time": "2023-11-16T16:06:02.569Z"
   },
   {
    "duration": 37,
    "start_time": "2023-11-16T16:06:02.596Z"
   },
   {
    "duration": 37,
    "start_time": "2023-11-16T16:06:02.636Z"
   },
   {
    "duration": 82,
    "start_time": "2023-11-16T16:06:02.675Z"
   },
   {
    "duration": 33,
    "start_time": "2023-11-16T16:06:02.759Z"
   },
   {
    "duration": 32,
    "start_time": "2023-11-16T16:06:02.793Z"
   },
   {
    "duration": 61,
    "start_time": "2023-11-16T16:06:02.827Z"
   },
   {
    "duration": 31,
    "start_time": "2023-11-16T16:06:02.892Z"
   },
   {
    "duration": 51,
    "start_time": "2023-11-16T16:06:02.925Z"
   },
   {
    "duration": 32,
    "start_time": "2023-11-16T16:06:02.979Z"
   },
   {
    "duration": 60,
    "start_time": "2023-11-16T16:06:03.013Z"
   },
   {
    "duration": 10,
    "start_time": "2023-11-16T16:06:03.075Z"
   },
   {
    "duration": 30,
    "start_time": "2023-11-16T16:06:03.087Z"
   },
   {
    "duration": 24,
    "start_time": "2023-11-16T16:06:03.120Z"
   },
   {
    "duration": 34,
    "start_time": "2023-11-16T16:06:03.147Z"
   },
   {
    "duration": 25,
    "start_time": "2023-11-16T16:06:03.184Z"
   },
   {
    "duration": 36,
    "start_time": "2023-11-16T16:06:03.212Z"
   },
   {
    "duration": 56,
    "start_time": "2023-11-16T16:06:03.250Z"
   },
   {
    "duration": 725,
    "start_time": "2023-11-16T16:06:03.308Z"
   },
   {
    "duration": 362,
    "start_time": "2023-11-16T16:06:04.035Z"
   },
   {
    "duration": 10,
    "start_time": "2023-11-16T16:06:04.399Z"
   },
   {
    "duration": 49,
    "start_time": "2023-11-16T16:06:04.411Z"
   },
   {
    "duration": 709,
    "start_time": "2023-11-16T16:06:04.462Z"
   },
   {
    "duration": 28,
    "start_time": "2023-11-16T16:06:05.172Z"
   },
   {
    "duration": 2549,
    "start_time": "2023-11-16T16:06:05.202Z"
   },
   {
    "duration": 1736,
    "start_time": "2023-11-16T16:06:07.756Z"
   },
   {
    "duration": 178,
    "start_time": "2023-11-16T16:06:09.494Z"
   },
   {
    "duration": 6,
    "start_time": "2023-11-16T16:06:09.674Z"
   },
   {
    "duration": 156,
    "start_time": "2023-11-16T16:06:09.682Z"
   },
   {
    "duration": 5,
    "start_time": "2023-11-16T16:06:09.840Z"
   },
   {
    "duration": 166,
    "start_time": "2023-11-16T16:06:09.847Z"
   },
   {
    "duration": 17,
    "start_time": "2023-11-16T16:06:10.015Z"
   },
   {
    "duration": 177,
    "start_time": "2023-11-16T16:06:10.034Z"
   },
   {
    "duration": 19,
    "start_time": "2023-11-16T16:06:10.213Z"
   },
   {
    "duration": 217,
    "start_time": "2023-11-16T16:06:10.233Z"
   },
   {
    "duration": 225,
    "start_time": "2023-11-16T16:06:10.452Z"
   },
   {
    "duration": 255,
    "start_time": "2023-11-16T16:06:10.678Z"
   },
   {
    "duration": 235,
    "start_time": "2023-11-16T16:06:10.935Z"
   },
   {
    "duration": 243,
    "start_time": "2023-11-16T16:06:11.172Z"
   },
   {
    "duration": 230,
    "start_time": "2023-11-16T16:06:11.417Z"
   },
   {
    "duration": 249,
    "start_time": "2023-11-16T16:06:11.648Z"
   },
   {
    "duration": 223,
    "start_time": "2023-11-16T16:06:11.899Z"
   },
   {
    "duration": 21,
    "start_time": "2023-11-16T16:06:12.123Z"
   },
   {
    "duration": 12,
    "start_time": "2023-11-16T16:06:12.146Z"
   },
   {
    "duration": 12,
    "start_time": "2023-11-16T16:06:12.160Z"
   },
   {
    "duration": 803,
    "start_time": "2023-11-18T17:25:54.800Z"
   },
   {
    "duration": 190,
    "start_time": "2023-11-18T17:25:55.605Z"
   },
   {
    "duration": 21,
    "start_time": "2023-11-18T17:25:55.796Z"
   },
   {
    "duration": 13,
    "start_time": "2023-11-18T17:25:55.819Z"
   },
   {
    "duration": 3,
    "start_time": "2023-11-18T17:25:55.833Z"
   },
   {
    "duration": 16,
    "start_time": "2023-11-18T17:25:55.837Z"
   },
   {
    "duration": 4,
    "start_time": "2023-11-18T17:25:55.855Z"
   },
   {
    "duration": 38,
    "start_time": "2023-11-18T17:25:55.860Z"
   },
   {
    "duration": 15,
    "start_time": "2023-11-18T17:25:55.899Z"
   },
   {
    "duration": 12,
    "start_time": "2023-11-18T17:25:55.916Z"
   },
   {
    "duration": 15,
    "start_time": "2023-11-18T17:25:55.929Z"
   },
   {
    "duration": 8,
    "start_time": "2023-11-18T17:25:55.946Z"
   },
   {
    "duration": 31,
    "start_time": "2023-11-18T17:25:55.955Z"
   },
   {
    "duration": 15,
    "start_time": "2023-11-18T17:25:55.988Z"
   },
   {
    "duration": 8,
    "start_time": "2023-11-18T17:25:56.004Z"
   },
   {
    "duration": 13,
    "start_time": "2023-11-18T17:25:56.013Z"
   },
   {
    "duration": 13,
    "start_time": "2023-11-18T17:25:56.028Z"
   },
   {
    "duration": 12,
    "start_time": "2023-11-18T17:25:56.042Z"
   },
   {
    "duration": 28,
    "start_time": "2023-11-18T17:25:56.056Z"
   },
   {
    "duration": 15,
    "start_time": "2023-11-18T17:25:56.085Z"
   },
   {
    "duration": 21,
    "start_time": "2023-11-18T17:25:56.102Z"
   },
   {
    "duration": 731,
    "start_time": "2023-11-18T17:25:56.124Z"
   },
   {
    "duration": 271,
    "start_time": "2023-11-18T17:25:56.857Z"
   },
   {
    "duration": 7,
    "start_time": "2023-11-18T17:25:57.130Z"
   },
   {
    "duration": 39,
    "start_time": "2023-11-18T17:25:57.138Z"
   },
   {
    "duration": 572,
    "start_time": "2023-11-18T17:25:57.179Z"
   },
   {
    "duration": 23,
    "start_time": "2023-11-18T17:25:57.752Z"
   },
   {
    "duration": 1918,
    "start_time": "2023-11-18T17:25:57.778Z"
   },
   {
    "duration": 1399,
    "start_time": "2023-11-18T17:25:59.698Z"
   },
   {
    "duration": 159,
    "start_time": "2023-11-18T17:26:01.099Z"
   },
   {
    "duration": 4,
    "start_time": "2023-11-18T17:26:01.260Z"
   },
   {
    "duration": 155,
    "start_time": "2023-11-18T17:26:01.265Z"
   },
   {
    "duration": 5,
    "start_time": "2023-11-18T17:26:01.423Z"
   },
   {
    "duration": 167,
    "start_time": "2023-11-18T17:26:01.429Z"
   },
   {
    "duration": 5,
    "start_time": "2023-11-18T17:26:01.597Z"
   },
   {
    "duration": 241,
    "start_time": "2023-11-18T17:26:01.603Z"
   },
   {
    "duration": 5,
    "start_time": "2023-11-18T17:26:01.845Z"
   },
   {
    "duration": 234,
    "start_time": "2023-11-18T17:26:01.856Z"
   },
   {
    "duration": 195,
    "start_time": "2023-11-18T17:26:02.092Z"
   },
   {
    "duration": 189,
    "start_time": "2023-11-18T17:26:02.289Z"
   },
   {
    "duration": 197,
    "start_time": "2023-11-18T17:26:02.479Z"
   },
   {
    "duration": 222,
    "start_time": "2023-11-18T17:26:02.678Z"
   },
   {
    "duration": 197,
    "start_time": "2023-11-18T17:26:02.901Z"
   },
   {
    "duration": 209,
    "start_time": "2023-11-18T17:26:03.100Z"
   },
   {
    "duration": 300,
    "start_time": "2023-11-18T17:26:03.311Z"
   },
   {
    "duration": 22,
    "start_time": "2023-11-18T17:26:03.613Z"
   },
   {
    "duration": 25,
    "start_time": "2023-11-18T17:26:03.637Z"
   },
   {
    "duration": 12,
    "start_time": "2023-11-18T17:26:03.663Z"
   },
   {
    "duration": 6,
    "start_time": "2023-11-18T17:27:09.340Z"
   },
   {
    "duration": 5,
    "start_time": "2023-11-18T17:27:32.819Z"
   },
   {
    "duration": 769,
    "start_time": "2023-11-18T17:28:25.607Z"
   },
   {
    "duration": 53,
    "start_time": "2023-11-18T17:28:26.377Z"
   },
   {
    "duration": 20,
    "start_time": "2023-11-18T17:28:26.431Z"
   },
   {
    "duration": 23,
    "start_time": "2023-11-18T17:28:26.453Z"
   },
   {
    "duration": 12,
    "start_time": "2023-11-18T17:28:26.477Z"
   },
   {
    "duration": 21,
    "start_time": "2023-11-18T17:28:26.491Z"
   },
   {
    "duration": 4,
    "start_time": "2023-11-18T17:28:26.513Z"
   },
   {
    "duration": 12,
    "start_time": "2023-11-18T17:28:26.518Z"
   },
   {
    "duration": 16,
    "start_time": "2023-11-18T17:28:26.531Z"
   },
   {
    "duration": 3,
    "start_time": "2023-11-18T17:28:26.549Z"
   },
   {
    "duration": 9,
    "start_time": "2023-11-18T17:28:26.555Z"
   },
   {
    "duration": 8,
    "start_time": "2023-11-18T17:28:26.565Z"
   },
   {
    "duration": 8,
    "start_time": "2023-11-18T17:28:26.574Z"
   },
   {
    "duration": 8,
    "start_time": "2023-11-18T17:28:26.583Z"
   },
   {
    "duration": 13,
    "start_time": "2023-11-18T17:28:26.592Z"
   },
   {
    "duration": 6,
    "start_time": "2023-11-18T17:28:26.606Z"
   },
   {
    "duration": 14,
    "start_time": "2023-11-18T17:28:26.613Z"
   },
   {
    "duration": 27,
    "start_time": "2023-11-18T17:28:26.629Z"
   },
   {
    "duration": 13,
    "start_time": "2023-11-18T17:28:26.658Z"
   },
   {
    "duration": 5,
    "start_time": "2023-11-18T17:28:26.672Z"
   },
   {
    "duration": 5,
    "start_time": "2023-11-18T17:28:26.678Z"
   },
   {
    "duration": 16,
    "start_time": "2023-11-18T17:28:26.684Z"
   },
   {
    "duration": 560,
    "start_time": "2023-11-18T17:28:26.701Z"
   },
   {
    "duration": 283,
    "start_time": "2023-11-18T17:28:27.263Z"
   },
   {
    "duration": 12,
    "start_time": "2023-11-18T17:28:27.547Z"
   },
   {
    "duration": 31,
    "start_time": "2023-11-18T17:28:27.560Z"
   },
   {
    "duration": 580,
    "start_time": "2023-11-18T17:28:27.593Z"
   },
   {
    "duration": 24,
    "start_time": "2023-11-18T17:28:28.176Z"
   },
   {
    "duration": 1927,
    "start_time": "2023-11-18T17:28:28.201Z"
   },
   {
    "duration": 1436,
    "start_time": "2023-11-18T17:28:30.129Z"
   },
   {
    "duration": 140,
    "start_time": "2023-11-18T17:28:31.567Z"
   },
   {
    "duration": 5,
    "start_time": "2023-11-18T17:28:31.708Z"
   },
   {
    "duration": 141,
    "start_time": "2023-11-18T17:28:31.714Z"
   },
   {
    "duration": 5,
    "start_time": "2023-11-18T17:28:31.857Z"
   },
   {
    "duration": 136,
    "start_time": "2023-11-18T17:28:31.864Z"
   },
   {
    "duration": 6,
    "start_time": "2023-11-18T17:28:32.001Z"
   },
   {
    "duration": 138,
    "start_time": "2023-11-18T17:28:32.008Z"
   },
   {
    "duration": 11,
    "start_time": "2023-11-18T17:28:32.147Z"
   },
   {
    "duration": 169,
    "start_time": "2023-11-18T17:28:32.159Z"
   },
   {
    "duration": 177,
    "start_time": "2023-11-18T17:28:32.330Z"
   },
   {
    "duration": 191,
    "start_time": "2023-11-18T17:28:32.509Z"
   },
   {
    "duration": 186,
    "start_time": "2023-11-18T17:28:32.701Z"
   },
   {
    "duration": 193,
    "start_time": "2023-11-18T17:28:32.889Z"
   },
   {
    "duration": 178,
    "start_time": "2023-11-18T17:28:33.084Z"
   },
   {
    "duration": 195,
    "start_time": "2023-11-18T17:28:33.264Z"
   },
   {
    "duration": 173,
    "start_time": "2023-11-18T17:28:33.460Z"
   },
   {
    "duration": 24,
    "start_time": "2023-11-18T17:28:33.634Z"
   },
   {
    "duration": 9,
    "start_time": "2023-11-18T17:28:33.660Z"
   },
   {
    "duration": 9,
    "start_time": "2023-11-18T17:28:33.670Z"
   },
   {
    "duration": 5,
    "start_time": "2023-11-18T17:29:34.353Z"
   },
   {
    "duration": 5,
    "start_time": "2023-11-18T17:30:16.200Z"
   },
   {
    "duration": 7,
    "start_time": "2023-11-18T17:30:25.036Z"
   },
   {
    "duration": 5,
    "start_time": "2023-11-18T17:30:35.644Z"
   },
   {
    "duration": 5,
    "start_time": "2023-11-18T17:30:51.884Z"
   },
   {
    "duration": 99,
    "start_time": "2023-11-18T17:32:33.806Z"
   },
   {
    "duration": 12,
    "start_time": "2023-11-18T17:32:37.572Z"
   },
   {
    "duration": 9,
    "start_time": "2023-11-18T17:32:43.992Z"
   },
   {
    "duration": 9,
    "start_time": "2023-11-18T17:33:12.749Z"
   },
   {
    "duration": 11,
    "start_time": "2023-11-18T17:33:15.545Z"
   },
   {
    "duration": 6,
    "start_time": "2023-11-18T17:33:19.996Z"
   },
   {
    "duration": 11,
    "start_time": "2023-11-18T17:35:40.075Z"
   },
   {
    "duration": 10,
    "start_time": "2023-11-18T17:36:05.457Z"
   },
   {
    "duration": 7,
    "start_time": "2023-11-18T17:36:16.852Z"
   },
   {
    "duration": 19,
    "start_time": "2023-11-18T17:38:04.927Z"
   },
   {
    "duration": 18,
    "start_time": "2023-11-18T17:38:24.353Z"
   },
   {
    "duration": 19,
    "start_time": "2023-11-18T17:38:37.052Z"
   },
   {
    "duration": 4,
    "start_time": "2023-11-18T17:39:15.503Z"
   },
   {
    "duration": 4,
    "start_time": "2023-11-18T17:39:32.637Z"
   },
   {
    "duration": 11,
    "start_time": "2023-11-18T17:43:28.721Z"
   },
   {
    "duration": 9,
    "start_time": "2023-11-18T17:43:33.369Z"
   },
   {
    "duration": 10,
    "start_time": "2023-11-18T17:45:28.350Z"
   },
   {
    "duration": 9,
    "start_time": "2023-11-18T17:46:47.789Z"
   },
   {
    "duration": 10,
    "start_time": "2023-11-18T17:46:54.702Z"
   },
   {
    "duration": 3,
    "start_time": "2023-11-18T17:47:09.743Z"
   },
   {
    "duration": 9,
    "start_time": "2023-11-18T17:47:11.623Z"
   },
   {
    "duration": 824,
    "start_time": "2023-11-18T17:47:18.245Z"
   },
   {
    "duration": 53,
    "start_time": "2023-11-18T17:47:19.072Z"
   },
   {
    "duration": 20,
    "start_time": "2023-11-18T17:47:19.127Z"
   },
   {
    "duration": 13,
    "start_time": "2023-11-18T17:47:19.148Z"
   },
   {
    "duration": 2,
    "start_time": "2023-11-18T17:47:19.163Z"
   },
   {
    "duration": 19,
    "start_time": "2023-11-18T17:47:19.166Z"
   },
   {
    "duration": 4,
    "start_time": "2023-11-18T17:47:19.186Z"
   },
   {
    "duration": 14,
    "start_time": "2023-11-18T17:47:19.191Z"
   },
   {
    "duration": 13,
    "start_time": "2023-11-18T17:47:19.207Z"
   },
   {
    "duration": 17,
    "start_time": "2023-11-18T17:47:19.221Z"
   },
   {
    "duration": 10,
    "start_time": "2023-11-18T17:47:19.239Z"
   },
   {
    "duration": 7,
    "start_time": "2023-11-18T17:47:19.251Z"
   },
   {
    "duration": 8,
    "start_time": "2023-11-18T17:47:19.259Z"
   },
   {
    "duration": 6,
    "start_time": "2023-11-18T17:47:19.270Z"
   },
   {
    "duration": 9,
    "start_time": "2023-11-18T17:47:19.278Z"
   },
   {
    "duration": 18,
    "start_time": "2023-11-18T17:47:19.288Z"
   },
   {
    "duration": 17,
    "start_time": "2023-11-18T17:47:19.308Z"
   },
   {
    "duration": 7,
    "start_time": "2023-11-18T17:47:19.327Z"
   },
   {
    "duration": 20,
    "start_time": "2023-11-18T17:47:19.336Z"
   },
   {
    "duration": 66,
    "start_time": "2023-11-18T17:47:19.358Z"
   },
   {
    "duration": 0,
    "start_time": "2023-11-18T17:47:19.426Z"
   },
   {
    "duration": 0,
    "start_time": "2023-11-18T17:47:19.427Z"
   },
   {
    "duration": 0,
    "start_time": "2023-11-18T17:47:19.429Z"
   },
   {
    "duration": 0,
    "start_time": "2023-11-18T17:47:19.431Z"
   },
   {
    "duration": 0,
    "start_time": "2023-11-18T17:47:19.432Z"
   },
   {
    "duration": 0,
    "start_time": "2023-11-18T17:47:19.433Z"
   },
   {
    "duration": 0,
    "start_time": "2023-11-18T17:47:19.435Z"
   },
   {
    "duration": 0,
    "start_time": "2023-11-18T17:47:19.436Z"
   },
   {
    "duration": 0,
    "start_time": "2023-11-18T17:47:19.437Z"
   },
   {
    "duration": 0,
    "start_time": "2023-11-18T17:47:19.439Z"
   },
   {
    "duration": 0,
    "start_time": "2023-11-18T17:47:19.440Z"
   },
   {
    "duration": 0,
    "start_time": "2023-11-18T17:47:19.441Z"
   },
   {
    "duration": 0,
    "start_time": "2023-11-18T17:47:19.443Z"
   },
   {
    "duration": 0,
    "start_time": "2023-11-18T17:47:19.444Z"
   },
   {
    "duration": 0,
    "start_time": "2023-11-18T17:47:19.445Z"
   },
   {
    "duration": 0,
    "start_time": "2023-11-18T17:47:19.447Z"
   },
   {
    "duration": 0,
    "start_time": "2023-11-18T17:47:19.448Z"
   },
   {
    "duration": 0,
    "start_time": "2023-11-18T17:47:19.450Z"
   },
   {
    "duration": 0,
    "start_time": "2023-11-18T17:47:19.451Z"
   },
   {
    "duration": 0,
    "start_time": "2023-11-18T17:47:19.452Z"
   },
   {
    "duration": 0,
    "start_time": "2023-11-18T17:47:19.453Z"
   },
   {
    "duration": 0,
    "start_time": "2023-11-18T17:47:19.454Z"
   },
   {
    "duration": 0,
    "start_time": "2023-11-18T17:47:19.455Z"
   },
   {
    "duration": 0,
    "start_time": "2023-11-18T17:47:19.456Z"
   },
   {
    "duration": 0,
    "start_time": "2023-11-18T17:47:19.458Z"
   },
   {
    "duration": 0,
    "start_time": "2023-11-18T17:47:19.459Z"
   },
   {
    "duration": 0,
    "start_time": "2023-11-18T17:47:19.460Z"
   },
   {
    "duration": 0,
    "start_time": "2023-11-18T17:47:19.461Z"
   },
   {
    "duration": 0,
    "start_time": "2023-11-18T17:47:19.463Z"
   },
   {
    "duration": 0,
    "start_time": "2023-11-18T17:47:19.465Z"
   },
   {
    "duration": 0,
    "start_time": "2023-11-18T17:47:19.467Z"
   },
   {
    "duration": 0,
    "start_time": "2023-11-18T17:47:19.468Z"
   },
   {
    "duration": 764,
    "start_time": "2023-11-18T17:47:48.519Z"
   },
   {
    "duration": 53,
    "start_time": "2023-11-18T17:47:49.285Z"
   },
   {
    "duration": 26,
    "start_time": "2023-11-18T17:47:49.340Z"
   },
   {
    "duration": 43,
    "start_time": "2023-11-18T17:47:49.368Z"
   },
   {
    "duration": 5,
    "start_time": "2023-11-18T17:47:49.413Z"
   },
   {
    "duration": 22,
    "start_time": "2023-11-18T17:47:49.420Z"
   },
   {
    "duration": 4,
    "start_time": "2023-11-18T17:47:49.443Z"
   },
   {
    "duration": 18,
    "start_time": "2023-11-18T17:47:49.449Z"
   },
   {
    "duration": 17,
    "start_time": "2023-11-18T17:47:49.468Z"
   },
   {
    "duration": 5,
    "start_time": "2023-11-18T17:47:49.487Z"
   },
   {
    "duration": 10,
    "start_time": "2023-11-18T17:47:49.494Z"
   },
   {
    "duration": 7,
    "start_time": "2023-11-18T17:47:49.505Z"
   },
   {
    "duration": 35,
    "start_time": "2023-11-18T17:47:49.513Z"
   },
   {
    "duration": 4,
    "start_time": "2023-11-18T17:47:49.549Z"
   },
   {
    "duration": 5,
    "start_time": "2023-11-18T17:47:49.555Z"
   },
   {
    "duration": 6,
    "start_time": "2023-11-18T17:47:49.561Z"
   },
   {
    "duration": 13,
    "start_time": "2023-11-18T17:47:49.568Z"
   },
   {
    "duration": 8,
    "start_time": "2023-11-18T17:47:49.582Z"
   },
   {
    "duration": 18,
    "start_time": "2023-11-18T17:47:49.591Z"
   },
   {
    "duration": 8,
    "start_time": "2023-11-18T17:47:49.610Z"
   },
   {
    "duration": 3,
    "start_time": "2023-11-18T17:47:49.619Z"
   },
   {
    "duration": 39,
    "start_time": "2023-11-18T17:47:49.624Z"
   },
   {
    "duration": 5,
    "start_time": "2023-11-18T17:47:49.664Z"
   },
   {
    "duration": 15,
    "start_time": "2023-11-18T17:47:49.670Z"
   },
   {
    "duration": 566,
    "start_time": "2023-11-18T17:47:49.687Z"
   },
   {
    "duration": 277,
    "start_time": "2023-11-18T17:47:50.255Z"
   },
   {
    "duration": 9,
    "start_time": "2023-11-18T17:47:50.533Z"
   },
   {
    "duration": 26,
    "start_time": "2023-11-18T17:47:50.555Z"
   },
   {
    "duration": 564,
    "start_time": "2023-11-18T17:47:50.582Z"
   },
   {
    "duration": 24,
    "start_time": "2023-11-18T17:47:51.148Z"
   },
   {
    "duration": 2007,
    "start_time": "2023-11-18T17:47:51.173Z"
   },
   {
    "duration": 1383,
    "start_time": "2023-11-18T17:47:53.182Z"
   },
   {
    "duration": 137,
    "start_time": "2023-11-18T17:47:54.567Z"
   },
   {
    "duration": 6,
    "start_time": "2023-11-18T17:47:54.705Z"
   },
   {
    "duration": 137,
    "start_time": "2023-11-18T17:47:54.712Z"
   },
   {
    "duration": 7,
    "start_time": "2023-11-18T17:47:54.850Z"
   },
   {
    "duration": 117,
    "start_time": "2023-11-18T17:47:54.859Z"
   },
   {
    "duration": 6,
    "start_time": "2023-11-18T17:47:54.978Z"
   },
   {
    "duration": 151,
    "start_time": "2023-11-18T17:47:54.986Z"
   },
   {
    "duration": 5,
    "start_time": "2023-11-18T17:47:55.139Z"
   },
   {
    "duration": 195,
    "start_time": "2023-11-18T17:47:55.146Z"
   },
   {
    "duration": 182,
    "start_time": "2023-11-18T17:47:55.343Z"
   },
   {
    "duration": 184,
    "start_time": "2023-11-18T17:47:55.527Z"
   },
   {
    "duration": 169,
    "start_time": "2023-11-18T17:47:55.713Z"
   },
   {
    "duration": 186,
    "start_time": "2023-11-18T17:47:55.884Z"
   },
   {
    "duration": 169,
    "start_time": "2023-11-18T17:47:56.071Z"
   },
   {
    "duration": 195,
    "start_time": "2023-11-18T17:47:56.242Z"
   },
   {
    "duration": 189,
    "start_time": "2023-11-18T17:47:56.438Z"
   },
   {
    "duration": 15,
    "start_time": "2023-11-18T17:47:56.628Z"
   },
   {
    "duration": 16,
    "start_time": "2023-11-18T17:47:56.644Z"
   },
   {
    "duration": 11,
    "start_time": "2023-11-18T17:47:56.661Z"
   },
   {
    "duration": 65,
    "start_time": "2023-11-18T18:02:38.474Z"
   },
   {
    "duration": 56,
    "start_time": "2023-11-18T18:03:07.668Z"
   },
   {
    "duration": 6,
    "start_time": "2023-11-18T18:07:29.874Z"
   },
   {
    "duration": 11,
    "start_time": "2023-11-18T18:07:41.524Z"
   },
   {
    "duration": 6,
    "start_time": "2023-11-18T18:08:13.556Z"
   },
   {
    "duration": 33,
    "start_time": "2023-11-18T18:09:43.388Z"
   },
   {
    "duration": 1030,
    "start_time": "2023-11-18T18:10:50.775Z"
   },
   {
    "duration": 1017,
    "start_time": "2023-11-18T18:11:38.952Z"
   },
   {
    "duration": 106,
    "start_time": "2023-11-18T18:11:39.971Z"
   },
   {
    "duration": 17,
    "start_time": "2023-11-18T18:11:40.078Z"
   },
   {
    "duration": 13,
    "start_time": "2023-11-18T18:11:40.098Z"
   },
   {
    "duration": 2,
    "start_time": "2023-11-18T18:11:40.112Z"
   },
   {
    "duration": 15,
    "start_time": "2023-11-18T18:11:40.116Z"
   },
   {
    "duration": 4,
    "start_time": "2023-11-18T18:11:40.132Z"
   },
   {
    "duration": 28,
    "start_time": "2023-11-18T18:11:40.137Z"
   },
   {
    "duration": 12,
    "start_time": "2023-11-18T18:11:40.167Z"
   },
   {
    "duration": 3,
    "start_time": "2023-11-18T18:11:40.181Z"
   },
   {
    "duration": 14,
    "start_time": "2023-11-18T18:11:40.186Z"
   },
   {
    "duration": 8,
    "start_time": "2023-11-18T18:11:40.202Z"
   },
   {
    "duration": 9,
    "start_time": "2023-11-18T18:11:40.211Z"
   },
   {
    "duration": 3,
    "start_time": "2023-11-18T18:11:40.221Z"
   },
   {
    "duration": 32,
    "start_time": "2023-11-18T18:11:40.225Z"
   },
   {
    "duration": 6,
    "start_time": "2023-11-18T18:11:40.258Z"
   },
   {
    "duration": 12,
    "start_time": "2023-11-18T18:11:40.266Z"
   },
   {
    "duration": 8,
    "start_time": "2023-11-18T18:11:40.279Z"
   },
   {
    "duration": 13,
    "start_time": "2023-11-18T18:11:40.288Z"
   },
   {
    "duration": 7,
    "start_time": "2023-11-18T18:11:40.303Z"
   },
   {
    "duration": 3,
    "start_time": "2023-11-18T18:11:40.311Z"
   },
   {
    "duration": 45,
    "start_time": "2023-11-18T18:11:40.316Z"
   },
   {
    "duration": 6,
    "start_time": "2023-11-18T18:11:40.362Z"
   },
   {
    "duration": 13,
    "start_time": "2023-11-18T18:11:40.369Z"
   },
   {
    "duration": 330,
    "start_time": "2023-11-18T18:11:40.384Z"
   },
   {
    "duration": 97,
    "start_time": "2023-11-18T18:11:40.715Z"
   },
   {
    "duration": 0,
    "start_time": "2023-11-18T18:11:40.814Z"
   },
   {
    "duration": 0,
    "start_time": "2023-11-18T18:11:40.816Z"
   },
   {
    "duration": 0,
    "start_time": "2023-11-18T18:11:40.816Z"
   },
   {
    "duration": 0,
    "start_time": "2023-11-18T18:11:40.817Z"
   },
   {
    "duration": 0,
    "start_time": "2023-11-18T18:11:40.818Z"
   },
   {
    "duration": 0,
    "start_time": "2023-11-18T18:11:40.819Z"
   },
   {
    "duration": 0,
    "start_time": "2023-11-18T18:11:40.820Z"
   },
   {
    "duration": 0,
    "start_time": "2023-11-18T18:11:40.821Z"
   },
   {
    "duration": 0,
    "start_time": "2023-11-18T18:11:40.822Z"
   },
   {
    "duration": 0,
    "start_time": "2023-11-18T18:11:40.823Z"
   },
   {
    "duration": 0,
    "start_time": "2023-11-18T18:11:40.824Z"
   },
   {
    "duration": 0,
    "start_time": "2023-11-18T18:11:40.825Z"
   },
   {
    "duration": 0,
    "start_time": "2023-11-18T18:11:40.826Z"
   },
   {
    "duration": 0,
    "start_time": "2023-11-18T18:11:40.827Z"
   },
   {
    "duration": 0,
    "start_time": "2023-11-18T18:11:40.828Z"
   },
   {
    "duration": 0,
    "start_time": "2023-11-18T18:11:40.829Z"
   },
   {
    "duration": 0,
    "start_time": "2023-11-18T18:11:40.829Z"
   },
   {
    "duration": 0,
    "start_time": "2023-11-18T18:11:40.856Z"
   },
   {
    "duration": 0,
    "start_time": "2023-11-18T18:11:40.857Z"
   },
   {
    "duration": 0,
    "start_time": "2023-11-18T18:11:40.858Z"
   },
   {
    "duration": 0,
    "start_time": "2023-11-18T18:11:40.859Z"
   },
   {
    "duration": 0,
    "start_time": "2023-11-18T18:11:40.860Z"
   },
   {
    "duration": 0,
    "start_time": "2023-11-18T18:11:40.861Z"
   },
   {
    "duration": 0,
    "start_time": "2023-11-18T18:11:40.862Z"
   },
   {
    "duration": 0,
    "start_time": "2023-11-18T18:11:40.864Z"
   },
   {
    "duration": 268,
    "start_time": "2023-11-18T18:13:19.884Z"
   },
   {
    "duration": 1040,
    "start_time": "2023-11-18T18:15:04.824Z"
   },
   {
    "duration": 103,
    "start_time": "2023-11-18T18:15:05.866Z"
   },
   {
    "duration": 19,
    "start_time": "2023-11-18T18:15:05.971Z"
   },
   {
    "duration": 28,
    "start_time": "2023-11-18T18:15:05.991Z"
   },
   {
    "duration": 15,
    "start_time": "2023-11-18T18:15:06.021Z"
   },
   {
    "duration": 34,
    "start_time": "2023-11-18T18:15:06.037Z"
   },
   {
    "duration": 5,
    "start_time": "2023-11-18T18:15:06.073Z"
   },
   {
    "duration": 39,
    "start_time": "2023-11-18T18:15:06.079Z"
   },
   {
    "duration": 14,
    "start_time": "2023-11-18T18:15:06.120Z"
   },
   {
    "duration": 4,
    "start_time": "2023-11-18T18:15:06.136Z"
   },
   {
    "duration": 10,
    "start_time": "2023-11-18T18:15:06.142Z"
   },
   {
    "duration": 13,
    "start_time": "2023-11-18T18:15:06.153Z"
   },
   {
    "duration": 9,
    "start_time": "2023-11-18T18:15:06.168Z"
   },
   {
    "duration": 3,
    "start_time": "2023-11-18T18:15:06.179Z"
   },
   {
    "duration": 7,
    "start_time": "2023-11-18T18:15:06.183Z"
   },
   {
    "duration": 11,
    "start_time": "2023-11-18T18:15:06.191Z"
   },
   {
    "duration": 20,
    "start_time": "2023-11-18T18:15:06.203Z"
   },
   {
    "duration": 7,
    "start_time": "2023-11-18T18:15:06.225Z"
   },
   {
    "duration": 22,
    "start_time": "2023-11-18T18:15:06.233Z"
   },
   {
    "duration": 8,
    "start_time": "2023-11-18T18:15:06.257Z"
   },
   {
    "duration": 3,
    "start_time": "2023-11-18T18:15:06.266Z"
   },
   {
    "duration": 10,
    "start_time": "2023-11-18T18:15:06.271Z"
   },
   {
    "duration": 5,
    "start_time": "2023-11-18T18:15:06.282Z"
   },
   {
    "duration": 21,
    "start_time": "2023-11-18T18:15:06.288Z"
   },
   {
    "duration": 334,
    "start_time": "2023-11-18T18:15:06.310Z"
   },
   {
    "duration": 279,
    "start_time": "2023-11-18T18:15:06.645Z"
   },
   {
    "duration": 94,
    "start_time": "2023-11-18T18:15:06.925Z"
   },
   {
    "duration": 0,
    "start_time": "2023-11-18T18:15:07.021Z"
   },
   {
    "duration": 0,
    "start_time": "2023-11-18T18:15:07.022Z"
   },
   {
    "duration": 0,
    "start_time": "2023-11-18T18:15:07.023Z"
   },
   {
    "duration": 0,
    "start_time": "2023-11-18T18:15:07.024Z"
   },
   {
    "duration": 0,
    "start_time": "2023-11-18T18:15:07.025Z"
   },
   {
    "duration": 0,
    "start_time": "2023-11-18T18:15:07.026Z"
   },
   {
    "duration": 0,
    "start_time": "2023-11-18T18:15:07.027Z"
   },
   {
    "duration": 0,
    "start_time": "2023-11-18T18:15:07.027Z"
   },
   {
    "duration": 0,
    "start_time": "2023-11-18T18:15:07.028Z"
   },
   {
    "duration": 0,
    "start_time": "2023-11-18T18:15:07.029Z"
   },
   {
    "duration": 0,
    "start_time": "2023-11-18T18:15:07.030Z"
   },
   {
    "duration": 0,
    "start_time": "2023-11-18T18:15:07.030Z"
   },
   {
    "duration": 0,
    "start_time": "2023-11-18T18:15:07.031Z"
   },
   {
    "duration": 0,
    "start_time": "2023-11-18T18:15:07.032Z"
   },
   {
    "duration": 0,
    "start_time": "2023-11-18T18:15:07.033Z"
   },
   {
    "duration": 0,
    "start_time": "2023-11-18T18:15:07.055Z"
   },
   {
    "duration": 0,
    "start_time": "2023-11-18T18:15:07.056Z"
   },
   {
    "duration": 0,
    "start_time": "2023-11-18T18:15:07.057Z"
   },
   {
    "duration": 0,
    "start_time": "2023-11-18T18:15:07.058Z"
   },
   {
    "duration": 0,
    "start_time": "2023-11-18T18:15:07.059Z"
   },
   {
    "duration": 0,
    "start_time": "2023-11-18T18:15:07.060Z"
   },
   {
    "duration": 0,
    "start_time": "2023-11-18T18:15:07.061Z"
   },
   {
    "duration": 0,
    "start_time": "2023-11-18T18:15:07.062Z"
   },
   {
    "duration": 0,
    "start_time": "2023-11-18T18:15:07.063Z"
   },
   {
    "duration": 997,
    "start_time": "2023-11-18T18:15:56.875Z"
   },
   {
    "duration": 106,
    "start_time": "2023-11-18T18:15:57.874Z"
   },
   {
    "duration": 18,
    "start_time": "2023-11-18T18:15:57.982Z"
   },
   {
    "duration": 20,
    "start_time": "2023-11-18T18:15:58.002Z"
   },
   {
    "duration": 3,
    "start_time": "2023-11-18T18:15:58.023Z"
   },
   {
    "duration": 22,
    "start_time": "2023-11-18T18:15:58.027Z"
   },
   {
    "duration": 9,
    "start_time": "2023-11-18T18:15:58.051Z"
   },
   {
    "duration": 14,
    "start_time": "2023-11-18T18:15:58.061Z"
   },
   {
    "duration": 13,
    "start_time": "2023-11-18T18:15:58.077Z"
   },
   {
    "duration": 11,
    "start_time": "2023-11-18T18:15:58.092Z"
   },
   {
    "duration": 15,
    "start_time": "2023-11-18T18:15:58.104Z"
   },
   {
    "duration": 11,
    "start_time": "2023-11-18T18:15:58.121Z"
   },
   {
    "duration": 21,
    "start_time": "2023-11-18T18:15:58.133Z"
   },
   {
    "duration": 8,
    "start_time": "2023-11-18T18:15:58.156Z"
   },
   {
    "duration": 9,
    "start_time": "2023-11-18T18:15:58.166Z"
   },
   {
    "duration": 18,
    "start_time": "2023-11-18T18:15:58.176Z"
   },
   {
    "duration": 23,
    "start_time": "2023-11-18T18:15:58.196Z"
   },
   {
    "duration": 9,
    "start_time": "2023-11-18T18:15:58.220Z"
   },
   {
    "duration": 19,
    "start_time": "2023-11-18T18:15:58.231Z"
   },
   {
    "duration": 21,
    "start_time": "2023-11-18T18:15:58.252Z"
   },
   {
    "duration": 5,
    "start_time": "2023-11-18T18:15:58.275Z"
   },
   {
    "duration": 12,
    "start_time": "2023-11-18T18:15:58.281Z"
   },
   {
    "duration": 5,
    "start_time": "2023-11-18T18:15:58.294Z"
   },
   {
    "duration": 12,
    "start_time": "2023-11-18T18:15:58.301Z"
   },
   {
    "duration": 326,
    "start_time": "2023-11-18T18:15:58.314Z"
   },
   {
    "duration": 269,
    "start_time": "2023-11-18T18:15:58.642Z"
   },
   {
    "duration": 7,
    "start_time": "2023-11-18T18:15:58.913Z"
   },
   {
    "duration": 42,
    "start_time": "2023-11-18T18:15:58.923Z"
   },
   {
    "duration": 786,
    "start_time": "2023-11-18T18:15:58.967Z"
   },
   {
    "duration": 20,
    "start_time": "2023-11-18T18:15:59.756Z"
   },
   {
    "duration": 96,
    "start_time": "2023-11-18T18:15:59.777Z"
   },
   {
    "duration": 0,
    "start_time": "2023-11-18T18:15:59.874Z"
   },
   {
    "duration": 0,
    "start_time": "2023-11-18T18:15:59.875Z"
   },
   {
    "duration": 1,
    "start_time": "2023-11-18T18:15:59.875Z"
   },
   {
    "duration": 0,
    "start_time": "2023-11-18T18:15:59.877Z"
   },
   {
    "duration": 0,
    "start_time": "2023-11-18T18:15:59.878Z"
   },
   {
    "duration": 0,
    "start_time": "2023-11-18T18:15:59.879Z"
   },
   {
    "duration": 0,
    "start_time": "2023-11-18T18:15:59.880Z"
   },
   {
    "duration": 0,
    "start_time": "2023-11-18T18:15:59.881Z"
   },
   {
    "duration": 0,
    "start_time": "2023-11-18T18:15:59.881Z"
   },
   {
    "duration": 0,
    "start_time": "2023-11-18T18:15:59.882Z"
   },
   {
    "duration": 0,
    "start_time": "2023-11-18T18:15:59.883Z"
   },
   {
    "duration": 0,
    "start_time": "2023-11-18T18:15:59.884Z"
   },
   {
    "duration": 0,
    "start_time": "2023-11-18T18:15:59.885Z"
   },
   {
    "duration": 0,
    "start_time": "2023-11-18T18:15:59.886Z"
   },
   {
    "duration": 0,
    "start_time": "2023-11-18T18:15:59.887Z"
   },
   {
    "duration": 0,
    "start_time": "2023-11-18T18:15:59.888Z"
   },
   {
    "duration": 0,
    "start_time": "2023-11-18T18:15:59.889Z"
   },
   {
    "duration": 0,
    "start_time": "2023-11-18T18:15:59.890Z"
   },
   {
    "duration": 0,
    "start_time": "2023-11-18T18:15:59.891Z"
   },
   {
    "duration": 0,
    "start_time": "2023-11-18T18:15:59.892Z"
   },
   {
    "duration": 998,
    "start_time": "2023-11-18T18:16:25.184Z"
   },
   {
    "duration": 80,
    "start_time": "2023-11-18T18:16:26.184Z"
   },
   {
    "duration": 19,
    "start_time": "2023-11-18T18:16:26.265Z"
   },
   {
    "duration": 13,
    "start_time": "2023-11-18T18:16:26.286Z"
   },
   {
    "duration": 3,
    "start_time": "2023-11-18T18:16:26.300Z"
   },
   {
    "duration": 14,
    "start_time": "2023-11-18T18:16:26.305Z"
   },
   {
    "duration": 4,
    "start_time": "2023-11-18T18:16:26.320Z"
   },
   {
    "duration": 40,
    "start_time": "2023-11-18T18:16:26.325Z"
   },
   {
    "duration": 16,
    "start_time": "2023-11-18T18:16:26.367Z"
   },
   {
    "duration": 23,
    "start_time": "2023-11-18T18:16:26.386Z"
   },
   {
    "duration": 20,
    "start_time": "2023-11-18T18:16:26.410Z"
   },
   {
    "duration": 13,
    "start_time": "2023-11-18T18:16:26.431Z"
   },
   {
    "duration": 11,
    "start_time": "2023-11-18T18:16:26.445Z"
   },
   {
    "duration": 15,
    "start_time": "2023-11-18T18:16:26.457Z"
   },
   {
    "duration": 21,
    "start_time": "2023-11-18T18:16:26.474Z"
   },
   {
    "duration": 6,
    "start_time": "2023-11-18T18:16:26.496Z"
   },
   {
    "duration": 12,
    "start_time": "2023-11-18T18:16:26.504Z"
   },
   {
    "duration": 20,
    "start_time": "2023-11-18T18:16:26.517Z"
   },
   {
    "duration": 18,
    "start_time": "2023-11-18T18:16:26.538Z"
   },
   {
    "duration": 8,
    "start_time": "2023-11-18T18:16:26.557Z"
   },
   {
    "duration": 37,
    "start_time": "2023-11-18T18:16:26.567Z"
   },
   {
    "duration": 20,
    "start_time": "2023-11-18T18:16:26.605Z"
   },
   {
    "duration": 6,
    "start_time": "2023-11-18T18:16:26.626Z"
   },
   {
    "duration": 25,
    "start_time": "2023-11-18T18:16:26.633Z"
   },
   {
    "duration": 335,
    "start_time": "2023-11-18T18:16:26.660Z"
   },
   {
    "duration": 273,
    "start_time": "2023-11-18T18:16:26.997Z"
   },
   {
    "duration": 9,
    "start_time": "2023-11-18T18:16:27.272Z"
   },
   {
    "duration": 32,
    "start_time": "2023-11-18T18:16:27.285Z"
   },
   {
    "duration": 826,
    "start_time": "2023-11-18T18:16:27.319Z"
   },
   {
    "duration": 24,
    "start_time": "2023-11-18T18:16:28.147Z"
   },
   {
    "duration": 1904,
    "start_time": "2023-11-18T18:16:28.173Z"
   },
   {
    "duration": 99,
    "start_time": "2023-11-18T18:16:30.079Z"
   },
   {
    "duration": 0,
    "start_time": "2023-11-18T18:16:30.180Z"
   },
   {
    "duration": 0,
    "start_time": "2023-11-18T18:16:30.181Z"
   },
   {
    "duration": 1,
    "start_time": "2023-11-18T18:16:30.181Z"
   },
   {
    "duration": 0,
    "start_time": "2023-11-18T18:16:30.183Z"
   },
   {
    "duration": 0,
    "start_time": "2023-11-18T18:16:30.184Z"
   },
   {
    "duration": 0,
    "start_time": "2023-11-18T18:16:30.185Z"
   },
   {
    "duration": 0,
    "start_time": "2023-11-18T18:16:30.186Z"
   },
   {
    "duration": 0,
    "start_time": "2023-11-18T18:16:30.187Z"
   },
   {
    "duration": 0,
    "start_time": "2023-11-18T18:16:30.188Z"
   },
   {
    "duration": 0,
    "start_time": "2023-11-18T18:16:30.188Z"
   },
   {
    "duration": 0,
    "start_time": "2023-11-18T18:16:30.189Z"
   },
   {
    "duration": 0,
    "start_time": "2023-11-18T18:16:30.190Z"
   },
   {
    "duration": 0,
    "start_time": "2023-11-18T18:16:30.191Z"
   },
   {
    "duration": 0,
    "start_time": "2023-11-18T18:16:30.192Z"
   },
   {
    "duration": 0,
    "start_time": "2023-11-18T18:16:30.193Z"
   },
   {
    "duration": 0,
    "start_time": "2023-11-18T18:16:30.194Z"
   },
   {
    "duration": 0,
    "start_time": "2023-11-18T18:16:30.195Z"
   },
   {
    "duration": 0,
    "start_time": "2023-11-18T18:16:30.196Z"
   },
   {
    "duration": 0,
    "start_time": "2023-11-18T18:16:30.197Z"
   },
   {
    "duration": 281,
    "start_time": "2023-11-18T18:17:40.479Z"
   },
   {
    "duration": 984,
    "start_time": "2023-11-18T18:19:10.389Z"
   },
   {
    "duration": 808,
    "start_time": "2023-11-18T18:19:17.777Z"
   },
   {
    "duration": 819,
    "start_time": "2023-11-18T18:19:28.723Z"
   },
   {
    "duration": 931,
    "start_time": "2023-11-18T18:19:36.843Z"
   },
   {
    "duration": 828,
    "start_time": "2023-11-18T18:20:39.997Z"
   },
   {
    "duration": 826,
    "start_time": "2023-11-18T18:20:55.459Z"
   },
   {
    "duration": 672,
    "start_time": "2023-11-18T18:21:07.222Z"
   },
   {
    "duration": 615,
    "start_time": "2023-11-18T18:21:21.826Z"
   },
   {
    "duration": 881,
    "start_time": "2023-11-18T18:21:25.975Z"
   },
   {
    "duration": 705,
    "start_time": "2023-11-18T18:21:34.824Z"
   },
   {
    "duration": 756,
    "start_time": "2023-11-18T18:21:44.925Z"
   },
   {
    "duration": 52,
    "start_time": "2023-11-18T18:23:40.278Z"
   },
   {
    "duration": 22,
    "start_time": "2023-11-18T18:24:41.894Z"
   },
   {
    "duration": 1180,
    "start_time": "2023-11-18T18:24:58.390Z"
   },
   {
    "duration": 1063,
    "start_time": "2023-11-18T18:25:10.943Z"
   },
   {
    "duration": 1144,
    "start_time": "2023-11-18T18:30:12.598Z"
   },
   {
    "duration": 1175,
    "start_time": "2023-11-18T18:30:25.645Z"
   },
   {
    "duration": 399,
    "start_time": "2023-11-18T18:34:17.868Z"
   },
   {
    "duration": 389,
    "start_time": "2023-11-18T18:35:31.123Z"
   },
   {
    "duration": 60,
    "start_time": "2023-11-18T18:36:18.577Z"
   },
   {
    "duration": 4496,
    "start_time": "2023-11-18T18:36:23.502Z"
   },
   {
    "duration": 3777,
    "start_time": "2023-11-18T18:37:19.323Z"
   },
   {
    "duration": 8035,
    "start_time": "2023-11-18T18:38:45.405Z"
   },
   {
    "duration": 62,
    "start_time": "2023-11-18T18:39:09.292Z"
   },
   {
    "duration": 3635,
    "start_time": "2023-11-18T18:39:13.502Z"
   },
   {
    "duration": 1552,
    "start_time": "2023-11-18T18:41:57.229Z"
   },
   {
    "duration": 1339,
    "start_time": "2023-11-18T18:42:08.950Z"
   },
   {
    "duration": 489,
    "start_time": "2023-11-18T18:42:26.000Z"
   },
   {
    "duration": 1459,
    "start_time": "2023-11-18T18:42:42.715Z"
   },
   {
    "duration": 10,
    "start_time": "2023-11-18T18:42:57.127Z"
   },
   {
    "duration": 644,
    "start_time": "2023-11-18T18:43:36.544Z"
   },
   {
    "duration": 632,
    "start_time": "2023-11-18T18:43:44.141Z"
   },
   {
    "duration": 218,
    "start_time": "2023-11-18T18:44:31.358Z"
   },
   {
    "duration": 204,
    "start_time": "2023-11-18T18:45:20.440Z"
   },
   {
    "duration": 208,
    "start_time": "2023-11-18T18:45:37.075Z"
   },
   {
    "duration": 232,
    "start_time": "2023-11-18T18:45:51.852Z"
   },
   {
    "duration": 221,
    "start_time": "2023-11-18T18:46:01.178Z"
   },
   {
    "duration": 476,
    "start_time": "2023-11-18T18:46:51.652Z"
   },
   {
    "duration": 250,
    "start_time": "2023-11-18T18:47:04.833Z"
   },
   {
    "duration": 268,
    "start_time": "2023-11-18T18:48:20.591Z"
   },
   {
    "duration": 240,
    "start_time": "2023-11-18T18:48:26.949Z"
   },
   {
    "duration": 1044,
    "start_time": "2023-11-18T19:04:37.845Z"
   },
   {
    "duration": 108,
    "start_time": "2023-11-18T19:04:38.891Z"
   },
   {
    "duration": 19,
    "start_time": "2023-11-18T19:04:39.000Z"
   },
   {
    "duration": 14,
    "start_time": "2023-11-18T19:04:39.020Z"
   },
   {
    "duration": 10,
    "start_time": "2023-11-18T19:04:39.036Z"
   },
   {
    "duration": 24,
    "start_time": "2023-11-18T19:04:39.047Z"
   },
   {
    "duration": 4,
    "start_time": "2023-11-18T19:04:39.073Z"
   },
   {
    "duration": 16,
    "start_time": "2023-11-18T19:04:39.078Z"
   },
   {
    "duration": 14,
    "start_time": "2023-11-18T19:04:39.095Z"
   },
   {
    "duration": 15,
    "start_time": "2023-11-18T19:04:39.110Z"
   },
   {
    "duration": 10,
    "start_time": "2023-11-18T19:04:39.126Z"
   },
   {
    "duration": 7,
    "start_time": "2023-11-18T19:04:39.138Z"
   },
   {
    "duration": 9,
    "start_time": "2023-11-18T19:04:39.155Z"
   },
   {
    "duration": 13,
    "start_time": "2023-11-18T19:04:39.167Z"
   },
   {
    "duration": 7,
    "start_time": "2023-11-18T19:04:39.181Z"
   },
   {
    "duration": 25,
    "start_time": "2023-11-18T19:04:39.189Z"
   },
   {
    "duration": 12,
    "start_time": "2023-11-18T19:04:39.216Z"
   },
   {
    "duration": 8,
    "start_time": "2023-11-18T19:04:39.230Z"
   },
   {
    "duration": 20,
    "start_time": "2023-11-18T19:04:39.240Z"
   },
   {
    "duration": 7,
    "start_time": "2023-11-18T19:04:39.262Z"
   },
   {
    "duration": 14,
    "start_time": "2023-11-18T19:04:39.271Z"
   },
   {
    "duration": 20,
    "start_time": "2023-11-18T19:04:39.287Z"
   },
   {
    "duration": 5,
    "start_time": "2023-11-18T19:04:39.309Z"
   },
   {
    "duration": 36,
    "start_time": "2023-11-18T19:04:39.316Z"
   },
   {
    "duration": 346,
    "start_time": "2023-11-18T19:04:39.354Z"
   },
   {
    "duration": 276,
    "start_time": "2023-11-18T19:04:39.702Z"
   },
   {
    "duration": 8,
    "start_time": "2023-11-18T19:04:39.980Z"
   },
   {
    "duration": 46,
    "start_time": "2023-11-18T19:04:39.989Z"
   },
   {
    "duration": 790,
    "start_time": "2023-11-18T19:04:40.037Z"
   },
   {
    "duration": 28,
    "start_time": "2023-11-18T19:04:40.828Z"
   },
   {
    "duration": 1185,
    "start_time": "2023-11-18T19:04:40.857Z"
   },
   {
    "duration": 268,
    "start_time": "2023-11-18T19:04:42.044Z"
   },
   {
    "duration": 1830,
    "start_time": "2023-11-18T19:04:42.314Z"
   },
   {
    "duration": 0,
    "start_time": "2023-11-18T19:04:44.146Z"
   },
   {
    "duration": 0,
    "start_time": "2023-11-18T19:04:44.147Z"
   },
   {
    "duration": 0,
    "start_time": "2023-11-18T19:04:44.148Z"
   },
   {
    "duration": 0,
    "start_time": "2023-11-18T19:04:44.149Z"
   },
   {
    "duration": 0,
    "start_time": "2023-11-18T19:04:44.150Z"
   },
   {
    "duration": 0,
    "start_time": "2023-11-18T19:04:44.151Z"
   },
   {
    "duration": 0,
    "start_time": "2023-11-18T19:04:44.155Z"
   },
   {
    "duration": 0,
    "start_time": "2023-11-18T19:04:44.156Z"
   },
   {
    "duration": 0,
    "start_time": "2023-11-18T19:04:44.157Z"
   },
   {
    "duration": 0,
    "start_time": "2023-11-18T19:04:44.158Z"
   },
   {
    "duration": 0,
    "start_time": "2023-11-18T19:04:44.159Z"
   },
   {
    "duration": 0,
    "start_time": "2023-11-18T19:04:44.160Z"
   },
   {
    "duration": 0,
    "start_time": "2023-11-18T19:04:44.161Z"
   },
   {
    "duration": 0,
    "start_time": "2023-11-18T19:04:44.162Z"
   },
   {
    "duration": 0,
    "start_time": "2023-11-18T19:04:44.163Z"
   },
   {
    "duration": 0,
    "start_time": "2023-11-18T19:04:44.163Z"
   },
   {
    "duration": 0,
    "start_time": "2023-11-18T19:04:44.165Z"
   },
   {
    "duration": 0,
    "start_time": "2023-11-18T19:04:44.166Z"
   },
   {
    "duration": 126,
    "start_time": "2023-11-18T19:05:05.955Z"
   },
   {
    "duration": 1611,
    "start_time": "2023-11-18T19:05:23.836Z"
   },
   {
    "duration": 4,
    "start_time": "2023-11-18T19:05:29.760Z"
   },
   {
    "duration": 11,
    "start_time": "2023-11-18T19:10:28.908Z"
   },
   {
    "duration": 108,
    "start_time": "2023-11-18T19:10:50.756Z"
   },
   {
    "duration": 103,
    "start_time": "2023-11-18T19:11:25.359Z"
   },
   {
    "duration": 107,
    "start_time": "2023-11-18T19:11:34.959Z"
   },
   {
    "duration": 72,
    "start_time": "2023-11-18T19:12:45.692Z"
   },
   {
    "duration": 190,
    "start_time": "2023-11-18T19:12:56.749Z"
   },
   {
    "duration": 103,
    "start_time": "2023-11-18T19:13:22.454Z"
   },
   {
    "duration": 220,
    "start_time": "2023-11-18T19:13:57.196Z"
   },
   {
    "duration": 62,
    "start_time": "2023-11-18T19:15:04.859Z"
   },
   {
    "duration": 218,
    "start_time": "2023-11-18T19:15:11.240Z"
   },
   {
    "duration": 216,
    "start_time": "2023-11-18T19:15:38.904Z"
   },
   {
    "duration": 225,
    "start_time": "2023-11-18T19:17:09.966Z"
   },
   {
    "duration": 232,
    "start_time": "2023-11-18T19:17:23.408Z"
   },
   {
    "duration": 366,
    "start_time": "2023-11-18T19:22:00.192Z"
   },
   {
    "duration": 317,
    "start_time": "2023-11-18T19:25:19.444Z"
   },
   {
    "duration": 413,
    "start_time": "2023-11-18T19:25:32.270Z"
   },
   {
    "duration": 229,
    "start_time": "2023-11-18T19:26:53.773Z"
   },
   {
    "duration": 215,
    "start_time": "2023-11-18T19:27:19.150Z"
   },
   {
    "duration": 244,
    "start_time": "2023-11-18T19:27:27.815Z"
   },
   {
    "duration": 212,
    "start_time": "2023-11-18T19:27:37.793Z"
   },
   {
    "duration": 365,
    "start_time": "2023-11-18T19:28:15.416Z"
   },
   {
    "duration": 357,
    "start_time": "2023-11-18T19:28:42.417Z"
   },
   {
    "duration": 396,
    "start_time": "2023-11-18T19:29:47.132Z"
   },
   {
    "duration": 253,
    "start_time": "2023-11-18T19:32:11.486Z"
   },
   {
    "duration": 365,
    "start_time": "2023-11-18T19:32:27.275Z"
   },
   {
    "duration": 207,
    "start_time": "2023-11-18T19:34:06.616Z"
   },
   {
    "duration": 218,
    "start_time": "2023-11-18T19:34:45.645Z"
   },
   {
    "duration": 236,
    "start_time": "2023-11-18T19:35:05.824Z"
   },
   {
    "duration": 217,
    "start_time": "2023-11-18T19:35:19.076Z"
   },
   {
    "duration": 231,
    "start_time": "2023-11-18T19:36:56.648Z"
   },
   {
    "duration": 246,
    "start_time": "2023-11-18T19:37:31.840Z"
   },
   {
    "duration": 780,
    "start_time": "2023-11-18T19:38:38.372Z"
   },
   {
    "duration": 702,
    "start_time": "2023-11-18T19:39:08.409Z"
   },
   {
    "duration": 966,
    "start_time": "2023-11-18T19:39:36.753Z"
   },
   {
    "duration": 1254,
    "start_time": "2023-11-18T19:42:19.063Z"
   },
   {
    "duration": 950,
    "start_time": "2023-11-18T19:42:43.148Z"
   },
   {
    "duration": 1050,
    "start_time": "2023-11-18T19:44:58.208Z"
   },
   {
    "duration": 977,
    "start_time": "2023-11-18T19:48:58.195Z"
   },
   {
    "duration": 106,
    "start_time": "2023-11-18T19:48:59.174Z"
   },
   {
    "duration": 18,
    "start_time": "2023-11-18T19:48:59.281Z"
   },
   {
    "duration": 23,
    "start_time": "2023-11-18T19:48:59.301Z"
   },
   {
    "duration": 2,
    "start_time": "2023-11-18T19:48:59.326Z"
   },
   {
    "duration": 28,
    "start_time": "2023-11-18T19:48:59.330Z"
   },
   {
    "duration": 15,
    "start_time": "2023-11-18T19:48:59.360Z"
   },
   {
    "duration": 25,
    "start_time": "2023-11-18T19:48:59.376Z"
   },
   {
    "duration": 15,
    "start_time": "2023-11-18T19:48:59.403Z"
   },
   {
    "duration": 31,
    "start_time": "2023-11-18T19:48:59.419Z"
   },
   {
    "duration": 27,
    "start_time": "2023-11-18T19:48:59.451Z"
   },
   {
    "duration": 29,
    "start_time": "2023-11-18T19:48:59.479Z"
   },
   {
    "duration": 51,
    "start_time": "2023-11-18T19:48:59.509Z"
   },
   {
    "duration": 22,
    "start_time": "2023-11-18T19:48:59.563Z"
   },
   {
    "duration": 25,
    "start_time": "2023-11-18T19:48:59.586Z"
   },
   {
    "duration": 29,
    "start_time": "2023-11-18T19:48:59.612Z"
   },
   {
    "duration": 23,
    "start_time": "2023-11-18T19:48:59.643Z"
   },
   {
    "duration": 8,
    "start_time": "2023-11-18T19:48:59.667Z"
   },
   {
    "duration": 13,
    "start_time": "2023-11-18T19:48:59.677Z"
   },
   {
    "duration": 10,
    "start_time": "2023-11-18T19:48:59.691Z"
   },
   {
    "duration": 8,
    "start_time": "2023-11-18T19:48:59.702Z"
   },
   {
    "duration": 39,
    "start_time": "2023-11-18T19:48:59.711Z"
   },
   {
    "duration": 14,
    "start_time": "2023-11-18T19:48:59.752Z"
   },
   {
    "duration": 19,
    "start_time": "2023-11-18T19:48:59.768Z"
   },
   {
    "duration": 344,
    "start_time": "2023-11-18T19:48:59.789Z"
   },
   {
    "duration": 281,
    "start_time": "2023-11-18T19:49:00.134Z"
   },
   {
    "duration": 8,
    "start_time": "2023-11-18T19:49:00.416Z"
   },
   {
    "duration": 261,
    "start_time": "2023-11-18T19:49:00.425Z"
   },
   {
    "duration": 839,
    "start_time": "2023-11-18T19:49:00.687Z"
   },
   {
    "duration": 31,
    "start_time": "2023-11-18T19:49:01.527Z"
   },
   {
    "duration": 1178,
    "start_time": "2023-11-18T19:49:01.559Z"
   },
   {
    "duration": 261,
    "start_time": "2023-11-18T19:49:02.738Z"
   },
   {
    "duration": 993,
    "start_time": "2023-11-18T19:49:03.000Z"
   },
   {
    "duration": 180,
    "start_time": "2023-11-18T19:49:03.994Z"
   },
   {
    "duration": 93,
    "start_time": "2023-11-18T19:49:04.175Z"
   },
   {
    "duration": 0,
    "start_time": "2023-11-18T19:49:04.269Z"
   },
   {
    "duration": 0,
    "start_time": "2023-11-18T19:49:04.270Z"
   },
   {
    "duration": 0,
    "start_time": "2023-11-18T19:49:04.271Z"
   },
   {
    "duration": 0,
    "start_time": "2023-11-18T19:49:04.272Z"
   },
   {
    "duration": 0,
    "start_time": "2023-11-18T19:49:04.273Z"
   },
   {
    "duration": 0,
    "start_time": "2023-11-18T19:49:04.274Z"
   },
   {
    "duration": 0,
    "start_time": "2023-11-18T19:49:04.275Z"
   },
   {
    "duration": 0,
    "start_time": "2023-11-18T19:49:04.276Z"
   },
   {
    "duration": 0,
    "start_time": "2023-11-18T19:49:04.277Z"
   },
   {
    "duration": 273,
    "start_time": "2023-11-18T19:52:59.991Z"
   },
   {
    "duration": 159,
    "start_time": "2023-11-18T19:53:13.275Z"
   },
   {
    "duration": 182,
    "start_time": "2023-11-18T19:53:21.946Z"
   },
   {
    "duration": 169,
    "start_time": "2023-11-18T19:53:40.576Z"
   },
   {
    "duration": 173,
    "start_time": "2023-11-18T19:56:04.924Z"
   },
   {
    "duration": 971,
    "start_time": "2023-11-18T20:03:24.287Z"
   },
   {
    "duration": 81,
    "start_time": "2023-11-18T20:03:25.259Z"
   },
   {
    "duration": 23,
    "start_time": "2023-11-18T20:03:25.341Z"
   },
   {
    "duration": 21,
    "start_time": "2023-11-18T20:03:25.365Z"
   },
   {
    "duration": 2,
    "start_time": "2023-11-18T20:03:25.388Z"
   },
   {
    "duration": 14,
    "start_time": "2023-11-18T20:03:25.392Z"
   },
   {
    "duration": 4,
    "start_time": "2023-11-18T20:03:25.407Z"
   },
   {
    "duration": 19,
    "start_time": "2023-11-18T20:03:25.412Z"
   },
   {
    "duration": 39,
    "start_time": "2023-11-18T20:03:25.432Z"
   },
   {
    "duration": 29,
    "start_time": "2023-11-18T20:03:25.472Z"
   },
   {
    "duration": 13,
    "start_time": "2023-11-18T20:03:25.502Z"
   },
   {
    "duration": 14,
    "start_time": "2023-11-18T20:03:25.517Z"
   },
   {
    "duration": 11,
    "start_time": "2023-11-18T20:03:25.532Z"
   },
   {
    "duration": 3,
    "start_time": "2023-11-18T20:03:25.545Z"
   },
   {
    "duration": 13,
    "start_time": "2023-11-18T20:03:25.549Z"
   },
   {
    "duration": 6,
    "start_time": "2023-11-18T20:03:25.563Z"
   },
   {
    "duration": 13,
    "start_time": "2023-11-18T20:03:25.571Z"
   },
   {
    "duration": 8,
    "start_time": "2023-11-18T20:03:25.585Z"
   },
   {
    "duration": 19,
    "start_time": "2023-11-18T20:03:25.594Z"
   },
   {
    "duration": 7,
    "start_time": "2023-11-18T20:03:25.614Z"
   },
   {
    "duration": 8,
    "start_time": "2023-11-18T20:03:25.623Z"
   },
   {
    "duration": 26,
    "start_time": "2023-11-18T20:03:25.632Z"
   },
   {
    "duration": 24,
    "start_time": "2023-11-18T20:03:25.659Z"
   },
   {
    "duration": 15,
    "start_time": "2023-11-18T20:03:25.685Z"
   },
   {
    "duration": 323,
    "start_time": "2023-11-18T20:03:25.701Z"
   },
   {
    "duration": 268,
    "start_time": "2023-11-18T20:03:26.026Z"
   },
   {
    "duration": 8,
    "start_time": "2023-11-18T20:03:26.296Z"
   },
   {
    "duration": 40,
    "start_time": "2023-11-18T20:03:26.305Z"
   },
   {
    "duration": 759,
    "start_time": "2023-11-18T20:03:26.347Z"
   },
   {
    "duration": 21,
    "start_time": "2023-11-18T20:03:27.108Z"
   },
   {
    "duration": 1163,
    "start_time": "2023-11-18T20:03:27.131Z"
   },
   {
    "duration": 252,
    "start_time": "2023-11-18T20:03:28.295Z"
   },
   {
    "duration": 963,
    "start_time": "2023-11-18T20:03:28.549Z"
   },
   {
    "duration": 172,
    "start_time": "2023-11-18T20:03:29.513Z"
   },
   {
    "duration": 254,
    "start_time": "2023-11-18T20:03:29.687Z"
   },
   {
    "duration": 2,
    "start_time": "2023-11-18T20:03:29.943Z"
   },
   {
    "duration": 64,
    "start_time": "2023-11-18T20:03:29.946Z"
   },
   {
    "duration": 0,
    "start_time": "2023-11-18T20:03:30.011Z"
   },
   {
    "duration": 0,
    "start_time": "2023-11-18T20:03:30.013Z"
   },
   {
    "duration": 0,
    "start_time": "2023-11-18T20:03:30.014Z"
   },
   {
    "duration": 0,
    "start_time": "2023-11-18T20:03:30.015Z"
   },
   {
    "duration": 0,
    "start_time": "2023-11-18T20:03:30.015Z"
   },
   {
    "duration": 0,
    "start_time": "2023-11-18T20:03:30.016Z"
   },
   {
    "duration": 0,
    "start_time": "2023-11-18T20:03:30.017Z"
   },
   {
    "duration": 0,
    "start_time": "2023-11-18T20:03:30.018Z"
   },
   {
    "duration": 969,
    "start_time": "2023-11-18T20:03:43.987Z"
   },
   {
    "duration": 80,
    "start_time": "2023-11-18T20:03:44.957Z"
   },
   {
    "duration": 37,
    "start_time": "2023-11-18T20:03:45.038Z"
   },
   {
    "duration": 39,
    "start_time": "2023-11-18T20:03:45.077Z"
   },
   {
    "duration": 13,
    "start_time": "2023-11-18T20:03:45.118Z"
   },
   {
    "duration": 34,
    "start_time": "2023-11-18T20:03:45.133Z"
   },
   {
    "duration": 20,
    "start_time": "2023-11-18T20:03:45.169Z"
   },
   {
    "duration": 26,
    "start_time": "2023-11-18T20:03:45.190Z"
   },
   {
    "duration": 15,
    "start_time": "2023-11-18T20:03:45.217Z"
   },
   {
    "duration": 37,
    "start_time": "2023-11-18T20:03:45.234Z"
   },
   {
    "duration": 32,
    "start_time": "2023-11-18T20:03:45.273Z"
   },
   {
    "duration": 45,
    "start_time": "2023-11-18T20:03:45.306Z"
   },
   {
    "duration": 43,
    "start_time": "2023-11-18T20:03:45.353Z"
   },
   {
    "duration": 26,
    "start_time": "2023-11-18T20:03:45.397Z"
   },
   {
    "duration": 19,
    "start_time": "2023-11-18T20:03:45.424Z"
   },
   {
    "duration": 40,
    "start_time": "2023-11-18T20:03:45.444Z"
   },
   {
    "duration": 71,
    "start_time": "2023-11-18T20:03:45.486Z"
   },
   {
    "duration": 58,
    "start_time": "2023-11-18T20:03:45.558Z"
   },
   {
    "duration": 33,
    "start_time": "2023-11-18T20:03:45.617Z"
   },
   {
    "duration": 83,
    "start_time": "2023-11-18T20:03:45.651Z"
   },
   {
    "duration": 62,
    "start_time": "2023-11-18T20:03:45.736Z"
   },
   {
    "duration": 98,
    "start_time": "2023-11-18T20:03:45.799Z"
   },
   {
    "duration": 39,
    "start_time": "2023-11-18T20:03:45.898Z"
   },
   {
    "duration": 64,
    "start_time": "2023-11-18T20:03:45.938Z"
   },
   {
    "duration": 349,
    "start_time": "2023-11-18T20:03:46.003Z"
   },
   {
    "duration": 273,
    "start_time": "2023-11-18T20:03:46.353Z"
   },
   {
    "duration": 8,
    "start_time": "2023-11-18T20:03:46.627Z"
   },
   {
    "duration": 42,
    "start_time": "2023-11-18T20:03:46.638Z"
   },
   {
    "duration": 761,
    "start_time": "2023-11-18T20:03:46.681Z"
   },
   {
    "duration": 31,
    "start_time": "2023-11-18T20:03:47.443Z"
   },
   {
    "duration": 1167,
    "start_time": "2023-11-18T20:03:47.475Z"
   },
   {
    "duration": 259,
    "start_time": "2023-11-18T20:03:48.644Z"
   },
   {
    "duration": 966,
    "start_time": "2023-11-18T20:03:48.904Z"
   },
   {
    "duration": 170,
    "start_time": "2023-11-18T20:03:49.871Z"
   },
   {
    "duration": 260,
    "start_time": "2023-11-18T20:03:50.042Z"
   },
   {
    "duration": 2,
    "start_time": "2023-11-18T20:03:50.303Z"
   },
   {
    "duration": 155,
    "start_time": "2023-11-18T20:03:50.306Z"
   },
   {
    "duration": 181,
    "start_time": "2023-11-18T20:03:50.462Z"
   },
   {
    "duration": 160,
    "start_time": "2023-11-18T20:03:50.644Z"
   },
   {
    "duration": 170,
    "start_time": "2023-11-18T20:03:50.805Z"
   },
   {
    "duration": 148,
    "start_time": "2023-11-18T20:03:50.977Z"
   },
   {
    "duration": 194,
    "start_time": "2023-11-18T20:03:51.127Z"
   },
   {
    "duration": 14,
    "start_time": "2023-11-18T20:03:51.323Z"
   },
   {
    "duration": 17,
    "start_time": "2023-11-18T20:03:51.339Z"
   },
   {
    "duration": 10,
    "start_time": "2023-11-18T20:03:51.357Z"
   },
   {
    "duration": 236,
    "start_time": "2023-11-18T20:10:21.345Z"
   },
   {
    "duration": 65,
    "start_time": "2023-11-18T20:11:04.555Z"
   },
   {
    "duration": 277,
    "start_time": "2023-11-18T20:11:32.126Z"
   },
   {
    "duration": 403,
    "start_time": "2023-11-18T20:12:09.139Z"
   },
   {
    "duration": 307,
    "start_time": "2023-11-18T20:12:19.887Z"
   },
   {
    "duration": 302,
    "start_time": "2023-11-18T20:12:27.881Z"
   },
   {
    "duration": 301,
    "start_time": "2023-11-18T20:12:49.961Z"
   },
   {
    "duration": 983,
    "start_time": "2023-11-18T20:13:15.414Z"
   },
   {
    "duration": 885,
    "start_time": "2023-11-18T20:17:47.174Z"
   },
   {
    "duration": 973,
    "start_time": "2023-11-18T20:18:00.102Z"
   },
   {
    "duration": 14,
    "start_time": "2023-11-18T20:25:28.868Z"
   },
   {
    "duration": 66,
    "start_time": "2023-11-18T20:26:54.392Z"
   },
   {
    "duration": 4,
    "start_time": "2023-11-18T20:31:01.321Z"
   },
   {
    "duration": 986,
    "start_time": "2023-11-18T20:31:22.583Z"
   },
   {
    "duration": 107,
    "start_time": "2023-11-18T20:31:23.571Z"
   },
   {
    "duration": 18,
    "start_time": "2023-11-18T20:31:23.679Z"
   },
   {
    "duration": 13,
    "start_time": "2023-11-18T20:31:23.699Z"
   },
   {
    "duration": 3,
    "start_time": "2023-11-18T20:31:23.713Z"
   },
   {
    "duration": 33,
    "start_time": "2023-11-18T20:31:23.718Z"
   },
   {
    "duration": 4,
    "start_time": "2023-11-18T20:31:23.752Z"
   },
   {
    "duration": 15,
    "start_time": "2023-11-18T20:31:23.757Z"
   },
   {
    "duration": 13,
    "start_time": "2023-11-18T20:31:23.774Z"
   },
   {
    "duration": 7,
    "start_time": "2023-11-18T20:31:23.790Z"
   },
   {
    "duration": 26,
    "start_time": "2023-11-18T20:31:23.798Z"
   },
   {
    "duration": 8,
    "start_time": "2023-11-18T20:31:23.825Z"
   },
   {
    "duration": 10,
    "start_time": "2023-11-18T20:31:23.835Z"
   },
   {
    "duration": 10,
    "start_time": "2023-11-18T20:31:23.846Z"
   },
   {
    "duration": 8,
    "start_time": "2023-11-18T20:31:23.858Z"
   },
   {
    "duration": 8,
    "start_time": "2023-11-18T20:31:23.867Z"
   },
   {
    "duration": 14,
    "start_time": "2023-11-18T20:31:23.877Z"
   },
   {
    "duration": 14,
    "start_time": "2023-11-18T20:31:23.892Z"
   },
   {
    "duration": 16,
    "start_time": "2023-11-18T20:31:23.907Z"
   },
   {
    "duration": 10,
    "start_time": "2023-11-18T20:31:23.924Z"
   },
   {
    "duration": 22,
    "start_time": "2023-11-18T20:31:23.935Z"
   },
   {
    "duration": 12,
    "start_time": "2023-11-18T20:31:23.958Z"
   },
   {
    "duration": 6,
    "start_time": "2023-11-18T20:31:23.971Z"
   },
   {
    "duration": 24,
    "start_time": "2023-11-18T20:31:23.978Z"
   },
   {
    "duration": 329,
    "start_time": "2023-11-18T20:31:24.003Z"
   },
   {
    "duration": 290,
    "start_time": "2023-11-18T20:31:24.333Z"
   },
   {
    "duration": 8,
    "start_time": "2023-11-18T20:31:24.624Z"
   },
   {
    "duration": 46,
    "start_time": "2023-11-18T20:31:24.635Z"
   },
   {
    "duration": 758,
    "start_time": "2023-11-18T20:31:24.682Z"
   },
   {
    "duration": 36,
    "start_time": "2023-11-18T20:31:25.441Z"
   },
   {
    "duration": 1146,
    "start_time": "2023-11-18T20:31:25.478Z"
   },
   {
    "duration": 259,
    "start_time": "2023-11-18T20:31:26.626Z"
   },
   {
    "duration": 984,
    "start_time": "2023-11-18T20:31:26.887Z"
   },
   {
    "duration": 186,
    "start_time": "2023-11-18T20:31:27.872Z"
   },
   {
    "duration": 277,
    "start_time": "2023-11-18T20:31:28.059Z"
   },
   {
    "duration": 888,
    "start_time": "2023-11-18T20:31:28.337Z"
   },
   {
    "duration": 4,
    "start_time": "2023-11-18T20:31:29.226Z"
   },
   {
    "duration": 28,
    "start_time": "2023-11-18T20:31:29.231Z"
   },
   {
    "duration": 7,
    "start_time": "2023-11-18T20:31:29.261Z"
   },
   {
    "duration": 11,
    "start_time": "2023-11-18T20:31:29.269Z"
   },
   {
    "duration": 982,
    "start_time": "2023-11-18T20:35:17.180Z"
   },
   {
    "duration": 107,
    "start_time": "2023-11-18T20:35:18.164Z"
   },
   {
    "duration": 18,
    "start_time": "2023-11-18T20:35:18.272Z"
   },
   {
    "duration": 15,
    "start_time": "2023-11-18T20:35:18.291Z"
   },
   {
    "duration": 24,
    "start_time": "2023-11-18T20:35:18.307Z"
   },
   {
    "duration": 34,
    "start_time": "2023-11-18T20:35:18.333Z"
   },
   {
    "duration": 17,
    "start_time": "2023-11-18T20:35:18.368Z"
   },
   {
    "duration": 14,
    "start_time": "2023-11-18T20:35:18.386Z"
   },
   {
    "duration": 15,
    "start_time": "2023-11-18T20:35:18.401Z"
   },
   {
    "duration": 28,
    "start_time": "2023-11-18T20:35:18.418Z"
   },
   {
    "duration": 17,
    "start_time": "2023-11-18T20:35:18.448Z"
   },
   {
    "duration": 11,
    "start_time": "2023-11-18T20:35:18.467Z"
   },
   {
    "duration": 23,
    "start_time": "2023-11-18T20:35:18.479Z"
   },
   {
    "duration": 8,
    "start_time": "2023-11-18T20:35:18.503Z"
   },
   {
    "duration": 10,
    "start_time": "2023-11-18T20:35:18.512Z"
   },
   {
    "duration": 13,
    "start_time": "2023-11-18T20:35:18.523Z"
   },
   {
    "duration": 21,
    "start_time": "2023-11-18T20:35:18.538Z"
   },
   {
    "duration": 8,
    "start_time": "2023-11-18T20:35:18.560Z"
   },
   {
    "duration": 15,
    "start_time": "2023-11-18T20:35:18.569Z"
   },
   {
    "duration": 7,
    "start_time": "2023-11-18T20:35:18.586Z"
   },
   {
    "duration": 4,
    "start_time": "2023-11-18T20:35:18.594Z"
   },
   {
    "duration": 11,
    "start_time": "2023-11-18T20:35:18.599Z"
   },
   {
    "duration": 18,
    "start_time": "2023-11-18T20:35:18.611Z"
   },
   {
    "duration": 33,
    "start_time": "2023-11-18T20:35:18.630Z"
   },
   {
    "duration": 326,
    "start_time": "2023-11-18T20:35:18.664Z"
   },
   {
    "duration": 279,
    "start_time": "2023-11-18T20:35:18.991Z"
   },
   {
    "duration": 7,
    "start_time": "2023-11-18T20:35:19.272Z"
   },
   {
    "duration": 88,
    "start_time": "2023-11-18T20:35:19.282Z"
   },
   {
    "duration": 741,
    "start_time": "2023-11-18T20:35:19.372Z"
   },
   {
    "duration": 20,
    "start_time": "2023-11-18T20:35:20.115Z"
   },
   {
    "duration": 1174,
    "start_time": "2023-11-18T20:35:20.136Z"
   },
   {
    "duration": 267,
    "start_time": "2023-11-18T20:35:21.311Z"
   },
   {
    "duration": 974,
    "start_time": "2023-11-18T20:35:21.579Z"
   },
   {
    "duration": 167,
    "start_time": "2023-11-18T20:35:22.556Z"
   },
   {
    "duration": 257,
    "start_time": "2023-11-18T20:35:22.724Z"
   },
   {
    "duration": 874,
    "start_time": "2023-11-18T20:35:22.983Z"
   },
   {
    "duration": 4,
    "start_time": "2023-11-18T20:35:23.858Z"
   },
   {
    "duration": 21,
    "start_time": "2023-11-18T20:35:23.864Z"
   },
   {
    "duration": 15,
    "start_time": "2023-11-18T20:35:23.886Z"
   },
   {
    "duration": 16,
    "start_time": "2023-11-18T20:35:23.902Z"
   },
   {
    "duration": 72,
    "start_time": "2023-11-18T20:37:08.446Z"
   },
   {
    "duration": 5,
    "start_time": "2023-11-18T20:38:02.090Z"
   },
   {
    "duration": 14,
    "start_time": "2023-11-18T20:38:06.186Z"
   },
   {
    "duration": 3,
    "start_time": "2023-11-18T20:39:43.485Z"
   },
   {
    "duration": 13,
    "start_time": "2023-11-18T20:39:47.146Z"
   },
   {
    "duration": 1038,
    "start_time": "2023-11-18T20:40:00.460Z"
   },
   {
    "duration": 102,
    "start_time": "2023-11-18T20:40:01.500Z"
   },
   {
    "duration": 18,
    "start_time": "2023-11-18T20:40:01.604Z"
   },
   {
    "duration": 31,
    "start_time": "2023-11-18T20:40:01.624Z"
   },
   {
    "duration": 48,
    "start_time": "2023-11-18T20:40:01.658Z"
   },
   {
    "duration": 53,
    "start_time": "2023-11-18T20:40:01.707Z"
   },
   {
    "duration": 61,
    "start_time": "2023-11-18T20:40:01.762Z"
   },
   {
    "duration": 91,
    "start_time": "2023-11-18T20:40:01.825Z"
   },
   {
    "duration": 19,
    "start_time": "2023-11-18T20:40:01.918Z"
   },
   {
    "duration": 23,
    "start_time": "2023-11-18T20:40:01.939Z"
   },
   {
    "duration": 53,
    "start_time": "2023-11-18T20:40:01.964Z"
   },
   {
    "duration": 14,
    "start_time": "2023-11-18T20:40:02.018Z"
   },
   {
    "duration": 26,
    "start_time": "2023-11-18T20:40:02.033Z"
   },
   {
    "duration": 12,
    "start_time": "2023-11-18T20:40:02.061Z"
   },
   {
    "duration": 36,
    "start_time": "2023-11-18T20:40:02.074Z"
   },
   {
    "duration": 37,
    "start_time": "2023-11-18T20:40:02.112Z"
   },
   {
    "duration": 54,
    "start_time": "2023-11-18T20:40:02.150Z"
   },
   {
    "duration": 13,
    "start_time": "2023-11-18T20:40:02.205Z"
   },
   {
    "duration": 34,
    "start_time": "2023-11-18T20:40:02.219Z"
   },
   {
    "duration": 22,
    "start_time": "2023-11-18T20:40:02.254Z"
   },
   {
    "duration": 17,
    "start_time": "2023-11-18T20:40:02.278Z"
   },
   {
    "duration": 34,
    "start_time": "2023-11-18T20:40:02.296Z"
   },
   {
    "duration": 16,
    "start_time": "2023-11-18T20:40:02.332Z"
   },
   {
    "duration": 26,
    "start_time": "2023-11-18T20:40:02.350Z"
   },
   {
    "duration": 356,
    "start_time": "2023-11-18T20:40:02.377Z"
   },
   {
    "duration": 282,
    "start_time": "2023-11-18T20:40:02.735Z"
   },
   {
    "duration": 10,
    "start_time": "2023-11-18T20:40:03.019Z"
   },
   {
    "duration": 46,
    "start_time": "2023-11-18T20:40:03.030Z"
   },
   {
    "duration": 798,
    "start_time": "2023-11-18T20:40:03.078Z"
   },
   {
    "duration": 22,
    "start_time": "2023-11-18T20:40:03.877Z"
   },
   {
    "duration": 1143,
    "start_time": "2023-11-18T20:40:03.901Z"
   },
   {
    "duration": 260,
    "start_time": "2023-11-18T20:40:05.046Z"
   },
   {
    "duration": 977,
    "start_time": "2023-11-18T20:40:05.308Z"
   },
   {
    "duration": 175,
    "start_time": "2023-11-18T20:40:06.287Z"
   },
   {
    "duration": 254,
    "start_time": "2023-11-18T20:40:06.464Z"
   },
   {
    "duration": 877,
    "start_time": "2023-11-18T20:40:06.720Z"
   },
   {
    "duration": 4,
    "start_time": "2023-11-18T20:40:07.599Z"
   },
   {
    "duration": 18,
    "start_time": "2023-11-18T20:40:07.604Z"
   },
   {
    "duration": 7,
    "start_time": "2023-11-18T20:40:07.624Z"
   },
   {
    "duration": 26,
    "start_time": "2023-11-18T20:40:07.632Z"
   },
   {
    "duration": 4,
    "start_time": "2023-11-18T20:40:33.769Z"
   },
   {
    "duration": 1032,
    "start_time": "2023-11-18T20:40:44.344Z"
   },
   {
    "duration": 101,
    "start_time": "2023-11-18T20:40:45.378Z"
   },
   {
    "duration": 17,
    "start_time": "2023-11-18T20:40:45.481Z"
   },
   {
    "duration": 13,
    "start_time": "2023-11-18T20:40:45.500Z"
   },
   {
    "duration": 11,
    "start_time": "2023-11-18T20:40:45.514Z"
   },
   {
    "duration": 14,
    "start_time": "2023-11-18T20:40:45.527Z"
   },
   {
    "duration": 13,
    "start_time": "2023-11-18T20:40:45.542Z"
   },
   {
    "duration": 11,
    "start_time": "2023-11-18T20:40:45.557Z"
   },
   {
    "duration": 26,
    "start_time": "2023-11-18T20:40:45.569Z"
   },
   {
    "duration": 11,
    "start_time": "2023-11-18T20:40:45.597Z"
   },
   {
    "duration": 16,
    "start_time": "2023-11-18T20:40:45.610Z"
   },
   {
    "duration": 10,
    "start_time": "2023-11-18T20:40:45.627Z"
   },
   {
    "duration": 19,
    "start_time": "2023-11-18T20:40:45.638Z"
   },
   {
    "duration": 10,
    "start_time": "2023-11-18T20:40:45.658Z"
   },
   {
    "duration": 28,
    "start_time": "2023-11-18T20:40:45.669Z"
   },
   {
    "duration": 24,
    "start_time": "2023-11-18T20:40:45.699Z"
   },
   {
    "duration": 24,
    "start_time": "2023-11-18T20:40:45.724Z"
   },
   {
    "duration": 20,
    "start_time": "2023-11-18T20:40:45.749Z"
   },
   {
    "duration": 32,
    "start_time": "2023-11-18T20:40:45.770Z"
   },
   {
    "duration": 9,
    "start_time": "2023-11-18T20:40:45.803Z"
   },
   {
    "duration": 15,
    "start_time": "2023-11-18T20:40:45.814Z"
   },
   {
    "duration": 38,
    "start_time": "2023-11-18T20:40:45.830Z"
   },
   {
    "duration": 33,
    "start_time": "2023-11-18T20:40:45.869Z"
   },
   {
    "duration": 40,
    "start_time": "2023-11-18T20:40:45.904Z"
   },
   {
    "duration": 314,
    "start_time": "2023-11-18T20:40:45.945Z"
   },
   {
    "duration": 269,
    "start_time": "2023-11-18T20:40:46.261Z"
   },
   {
    "duration": 7,
    "start_time": "2023-11-18T20:40:46.532Z"
   },
   {
    "duration": 57,
    "start_time": "2023-11-18T20:40:46.542Z"
   },
   {
    "duration": 733,
    "start_time": "2023-11-18T20:40:46.600Z"
   },
   {
    "duration": 30,
    "start_time": "2023-11-18T20:40:47.335Z"
   },
   {
    "duration": 1142,
    "start_time": "2023-11-18T20:40:47.367Z"
   },
   {
    "duration": 251,
    "start_time": "2023-11-18T20:40:48.510Z"
   },
   {
    "duration": 967,
    "start_time": "2023-11-18T20:40:48.762Z"
   },
   {
    "duration": 169,
    "start_time": "2023-11-18T20:40:49.731Z"
   },
   {
    "duration": 266,
    "start_time": "2023-11-18T20:40:49.902Z"
   },
   {
    "duration": 898,
    "start_time": "2023-11-18T20:40:50.169Z"
   },
   {
    "duration": 4,
    "start_time": "2023-11-18T20:40:51.069Z"
   },
   {
    "duration": 16,
    "start_time": "2023-11-18T20:40:51.075Z"
   },
   {
    "duration": 7,
    "start_time": "2023-11-18T20:40:51.093Z"
   },
   {
    "duration": 14,
    "start_time": "2023-11-18T20:40:51.101Z"
   },
   {
    "duration": 13,
    "start_time": "2023-11-18T20:43:16.317Z"
   },
   {
    "duration": 13,
    "start_time": "2023-11-18T20:43:26.935Z"
   },
   {
    "duration": 136,
    "start_time": "2023-11-18T20:43:44.333Z"
   },
   {
    "duration": 145,
    "start_time": "2023-11-18T20:44:07.526Z"
   },
   {
    "duration": 135,
    "start_time": "2023-11-18T20:44:41.229Z"
   },
   {
    "duration": 144,
    "start_time": "2023-11-18T20:45:19.777Z"
   },
   {
    "duration": 231,
    "start_time": "2023-11-18T20:45:41.025Z"
   },
   {
    "duration": 140,
    "start_time": "2023-11-18T20:45:46.329Z"
   },
   {
    "duration": 151,
    "start_time": "2023-11-18T20:46:37.661Z"
   },
   {
    "duration": 1015,
    "start_time": "2023-11-18T20:58:53.363Z"
   },
   {
    "duration": 79,
    "start_time": "2023-11-18T20:58:54.379Z"
   },
   {
    "duration": 18,
    "start_time": "2023-11-18T20:58:54.459Z"
   },
   {
    "duration": 15,
    "start_time": "2023-11-18T20:58:54.478Z"
   },
   {
    "duration": 2,
    "start_time": "2023-11-18T20:58:54.495Z"
   },
   {
    "duration": 17,
    "start_time": "2023-11-18T20:58:54.499Z"
   },
   {
    "duration": 4,
    "start_time": "2023-11-18T20:58:54.517Z"
   },
   {
    "duration": 34,
    "start_time": "2023-11-18T20:58:54.523Z"
   },
   {
    "duration": 14,
    "start_time": "2023-11-18T20:58:54.559Z"
   },
   {
    "duration": 5,
    "start_time": "2023-11-18T20:58:54.574Z"
   },
   {
    "duration": 12,
    "start_time": "2023-11-18T20:58:54.580Z"
   },
   {
    "duration": 7,
    "start_time": "2023-11-18T20:58:54.594Z"
   },
   {
    "duration": 9,
    "start_time": "2023-11-18T20:58:54.602Z"
   },
   {
    "duration": 4,
    "start_time": "2023-11-18T20:58:54.613Z"
   },
   {
    "duration": 14,
    "start_time": "2023-11-18T20:58:54.619Z"
   },
   {
    "duration": 5,
    "start_time": "2023-11-18T20:58:54.656Z"
   },
   {
    "duration": 14,
    "start_time": "2023-11-18T20:58:54.663Z"
   },
   {
    "duration": 9,
    "start_time": "2023-11-18T20:58:54.679Z"
   },
   {
    "duration": 13,
    "start_time": "2023-11-18T20:58:54.690Z"
   },
   {
    "duration": 8,
    "start_time": "2023-11-18T20:58:54.704Z"
   },
   {
    "duration": 5,
    "start_time": "2023-11-18T20:58:54.713Z"
   },
   {
    "duration": 44,
    "start_time": "2023-11-18T20:58:54.719Z"
   },
   {
    "duration": 6,
    "start_time": "2023-11-18T20:58:54.764Z"
   },
   {
    "duration": 13,
    "start_time": "2023-11-18T20:58:54.772Z"
   },
   {
    "duration": 334,
    "start_time": "2023-11-18T20:58:54.787Z"
   },
   {
    "duration": 280,
    "start_time": "2023-11-18T20:58:55.123Z"
   },
   {
    "duration": 9,
    "start_time": "2023-11-18T20:58:55.405Z"
   },
   {
    "duration": 48,
    "start_time": "2023-11-18T20:58:55.415Z"
   },
   {
    "duration": 777,
    "start_time": "2023-11-18T20:58:55.465Z"
   },
   {
    "duration": 21,
    "start_time": "2023-11-18T20:58:56.243Z"
   },
   {
    "duration": 1186,
    "start_time": "2023-11-18T20:58:56.265Z"
   },
   {
    "duration": 275,
    "start_time": "2023-11-18T20:58:57.456Z"
   },
   {
    "duration": 1008,
    "start_time": "2023-11-18T20:58:57.732Z"
   },
   {
    "duration": 173,
    "start_time": "2023-11-18T20:58:58.742Z"
   },
   {
    "duration": 265,
    "start_time": "2023-11-18T20:58:58.917Z"
   },
   {
    "duration": 908,
    "start_time": "2023-11-18T20:58:59.184Z"
   },
   {
    "duration": 4,
    "start_time": "2023-11-18T20:59:00.094Z"
   },
   {
    "duration": 181,
    "start_time": "2023-11-18T20:59:00.099Z"
   },
   {
    "duration": 8,
    "start_time": "2023-11-18T20:59:00.282Z"
   },
   {
    "duration": 40,
    "start_time": "2023-11-18T20:59:00.292Z"
   },
   {
    "duration": 304,
    "start_time": "2023-11-18T20:59:37.828Z"
   },
   {
    "duration": 256,
    "start_time": "2023-11-18T20:59:46.188Z"
   },
   {
    "duration": 982,
    "start_time": "2023-11-18T20:59:57.972Z"
   },
   {
    "duration": 98,
    "start_time": "2023-11-18T20:59:58.956Z"
   },
   {
    "duration": 17,
    "start_time": "2023-11-18T20:59:59.056Z"
   },
   {
    "duration": 19,
    "start_time": "2023-11-18T20:59:59.074Z"
   },
   {
    "duration": 2,
    "start_time": "2023-11-18T20:59:59.095Z"
   },
   {
    "duration": 21,
    "start_time": "2023-11-18T20:59:59.099Z"
   },
   {
    "duration": 3,
    "start_time": "2023-11-18T20:59:59.122Z"
   },
   {
    "duration": 18,
    "start_time": "2023-11-18T20:59:59.127Z"
   },
   {
    "duration": 19,
    "start_time": "2023-11-18T20:59:59.147Z"
   },
   {
    "duration": 14,
    "start_time": "2023-11-18T20:59:59.168Z"
   },
   {
    "duration": 11,
    "start_time": "2023-11-18T20:59:59.183Z"
   },
   {
    "duration": 18,
    "start_time": "2023-11-18T20:59:59.196Z"
   },
   {
    "duration": 12,
    "start_time": "2023-11-18T20:59:59.215Z"
   },
   {
    "duration": 17,
    "start_time": "2023-11-18T20:59:59.229Z"
   },
   {
    "duration": 34,
    "start_time": "2023-11-18T20:59:59.247Z"
   },
   {
    "duration": 14,
    "start_time": "2023-11-18T20:59:59.283Z"
   },
   {
    "duration": 22,
    "start_time": "2023-11-18T20:59:59.298Z"
   },
   {
    "duration": 7,
    "start_time": "2023-11-18T20:59:59.322Z"
   },
   {
    "duration": 18,
    "start_time": "2023-11-18T20:59:59.331Z"
   },
   {
    "duration": 30,
    "start_time": "2023-11-18T20:59:59.350Z"
   },
   {
    "duration": 6,
    "start_time": "2023-11-18T20:59:59.381Z"
   },
   {
    "duration": 15,
    "start_time": "2023-11-18T20:59:59.388Z"
   },
   {
    "duration": 5,
    "start_time": "2023-11-18T20:59:59.405Z"
   },
   {
    "duration": 40,
    "start_time": "2023-11-18T20:59:59.411Z"
   },
   {
    "duration": 318,
    "start_time": "2023-11-18T20:59:59.453Z"
   },
   {
    "duration": 263,
    "start_time": "2023-11-18T20:59:59.773Z"
   },
   {
    "duration": 9,
    "start_time": "2023-11-18T21:00:00.038Z"
   },
   {
    "duration": 149,
    "start_time": "2023-11-18T21:00:00.048Z"
   },
   {
    "duration": 1007,
    "start_time": "2023-11-18T21:00:00.199Z"
   },
   {
    "duration": 24,
    "start_time": "2023-11-18T21:00:01.208Z"
   },
   {
    "duration": 1460,
    "start_time": "2023-11-18T21:00:01.234Z"
   },
   {
    "duration": 262,
    "start_time": "2023-11-18T21:00:02.695Z"
   },
   {
    "duration": 1007,
    "start_time": "2023-11-18T21:00:02.958Z"
   },
   {
    "duration": 184,
    "start_time": "2023-11-18T21:00:03.966Z"
   },
   {
    "duration": 266,
    "start_time": "2023-11-18T21:00:04.155Z"
   },
   {
    "duration": 890,
    "start_time": "2023-11-18T21:00:04.423Z"
   },
   {
    "duration": 4,
    "start_time": "2023-11-18T21:00:05.315Z"
   },
   {
    "duration": 165,
    "start_time": "2023-11-18T21:00:05.321Z"
   },
   {
    "duration": 8,
    "start_time": "2023-11-18T21:00:05.487Z"
   },
   {
    "duration": 18,
    "start_time": "2023-11-18T21:00:05.496Z"
   },
   {
    "duration": 1100,
    "start_time": "2023-11-19T07:37:07.804Z"
   },
   {
    "duration": 158,
    "start_time": "2023-11-19T07:37:08.906Z"
   },
   {
    "duration": 20,
    "start_time": "2023-11-19T07:37:09.065Z"
   },
   {
    "duration": 16,
    "start_time": "2023-11-19T07:37:09.087Z"
   },
   {
    "duration": 8,
    "start_time": "2023-11-19T07:37:09.105Z"
   },
   {
    "duration": 24,
    "start_time": "2023-11-19T07:37:09.114Z"
   },
   {
    "duration": 5,
    "start_time": "2023-11-19T07:37:09.140Z"
   },
   {
    "duration": 19,
    "start_time": "2023-11-19T07:37:09.146Z"
   },
   {
    "duration": 18,
    "start_time": "2023-11-19T07:37:09.167Z"
   },
   {
    "duration": 18,
    "start_time": "2023-11-19T07:37:09.188Z"
   },
   {
    "duration": 25,
    "start_time": "2023-11-19T07:37:09.209Z"
   },
   {
    "duration": 27,
    "start_time": "2023-11-19T07:37:09.236Z"
   },
   {
    "duration": 9,
    "start_time": "2023-11-19T07:37:09.265Z"
   },
   {
    "duration": 8,
    "start_time": "2023-11-19T07:37:09.276Z"
   },
   {
    "duration": 8,
    "start_time": "2023-11-19T07:37:09.285Z"
   },
   {
    "duration": 8,
    "start_time": "2023-11-19T07:37:09.294Z"
   },
   {
    "duration": 19,
    "start_time": "2023-11-19T07:37:09.303Z"
   },
   {
    "duration": 11,
    "start_time": "2023-11-19T07:37:09.324Z"
   },
   {
    "duration": 20,
    "start_time": "2023-11-19T07:37:09.337Z"
   },
   {
    "duration": 9,
    "start_time": "2023-11-19T07:37:09.358Z"
   },
   {
    "duration": 3,
    "start_time": "2023-11-19T07:37:09.369Z"
   },
   {
    "duration": 39,
    "start_time": "2023-11-19T07:37:09.374Z"
   },
   {
    "duration": 11,
    "start_time": "2023-11-19T07:37:09.422Z"
   },
   {
    "duration": 31,
    "start_time": "2023-11-19T07:37:09.435Z"
   },
   {
    "duration": 385,
    "start_time": "2023-11-19T07:37:09.467Z"
   },
   {
    "duration": 325,
    "start_time": "2023-11-19T07:37:09.854Z"
   },
   {
    "duration": 9,
    "start_time": "2023-11-19T07:37:10.181Z"
   },
   {
    "duration": 52,
    "start_time": "2023-11-19T07:37:10.207Z"
   },
   {
    "duration": 909,
    "start_time": "2023-11-19T07:37:10.260Z"
   },
   {
    "duration": 36,
    "start_time": "2023-11-19T07:37:11.170Z"
   },
   {
    "duration": 1377,
    "start_time": "2023-11-19T07:37:11.208Z"
   },
   {
    "duration": 301,
    "start_time": "2023-11-19T07:37:12.587Z"
   },
   {
    "duration": 1176,
    "start_time": "2023-11-19T07:37:12.890Z"
   },
   {
    "duration": 200,
    "start_time": "2023-11-19T07:37:14.067Z"
   },
   {
    "duration": 289,
    "start_time": "2023-11-19T07:37:14.268Z"
   },
   {
    "duration": 1066,
    "start_time": "2023-11-19T07:37:14.559Z"
   },
   {
    "duration": 6,
    "start_time": "2023-11-19T07:37:15.626Z"
   },
   {
    "duration": 195,
    "start_time": "2023-11-19T07:37:15.634Z"
   },
   {
    "duration": 9,
    "start_time": "2023-11-19T07:37:15.831Z"
   },
   {
    "duration": 12,
    "start_time": "2023-11-19T07:37:15.843Z"
   }
  ],
  "kernelspec": {
   "display_name": "Python 3 (ipykernel)",
   "language": "python",
   "name": "python3"
  },
  "language_info": {
   "codemirror_mode": {
    "name": "ipython",
    "version": 3
   },
   "file_extension": ".py",
   "mimetype": "text/x-python",
   "name": "python",
   "nbconvert_exporter": "python",
   "pygments_lexer": "ipython3",
   "version": "3.11.5"
  },
  "toc": {
   "base_numbering": 1,
   "nav_menu": {},
   "number_sections": true,
   "sideBar": true,
   "skip_h1_title": true,
   "title_cell": "Table of Contents",
   "title_sidebar": "Contents",
   "toc_cell": false,
   "toc_position": {},
   "toc_section_display": true,
   "toc_window_display": false
  }
 },
 "nbformat": 4,
 "nbformat_minor": 4
}
